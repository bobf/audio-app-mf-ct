{
  "nbformat": 4,
  "nbformat_minor": 0,
  "metadata": {
    "kernelspec": {
      "name": "python3",
      "display_name": "Python 3"
    },
    "colab": {
      "name": "model_colab dev.ipynb",
      "provenance": [],
      "collapsed_sections": [
        "g5ZLivT8Ie_M",
        "F6sQdVtrsWHG",
        "4_p0MGBxsWHL",
        "VlbLIQoQsWHr",
        "aFrXfbOlsWIB"
      ],
      "toc_visible": true,
      "include_colab_link": true
    },
    "accelerator": "GPU"
  },
  "cells": [
    {
      "cell_type": "markdown",
      "metadata": {
        "id": "view-in-github",
        "colab_type": "text"
      },
      "source": [
        "<a href=\"https://colab.research.google.com/github/mikful/audio-app-mf-ct/blob/master/model_colab_dev.ipynb\" target=\"_parent\"><img src=\"https://colab.research.google.com/assets/colab-badge.svg\" alt=\"Open In Colab\"/></a>"
      ]
    },
    {
      "cell_type": "markdown",
      "metadata": {
        "id": "rk6Sc9PhsWCV",
        "colab_type": "text"
      },
      "source": [
        "# Audio classification model training - Freesound 2019 Kaggle Competition dataset\n",
        "\n",
        "* Model - pretrained fastai2 xresnet50 using fastai2 audio library\n",
        "* Dataset - Curated Train Set from Kaggle Freesound 2019 Competition, multi-label 80 classes\n"
      ]
    },
    {
      "cell_type": "markdown",
      "metadata": {
        "id": "N_C3LR2lsWCb",
        "colab_type": "text"
      },
      "source": [
        "**fastai2_audio**\n",
        "\n",
        "The additional requirements of the fastai2_audio package will be dealt with below, using a clone of the following repo:\n",
        "\n",
        "https://github.com/rbracco/fastai2_audio\n",
        "\n",
        "The demo was run and tested by deploying an SageMaker Notebook instance as per the instructions outlined [here] (https://forums.fast.ai/t/platform-amazon-sagemaker-aws/66020).\n",
        "\n",
        "Note - the above link is only accessible as part of the ongoing fastai course for the time being."
      ]
    },
    {
      "cell_type": "code",
      "metadata": {
        "id": "hVihFfzrh1QY",
        "colab_type": "code",
        "outputId": "7d9d6782-402f-4fc6-96c3-1674aedfa975",
        "colab": {
          "base_uri": "https://localhost:8080/",
          "height": 306
        }
      },
      "source": [
        "# See runtime gpu info\n",
        "gpu_info = !nvidia-smi\n",
        "gpu_info = '\\n'.join(gpu_info)\n",
        "if gpu_info.find('failed') >= 0:\n",
        "  print('Select the Runtime → \"Change runtime type\" menu to enable a GPU accelerator, ')\n",
        "  print('and then re-execute this cell.')\n",
        "else:\n",
        "  print(gpu_info)"
      ],
      "execution_count": 1,
      "outputs": [
        {
          "output_type": "stream",
          "text": [
            "Tue May  5 20:46:17 2020       \n",
            "+-----------------------------------------------------------------------------+\n",
            "| NVIDIA-SMI 440.82       Driver Version: 418.67       CUDA Version: 10.1     |\n",
            "|-------------------------------+----------------------+----------------------+\n",
            "| GPU  Name        Persistence-M| Bus-Id        Disp.A | Volatile Uncorr. ECC |\n",
            "| Fan  Temp  Perf  Pwr:Usage/Cap|         Memory-Usage | GPU-Util  Compute M. |\n",
            "|===============================+======================+======================|\n",
            "|   0  Tesla P100-PCIE...  Off  | 00000000:00:04.0 Off |                    0 |\n",
            "| N/A   45C    P0    29W / 250W |      0MiB / 16280MiB |      0%      Default |\n",
            "+-------------------------------+----------------------+----------------------+\n",
            "                                                                               \n",
            "+-----------------------------------------------------------------------------+\n",
            "| Processes:                                                       GPU Memory |\n",
            "|  GPU       PID   Type   Process name                             Usage      |\n",
            "|=============================================================================|\n",
            "|  No running processes found                                                 |\n",
            "+-----------------------------------------------------------------------------+\n"
          ],
          "name": "stdout"
        }
      ]
    },
    {
      "cell_type": "markdown",
      "metadata": {
        "id": "g2O5mwC2gI_U",
        "colab_type": "text"
      },
      "source": [
        "## Mount Google drive and Unzip data"
      ]
    },
    {
      "cell_type": "code",
      "metadata": {
        "id": "4O5wjvwRgCDk",
        "colab_type": "code",
        "colab": {
          "base_uri": "https://localhost:8080/",
          "height": 122
        },
        "outputId": "8cc25f0a-e315-4e2c-9a2f-5461af891a1d"
      },
      "source": [
        "from google.colab import drive\n",
        "drive.mount('/content/drive')"
      ],
      "execution_count": 2,
      "outputs": [
        {
          "output_type": "stream",
          "text": [
            "Go to this URL in a browser: https://accounts.google.com/o/oauth2/auth?client_id=947318989803-6bn6qk8qdgf4n4g3pfee6491hc0brc4i.apps.googleusercontent.com&redirect_uri=urn%3aietf%3awg%3aoauth%3a2.0%3aoob&response_type=code&scope=email%20https%3a%2f%2fwww.googleapis.com%2fauth%2fdocs.test%20https%3a%2f%2fwww.googleapis.com%2fauth%2fdrive%20https%3a%2f%2fwww.googleapis.com%2fauth%2fdrive.photos.readonly%20https%3a%2f%2fwww.googleapis.com%2fauth%2fpeopleapi.readonly\n",
            "\n",
            "Enter your authorization code:\n",
            "··········\n",
            "Mounted at /content/drive\n"
          ],
          "name": "stdout"
        }
      ]
    },
    {
      "cell_type": "code",
      "metadata": {
        "id": "al0fC5dYgTBD",
        "colab_type": "code",
        "colab": {}
      },
      "source": [
        "!unzip -d '../content/train_curated' -qq  \"/content/drive/My Drive/Machine_Learning/My_Projects/19009 - Freesound 2019/train_curated.zip\""
      ],
      "execution_count": 0,
      "outputs": []
    },
    {
      "cell_type": "code",
      "metadata": {
        "id": "aS-KcMDAno1S",
        "colab_type": "code",
        "colab": {}
      },
      "source": [
        "!cp \"/content/drive/My Drive/Machine_Learning/My_Projects/19009 - Freesound 2019/train_curated.csv\" '../content' "
      ],
      "execution_count": 0,
      "outputs": []
    },
    {
      "cell_type": "code",
      "metadata": {
        "id": "p2l6XDyj0n8c",
        "colab_type": "code",
        "outputId": "964d8638-5ca4-4c28-b2c5-ab66480c285a",
        "colab": {
          "base_uri": "https://localhost:8080/",
          "height": 34
        }
      },
      "source": [
        "import os\n",
        "files = os.listdir('../content/train_curated')\n",
        "len(files)"
      ],
      "execution_count": 6,
      "outputs": [
        {
          "output_type": "execute_result",
          "data": {
            "text/plain": [
              "4970"
            ]
          },
          "metadata": {
            "tags": []
          },
          "execution_count": 6
        }
      ]
    },
    {
      "cell_type": "markdown",
      "metadata": {
        "id": "sqkfnPsxvUG7",
        "colab_type": "text"
      },
      "source": [
        "## COLAB ONLY - INSTALL FASTAI2"
      ]
    },
    {
      "cell_type": "code",
      "metadata": {
        "id": "SLc5PWxdvYkb",
        "colab_type": "code",
        "outputId": "6c34bac0-9fbb-4c2f-c0bd-704e647e99f8",
        "colab": {
          "base_uri": "https://localhost:8080/",
          "height": 802
        }
      },
      "source": [
        "#Run once per session\n",
        "#In Colab we need to run this as a notebook command )i.e. no '!' infront of 'pip'\n",
        "#This is in comparison to shell commands i.e. with '!' infront of 'pip'\n",
        "pip install fastai2"
      ],
      "execution_count": 7,
      "outputs": [
        {
          "output_type": "stream",
          "text": [
            "Collecting fastai2\n",
            "\u001b[?25l  Downloading https://files.pythonhosted.org/packages/26/4f/0f61bb0d376eb47c20430639bac4946ca0cffcd7e693fb86698656324f2d/fastai2-0.0.17-py3-none-any.whl (190kB)\n",
            "\r\u001b[K     |█▊                              | 10kB 22.7MB/s eta 0:00:01\r\u001b[K     |███▌                            | 20kB 4.1MB/s eta 0:00:01\r\u001b[K     |█████▏                          | 30kB 5.8MB/s eta 0:00:01\r\u001b[K     |███████                         | 40kB 7.4MB/s eta 0:00:01\r\u001b[K     |████████▋                       | 51kB 4.9MB/s eta 0:00:01\r\u001b[K     |██████████▍                     | 61kB 5.8MB/s eta 0:00:01\r\u001b[K     |████████████                    | 71kB 6.6MB/s eta 0:00:01\r\u001b[K     |█████████████▉                  | 81kB 7.3MB/s eta 0:00:01\r\u001b[K     |███████████████▌                | 92kB 5.8MB/s eta 0:00:01\r\u001b[K     |█████████████████▎              | 102kB 6.4MB/s eta 0:00:01\r\u001b[K     |███████████████████             | 112kB 6.4MB/s eta 0:00:01\r\u001b[K     |████████████████████▊           | 122kB 6.4MB/s eta 0:00:01\r\u001b[K     |██████████████████████▍         | 133kB 6.4MB/s eta 0:00:01\r\u001b[K     |████████████████████████▏       | 143kB 6.4MB/s eta 0:00:01\r\u001b[K     |█████████████████████████▉      | 153kB 6.4MB/s eta 0:00:01\r\u001b[K     |███████████████████████████▋    | 163kB 6.4MB/s eta 0:00:01\r\u001b[K     |█████████████████████████████▎  | 174kB 6.4MB/s eta 0:00:01\r\u001b[K     |███████████████████████████████ | 184kB 6.4MB/s eta 0:00:01\r\u001b[K     |████████████████████████████████| 194kB 6.4MB/s \n",
            "\u001b[?25hRequirement already satisfied: scipy in /usr/local/lib/python3.6/dist-packages (from fastai2) (1.4.1)\n",
            "Requirement already satisfied: requests in /usr/local/lib/python3.6/dist-packages (from fastai2) (2.23.0)\n",
            "Requirement already satisfied: torch>=1.3.0 in /usr/local/lib/python3.6/dist-packages (from fastai2) (1.5.0+cu101)\n",
            "Requirement already satisfied: pillow in /usr/local/lib/python3.6/dist-packages (from fastai2) (7.0.0)\n",
            "Requirement already satisfied: matplotlib in /usr/local/lib/python3.6/dist-packages (from fastai2) (3.2.1)\n",
            "Requirement already satisfied: torchvision>=0.5 in /usr/local/lib/python3.6/dist-packages (from fastai2) (0.6.0+cu101)\n",
            "Requirement already satisfied: spacy in /usr/local/lib/python3.6/dist-packages (from fastai2) (2.2.4)\n",
            "Requirement already satisfied: scikit-learn in /usr/local/lib/python3.6/dist-packages (from fastai2) (0.22.2.post1)\n",
            "Requirement already satisfied: pandas in /usr/local/lib/python3.6/dist-packages (from fastai2) (1.0.3)\n",
            "Collecting fastcore\n",
            "  Downloading https://files.pythonhosted.org/packages/dd/f3/8cd2e1ed981b0ddbe4d56e5d44f52c9e56d27ac7d53c30abb534d10c82c2/fastcore-0.1.17-py3-none-any.whl\n",
            "Requirement already satisfied: fastprogress>=0.1.22 in /usr/local/lib/python3.6/dist-packages (from fastai2) (0.2.3)\n",
            "Requirement already satisfied: pyyaml in /usr/local/lib/python3.6/dist-packages (from fastai2) (3.13)\n",
            "Requirement already satisfied: numpy>=1.13.3 in /usr/local/lib/python3.6/dist-packages (from scipy->fastai2) (1.18.3)\n",
            "Requirement already satisfied: idna<3,>=2.5 in /usr/local/lib/python3.6/dist-packages (from requests->fastai2) (2.9)\n",
            "Requirement already satisfied: urllib3!=1.25.0,!=1.25.1,<1.26,>=1.21.1 in /usr/local/lib/python3.6/dist-packages (from requests->fastai2) (1.24.3)\n",
            "Requirement already satisfied: chardet<4,>=3.0.2 in /usr/local/lib/python3.6/dist-packages (from requests->fastai2) (3.0.4)\n",
            "Requirement already satisfied: certifi>=2017.4.17 in /usr/local/lib/python3.6/dist-packages (from requests->fastai2) (2020.4.5.1)\n",
            "Requirement already satisfied: future in /usr/local/lib/python3.6/dist-packages (from torch>=1.3.0->fastai2) (0.16.0)\n",
            "Requirement already satisfied: python-dateutil>=2.1 in /usr/local/lib/python3.6/dist-packages (from matplotlib->fastai2) (2.8.1)\n",
            "Requirement already satisfied: pyparsing!=2.0.4,!=2.1.2,!=2.1.6,>=2.0.1 in /usr/local/lib/python3.6/dist-packages (from matplotlib->fastai2) (2.4.7)\n",
            "Requirement already satisfied: cycler>=0.10 in /usr/local/lib/python3.6/dist-packages (from matplotlib->fastai2) (0.10.0)\n",
            "Requirement already satisfied: kiwisolver>=1.0.1 in /usr/local/lib/python3.6/dist-packages (from matplotlib->fastai2) (1.2.0)\n",
            "Requirement already satisfied: preshed<3.1.0,>=3.0.2 in /usr/local/lib/python3.6/dist-packages (from spacy->fastai2) (3.0.2)\n",
            "Requirement already satisfied: wasabi<1.1.0,>=0.4.0 in /usr/local/lib/python3.6/dist-packages (from spacy->fastai2) (0.6.0)\n",
            "Requirement already satisfied: srsly<1.1.0,>=1.0.2 in /usr/local/lib/python3.6/dist-packages (from spacy->fastai2) (1.0.2)\n",
            "Requirement already satisfied: thinc==7.4.0 in /usr/local/lib/python3.6/dist-packages (from spacy->fastai2) (7.4.0)\n",
            "Requirement already satisfied: setuptools in /usr/local/lib/python3.6/dist-packages (from spacy->fastai2) (46.1.3)\n",
            "Requirement already satisfied: blis<0.5.0,>=0.4.0 in /usr/local/lib/python3.6/dist-packages (from spacy->fastai2) (0.4.1)\n",
            "Requirement already satisfied: murmurhash<1.1.0,>=0.28.0 in /usr/local/lib/python3.6/dist-packages (from spacy->fastai2) (1.0.2)\n",
            "Requirement already satisfied: cymem<2.1.0,>=2.0.2 in /usr/local/lib/python3.6/dist-packages (from spacy->fastai2) (2.0.3)\n",
            "Requirement already satisfied: catalogue<1.1.0,>=0.0.7 in /usr/local/lib/python3.6/dist-packages (from spacy->fastai2) (1.0.0)\n",
            "Requirement already satisfied: plac<1.2.0,>=0.9.6 in /usr/local/lib/python3.6/dist-packages (from spacy->fastai2) (1.1.3)\n",
            "Requirement already satisfied: tqdm<5.0.0,>=4.38.0 in /usr/local/lib/python3.6/dist-packages (from spacy->fastai2) (4.38.0)\n",
            "Requirement already satisfied: joblib>=0.11 in /usr/local/lib/python3.6/dist-packages (from scikit-learn->fastai2) (0.14.1)\n",
            "Requirement already satisfied: pytz>=2017.2 in /usr/local/lib/python3.6/dist-packages (from pandas->fastai2) (2018.9)\n",
            "Requirement already satisfied: dataclasses>='0.7'; python_version < \"3.7\" in /usr/local/lib/python3.6/dist-packages (from fastcore->fastai2) (0.7)\n",
            "Requirement already satisfied: six>=1.5 in /usr/local/lib/python3.6/dist-packages (from python-dateutil>=2.1->matplotlib->fastai2) (1.12.0)\n",
            "Requirement already satisfied: importlib-metadata>=0.20; python_version < \"3.8\" in /usr/local/lib/python3.6/dist-packages (from catalogue<1.1.0,>=0.0.7->spacy->fastai2) (1.6.0)\n",
            "Requirement already satisfied: zipp>=0.5 in /usr/local/lib/python3.6/dist-packages (from importlib-metadata>=0.20; python_version < \"3.8\"->catalogue<1.1.0,>=0.0.7->spacy->fastai2) (3.1.0)\n",
            "Installing collected packages: fastcore, fastai2\n",
            "Successfully installed fastai2-0.0.17 fastcore-0.1.17\n"
          ],
          "name": "stdout"
        }
      ]
    },
    {
      "cell_type": "markdown",
      "metadata": {
        "id": "ycpfB-G4sWCd",
        "colab_type": "text"
      },
      "source": [
        "## Install the fastai2_audio library\n",
        "\n",
        "We need to install the fastai2_audio library to the local kernel/environment for the analysis\n",
        "\n",
        "Note the lack of `!pip` (that install to the root env) but rather standard `pip` (that installs to the current kernl/env)..."
      ]
    },
    {
      "cell_type": "code",
      "metadata": {
        "scrolled": true,
        "id": "B7ogGfTcsWCf",
        "colab_type": "code",
        "outputId": "8b029a0c-1065-4c04-bc43-4877420e3eea",
        "colab": {
          "base_uri": "https://localhost:8080/",
          "height": 1000
        }
      },
      "source": [
        "#In Colab we need to run this as a shell command i.e. with '!' infront of 'pip'\n",
        "\n",
        "!pip install git+https://github.com/mikful/fastai2_audio.git"
      ],
      "execution_count": 8,
      "outputs": [
        {
          "output_type": "stream",
          "text": [
            "Collecting git+https://github.com/mikful/fastai2_audio.git\n",
            "  Cloning https://github.com/mikful/fastai2_audio.git to /tmp/pip-req-build-ixpjmniv\n",
            "  Running command git clone -q https://github.com/mikful/fastai2_audio.git /tmp/pip-req-build-ixpjmniv\n",
            "Collecting torchaudio\n",
            "\u001b[?25l  Downloading https://files.pythonhosted.org/packages/9c/7d/8e01e21175dd2c9bb1b7e014e0c56cdd02618e2db5bebb4f52f6fdf253cb/torchaudio-0.5.0-cp36-cp36m-manylinux1_x86_64.whl (3.2MB)\n",
            "\u001b[K     |████████████████████████████████| 3.2MB 6.2MB/s \n",
            "\u001b[?25hRequirement already satisfied: librosa in /usr/local/lib/python3.6/dist-packages (from fastai2-audio==0.0.1) (0.6.3)\n",
            "Collecting soundfile\n",
            "  Downloading https://files.pythonhosted.org/packages/eb/f2/3cbbbf3b96fb9fa91582c438b574cff3f45b29c772f94c400e2c99ef5db9/SoundFile-0.10.3.post1-py2.py3-none-any.whl\n",
            "Requirement already satisfied: fastai2 in /usr/local/lib/python3.6/dist-packages (from fastai2-audio==0.0.1) (0.0.17)\n",
            "Collecting colorednoise\n",
            "  Downloading https://files.pythonhosted.org/packages/a3/3e/85645bcaa5ba6003c6e3c650fe23c6352f7aa4a36eb1d700f3609e52963e/colorednoise-1.1.1.tar.gz\n",
            "Requirement already satisfied: torch==1.5.0 in /usr/local/lib/python3.6/dist-packages (from torchaudio->fastai2-audio==0.0.1) (1.5.0+cu101)\n",
            "Requirement already satisfied: scipy>=1.0.0 in /usr/local/lib/python3.6/dist-packages (from librosa->fastai2-audio==0.0.1) (1.4.1)\n",
            "Requirement already satisfied: decorator>=3.0.0 in /usr/local/lib/python3.6/dist-packages (from librosa->fastai2-audio==0.0.1) (4.4.2)\n",
            "Requirement already satisfied: joblib>=0.12 in /usr/local/lib/python3.6/dist-packages (from librosa->fastai2-audio==0.0.1) (0.14.1)\n",
            "Requirement already satisfied: scikit-learn!=0.19.0,>=0.14.0 in /usr/local/lib/python3.6/dist-packages (from librosa->fastai2-audio==0.0.1) (0.22.2.post1)\n",
            "Requirement already satisfied: audioread>=2.0.0 in /usr/local/lib/python3.6/dist-packages (from librosa->fastai2-audio==0.0.1) (2.1.8)\n",
            "Requirement already satisfied: numba>=0.38.0 in /usr/local/lib/python3.6/dist-packages (from librosa->fastai2-audio==0.0.1) (0.48.0)\n",
            "Requirement already satisfied: resampy>=0.2.0 in /usr/local/lib/python3.6/dist-packages (from librosa->fastai2-audio==0.0.1) (0.2.2)\n",
            "Requirement already satisfied: six>=1.3 in /usr/local/lib/python3.6/dist-packages (from librosa->fastai2-audio==0.0.1) (1.12.0)\n",
            "Requirement already satisfied: numpy>=1.8.0 in /usr/local/lib/python3.6/dist-packages (from librosa->fastai2-audio==0.0.1) (1.18.3)\n",
            "Requirement already satisfied: cffi>=1.0 in /usr/local/lib/python3.6/dist-packages (from soundfile->fastai2-audio==0.0.1) (1.14.0)\n",
            "Requirement already satisfied: requests in /usr/local/lib/python3.6/dist-packages (from fastai2->fastai2-audio==0.0.1) (2.23.0)\n",
            "Requirement already satisfied: fastprogress>=0.1.22 in /usr/local/lib/python3.6/dist-packages (from fastai2->fastai2-audio==0.0.1) (0.2.3)\n",
            "Requirement already satisfied: pyyaml in /usr/local/lib/python3.6/dist-packages (from fastai2->fastai2-audio==0.0.1) (3.13)\n",
            "Requirement already satisfied: pillow in /usr/local/lib/python3.6/dist-packages (from fastai2->fastai2-audio==0.0.1) (7.0.0)\n",
            "Requirement already satisfied: pandas in /usr/local/lib/python3.6/dist-packages (from fastai2->fastai2-audio==0.0.1) (1.0.3)\n",
            "Requirement already satisfied: spacy in /usr/local/lib/python3.6/dist-packages (from fastai2->fastai2-audio==0.0.1) (2.2.4)\n",
            "Requirement already satisfied: matplotlib in /usr/local/lib/python3.6/dist-packages (from fastai2->fastai2-audio==0.0.1) (3.2.1)\n",
            "Requirement already satisfied: fastcore in /usr/local/lib/python3.6/dist-packages (from fastai2->fastai2-audio==0.0.1) (0.1.17)\n",
            "Requirement already satisfied: torchvision>=0.5 in /usr/local/lib/python3.6/dist-packages (from fastai2->fastai2-audio==0.0.1) (0.6.0+cu101)\n",
            "Requirement already satisfied: future in /usr/local/lib/python3.6/dist-packages (from torch==1.5.0->torchaudio->fastai2-audio==0.0.1) (0.16.0)\n",
            "Requirement already satisfied: setuptools in /usr/local/lib/python3.6/dist-packages (from numba>=0.38.0->librosa->fastai2-audio==0.0.1) (46.1.3)\n",
            "Requirement already satisfied: llvmlite<0.32.0,>=0.31.0dev0 in /usr/local/lib/python3.6/dist-packages (from numba>=0.38.0->librosa->fastai2-audio==0.0.1) (0.31.0)\n",
            "Requirement already satisfied: pycparser in /usr/local/lib/python3.6/dist-packages (from cffi>=1.0->soundfile->fastai2-audio==0.0.1) (2.20)\n",
            "Requirement already satisfied: certifi>=2017.4.17 in /usr/local/lib/python3.6/dist-packages (from requests->fastai2->fastai2-audio==0.0.1) (2020.4.5.1)\n",
            "Requirement already satisfied: idna<3,>=2.5 in /usr/local/lib/python3.6/dist-packages (from requests->fastai2->fastai2-audio==0.0.1) (2.9)\n",
            "Requirement already satisfied: urllib3!=1.25.0,!=1.25.1,<1.26,>=1.21.1 in /usr/local/lib/python3.6/dist-packages (from requests->fastai2->fastai2-audio==0.0.1) (1.24.3)\n",
            "Requirement already satisfied: chardet<4,>=3.0.2 in /usr/local/lib/python3.6/dist-packages (from requests->fastai2->fastai2-audio==0.0.1) (3.0.4)\n",
            "Requirement already satisfied: pytz>=2017.2 in /usr/local/lib/python3.6/dist-packages (from pandas->fastai2->fastai2-audio==0.0.1) (2018.9)\n",
            "Requirement already satisfied: python-dateutil>=2.6.1 in /usr/local/lib/python3.6/dist-packages (from pandas->fastai2->fastai2-audio==0.0.1) (2.8.1)\n",
            "Requirement already satisfied: thinc==7.4.0 in /usr/local/lib/python3.6/dist-packages (from spacy->fastai2->fastai2-audio==0.0.1) (7.4.0)\n",
            "Requirement already satisfied: blis<0.5.0,>=0.4.0 in /usr/local/lib/python3.6/dist-packages (from spacy->fastai2->fastai2-audio==0.0.1) (0.4.1)\n",
            "Requirement already satisfied: wasabi<1.1.0,>=0.4.0 in /usr/local/lib/python3.6/dist-packages (from spacy->fastai2->fastai2-audio==0.0.1) (0.6.0)\n",
            "Requirement already satisfied: catalogue<1.1.0,>=0.0.7 in /usr/local/lib/python3.6/dist-packages (from spacy->fastai2->fastai2-audio==0.0.1) (1.0.0)\n",
            "Requirement already satisfied: plac<1.2.0,>=0.9.6 in /usr/local/lib/python3.6/dist-packages (from spacy->fastai2->fastai2-audio==0.0.1) (1.1.3)\n",
            "Requirement already satisfied: cymem<2.1.0,>=2.0.2 in /usr/local/lib/python3.6/dist-packages (from spacy->fastai2->fastai2-audio==0.0.1) (2.0.3)\n",
            "Requirement already satisfied: murmurhash<1.1.0,>=0.28.0 in /usr/local/lib/python3.6/dist-packages (from spacy->fastai2->fastai2-audio==0.0.1) (1.0.2)\n",
            "Requirement already satisfied: preshed<3.1.0,>=3.0.2 in /usr/local/lib/python3.6/dist-packages (from spacy->fastai2->fastai2-audio==0.0.1) (3.0.2)\n",
            "Requirement already satisfied: srsly<1.1.0,>=1.0.2 in /usr/local/lib/python3.6/dist-packages (from spacy->fastai2->fastai2-audio==0.0.1) (1.0.2)\n",
            "Requirement already satisfied: tqdm<5.0.0,>=4.38.0 in /usr/local/lib/python3.6/dist-packages (from spacy->fastai2->fastai2-audio==0.0.1) (4.38.0)\n",
            "Requirement already satisfied: kiwisolver>=1.0.1 in /usr/local/lib/python3.6/dist-packages (from matplotlib->fastai2->fastai2-audio==0.0.1) (1.2.0)\n",
            "Requirement already satisfied: cycler>=0.10 in /usr/local/lib/python3.6/dist-packages (from matplotlib->fastai2->fastai2-audio==0.0.1) (0.10.0)\n",
            "Requirement already satisfied: pyparsing!=2.0.4,!=2.1.2,!=2.1.6,>=2.0.1 in /usr/local/lib/python3.6/dist-packages (from matplotlib->fastai2->fastai2-audio==0.0.1) (2.4.7)\n",
            "Requirement already satisfied: dataclasses>='0.7'; python_version < \"3.7\" in /usr/local/lib/python3.6/dist-packages (from fastcore->fastai2->fastai2-audio==0.0.1) (0.7)\n",
            "Requirement already satisfied: importlib-metadata>=0.20; python_version < \"3.8\" in /usr/local/lib/python3.6/dist-packages (from catalogue<1.1.0,>=0.0.7->spacy->fastai2->fastai2-audio==0.0.1) (1.6.0)\n",
            "Requirement already satisfied: zipp>=0.5 in /usr/local/lib/python3.6/dist-packages (from importlib-metadata>=0.20; python_version < \"3.8\"->catalogue<1.1.0,>=0.0.7->spacy->fastai2->fastai2-audio==0.0.1) (3.1.0)\n",
            "Building wheels for collected packages: fastai2-audio, colorednoise\n",
            "  Building wheel for fastai2-audio (setup.py) ... \u001b[?25l\u001b[?25hdone\n",
            "  Created wheel for fastai2-audio: filename=fastai2_audio-0.0.1-cp36-none-any.whl size=15764 sha256=e41264d5edbedd90fafa779fe291ba0ca909a4336e8c40ab99ed247794a57962\n",
            "  Stored in directory: /tmp/pip-ephem-wheel-cache-bo7y5bty/wheels/21/78/26/cd4f9a6750539feda2dab7cbe11110f74ebadaff3c863f8b51\n",
            "  Building wheel for colorednoise (setup.py) ... \u001b[?25l\u001b[?25hdone\n",
            "  Created wheel for colorednoise: filename=colorednoise-1.1.1-cp36-none-any.whl size=3958 sha256=424728e1886da2a91ba8b05ba117d436480ab6899de627268c6d4849ab6f5145\n",
            "  Stored in directory: /root/.cache/pip/wheels/84/be/f3/3e7e1c80ebab3f6f0dbd3e34e787b902d2280d66706485fef4\n",
            "Successfully built fastai2-audio colorednoise\n",
            "Installing collected packages: torchaudio, soundfile, colorednoise, fastai2-audio\n",
            "Successfully installed colorednoise-1.1.1 fastai2-audio-0.0.1 soundfile-0.10.3.post1 torchaudio-0.5.0\n"
          ],
          "name": "stdout"
        }
      ]
    },
    {
      "cell_type": "code",
      "metadata": {
        "id": "F2gUqCfWsWCm",
        "colab_type": "code",
        "colab": {}
      },
      "source": [
        "# Solving an OSError problem with Librosa SoundFile dependency (libsndfile)\n",
        "# SageMaker/GCP Only\n",
        "\n",
        "# !conda install -c conda-forge libsndfile --yes"
      ],
      "execution_count": 0,
      "outputs": []
    },
    {
      "cell_type": "markdown",
      "metadata": {
        "id": "hWCdC9SesWCs",
        "colab_type": "text"
      },
      "source": [
        "# Train the fastai model\n",
        "First we will train our fastai model on the notebook instance using the kernel named `fastai2`.\n",
        "\n",
        "The audio package analysis follows guidance given within: https://github.com/muellerzr/Practical-Deep-Learning-for-Coders-2.0/blob/master/Computer%20Vision/07_Audio.ipynb"
      ]
    },
    {
      "cell_type": "code",
      "metadata": {
        "id": "CjNZwPO-sWCu",
        "colab_type": "code",
        "colab": {}
      },
      "source": [
        "from fastai2.vision.all import *\n",
        "from fastai2_audio.core import *\n",
        "from fastai2_audio.augment import *"
      ],
      "execution_count": 0,
      "outputs": []
    },
    {
      "cell_type": "markdown",
      "metadata": {
        "id": "wrVPGqs4sWC0",
        "colab_type": "text"
      },
      "source": [
        "**Create Dataframes from csv files**\n",
        "\n",
        "**Note: Delete Corrupted and empty files list in Kaggle Competition Note**\n",
        "\n",
        "*The following 5 audio files in the curated train set have a wrong label, due to a bug in the file renaming process: f76181c4.wav, 77b925c2.wav, 6a1f682a.wav, c7db12aa.wav, 7752cc8a.wav*\n",
        "\n",
        "*The audio file 1d44b0bd.wav in the curated train set was found to be corrupted (contains no signal) due to an error in format conversion.*"
      ]
    },
    {
      "cell_type": "code",
      "metadata": {
        "id": "CtlGpnA4sWC2",
        "colab_type": "code",
        "colab": {}
      },
      "source": [
        "# Create train_curated Dataframe\n",
        "\n",
        "def create_train_curated_df(file, remove_files=[]):\n",
        "    df_curated = pd.read_csv(file)\n",
        "    df_curated.set_index('fname', inplace=True)\n",
        "    df_curated.loc[remove_files]\n",
        "    df_curated.drop(index=remove_files, inplace=True)\n",
        "    df_curated.reset_index(inplace=True)\n",
        "    return df_curated"
      ],
      "execution_count": 0,
      "outputs": []
    },
    {
      "cell_type": "code",
      "metadata": {
        "id": "xBEgDDVEsWC8",
        "colab_type": "code",
        "outputId": "49f9d179-a6dc-4c15-a788-07c1f090486c",
        "colab": {
          "base_uri": "https://localhost:8080/",
          "height": 204
        }
      },
      "source": [
        "# Create Curated training set df\n",
        "\n",
        "# Remove corrupt and empty files as per Kaggle\n",
        "\n",
        "remove_files = ['f76181c4.wav', '77b925c2.wav', '6a1f682a.wav', 'c7db12aa.wav', '7752cc8a.wav', '1d44b0bd.wav']\n",
        "df_curated = create_train_curated_df('../content/train_curated.csv', remove_files=remove_files)\n",
        "df_curated.head()"
      ],
      "execution_count": 18,
      "outputs": [
        {
          "output_type": "execute_result",
          "data": {
            "text/html": [
              "<div>\n",
              "<style scoped>\n",
              "    .dataframe tbody tr th:only-of-type {\n",
              "        vertical-align: middle;\n",
              "    }\n",
              "\n",
              "    .dataframe tbody tr th {\n",
              "        vertical-align: top;\n",
              "    }\n",
              "\n",
              "    .dataframe thead th {\n",
              "        text-align: right;\n",
              "    }\n",
              "</style>\n",
              "<table border=\"1\" class=\"dataframe\">\n",
              "  <thead>\n",
              "    <tr style=\"text-align: right;\">\n",
              "      <th></th>\n",
              "      <th>fname</th>\n",
              "      <th>labels</th>\n",
              "    </tr>\n",
              "  </thead>\n",
              "  <tbody>\n",
              "    <tr>\n",
              "      <th>0</th>\n",
              "      <td>0006ae4e.wav</td>\n",
              "      <td>Bark</td>\n",
              "    </tr>\n",
              "    <tr>\n",
              "      <th>1</th>\n",
              "      <td>0019ef41.wav</td>\n",
              "      <td>Raindrop</td>\n",
              "    </tr>\n",
              "    <tr>\n",
              "      <th>2</th>\n",
              "      <td>001ec0ad.wav</td>\n",
              "      <td>Finger_snapping</td>\n",
              "    </tr>\n",
              "    <tr>\n",
              "      <th>3</th>\n",
              "      <td>0026c7cb.wav</td>\n",
              "      <td>Run</td>\n",
              "    </tr>\n",
              "    <tr>\n",
              "      <th>4</th>\n",
              "      <td>0026f116.wav</td>\n",
              "      <td>Finger_snapping</td>\n",
              "    </tr>\n",
              "  </tbody>\n",
              "</table>\n",
              "</div>"
            ],
            "text/plain": [
              "          fname           labels\n",
              "0  0006ae4e.wav             Bark\n",
              "1  0019ef41.wav         Raindrop\n",
              "2  001ec0ad.wav  Finger_snapping\n",
              "3  0026c7cb.wav              Run\n",
              "4  0026f116.wav  Finger_snapping"
            ]
          },
          "metadata": {
            "tags": []
          },
          "execution_count": 18
        }
      ]
    },
    {
      "cell_type": "code",
      "metadata": {
        "id": "zo--M-6XsWDK",
        "colab_type": "code",
        "outputId": "498b0142-5fed-4ea8-cdc7-1cd47cc6b1a1",
        "colab": {
          "base_uri": "https://localhost:8080/",
          "height": 173
        }
      },
      "source": [
        "df_curated.describe()"
      ],
      "execution_count": 19,
      "outputs": [
        {
          "output_type": "execute_result",
          "data": {
            "text/html": [
              "<div>\n",
              "<style scoped>\n",
              "    .dataframe tbody tr th:only-of-type {\n",
              "        vertical-align: middle;\n",
              "    }\n",
              "\n",
              "    .dataframe tbody tr th {\n",
              "        vertical-align: top;\n",
              "    }\n",
              "\n",
              "    .dataframe thead th {\n",
              "        text-align: right;\n",
              "    }\n",
              "</style>\n",
              "<table border=\"1\" class=\"dataframe\">\n",
              "  <thead>\n",
              "    <tr style=\"text-align: right;\">\n",
              "      <th></th>\n",
              "      <th>fname</th>\n",
              "      <th>labels</th>\n",
              "    </tr>\n",
              "  </thead>\n",
              "  <tbody>\n",
              "    <tr>\n",
              "      <th>count</th>\n",
              "      <td>4964</td>\n",
              "      <td>4964</td>\n",
              "    </tr>\n",
              "    <tr>\n",
              "      <th>unique</th>\n",
              "      <td>4964</td>\n",
              "      <td>213</td>\n",
              "    </tr>\n",
              "    <tr>\n",
              "      <th>top</th>\n",
              "      <td>dfd87955.wav</td>\n",
              "      <td>Gong</td>\n",
              "    </tr>\n",
              "    <tr>\n",
              "      <th>freq</th>\n",
              "      <td>1</td>\n",
              "      <td>75</td>\n",
              "    </tr>\n",
              "  </tbody>\n",
              "</table>\n",
              "</div>"
            ],
            "text/plain": [
              "               fname labels\n",
              "count           4964   4964\n",
              "unique          4964    213\n",
              "top     dfd87955.wav   Gong\n",
              "freq               1     75"
            ]
          },
          "metadata": {
            "tags": []
          },
          "execution_count": 19
        }
      ]
    },
    {
      "cell_type": "markdown",
      "metadata": {
        "id": "LKr7w6grsWDW",
        "colab_type": "text"
      },
      "source": [
        "**Now define the data paths**\n",
        "\n",
        "First we're going to try to train with the curated train set only to see the performance. Then we can mix both the curated and noise train set to see the results."
      ]
    },
    {
      "cell_type": "code",
      "metadata": {
        "id": "pqZYefXJsWDd",
        "colab_type": "code",
        "colab": {}
      },
      "source": [
        "fnames = df_curated['fname']"
      ],
      "execution_count": 0,
      "outputs": []
    },
    {
      "cell_type": "code",
      "metadata": {
        "id": "uMfhlQd_sWDi",
        "colab_type": "code",
        "outputId": "095f4713-8238-428f-c7bc-69be81a89fed",
        "colab": {
          "base_uri": "https://localhost:8080/",
          "height": 119
        }
      },
      "source": [
        "fnames[:5]"
      ],
      "execution_count": 21,
      "outputs": [
        {
          "output_type": "execute_result",
          "data": {
            "text/plain": [
              "0    0006ae4e.wav\n",
              "1    0019ef41.wav\n",
              "2    001ec0ad.wav\n",
              "3    0026c7cb.wav\n",
              "4    0026f116.wav\n",
              "Name: fname, dtype: object"
            ]
          },
          "metadata": {
            "tags": []
          },
          "execution_count": 21
        }
      ]
    },
    {
      "cell_type": "code",
      "metadata": {
        "id": "EaPusNKWsWDn",
        "colab_type": "code",
        "colab": {}
      },
      "source": [
        "fdir = '../content/train_curated'\n",
        "fpaths = [Path(fdir,df_curated['fname'][ind]) for ind in df_curated.index]"
      ],
      "execution_count": 0,
      "outputs": []
    },
    {
      "cell_type": "code",
      "metadata": {
        "id": "B4Cu9WwKsWDs",
        "colab_type": "code",
        "outputId": "769f9022-c179-4ea0-bffa-f1e0ba5fd10f",
        "colab": {
          "base_uri": "https://localhost:8080/",
          "height": 34
        }
      },
      "source": [
        "len(fpaths)"
      ],
      "execution_count": 23,
      "outputs": [
        {
          "output_type": "execute_result",
          "data": {
            "text/plain": [
              "4964"
            ]
          },
          "metadata": {
            "tags": []
          },
          "execution_count": 23
        }
      ]
    },
    {
      "cell_type": "markdown",
      "metadata": {
        "id": "DymZvsgasWEV",
        "colab_type": "text"
      },
      "source": [
        "## Using the DataBlock API:\n",
        "\n",
        "* We'll want to use our same transforms we used for the Pipeline\n",
        "* An appropriate getter\n",
        "* An appropriate labeller\n",
        "\n",
        "The following datablock method references the new and wonderful **\"Fastbook\"** by fastai:\n",
        "\n",
        "https://github.com/fastai/fastbook/blob/master/06_multicat.ipynb\n",
        "\n",
        "and the above mentioned Audio notebook by Z Mueller.\n",
        "\n",
        "> ### Constructing a data block\n",
        ">\n",
        ">How do we convert from a DataFrame object to a DataLoaders object? PyTorch and fastai have two main classes for representing and accessing a training set or validation set:\n",
        ">\n",
        ">* **Dataset**:: a collection which returns a tuple of your independent and dependent variable for a single item\n",
        ">* **DataLoader**:: an iterator which provides a stream of mini batches, where each mini batch is a couple of a batch of independent variables and a batch of dependent variables\n",
        ">\n",
        ">On top of these, fastai provides two classes for bringing your training and validation sets together:\n",
        ">\n",
        ">* **Datasets**:: an object which contains a training Dataset and a validation Dataset\n",
        ">* **DataLoaders**:: an object which contains a training DataLoader and a validation DataLoader\n",
        ">\n",
        ">Since a DataLoader builds on top of a Dataset, and adds additional functionality to it (collating multiple items into a mini batch), it’s often easiest to start by creating and testing Datasets, and then look at DataLoaders after that’s working.\n",
        "\n",
        "\n",
        "The files in this case have multi-labels within the 'labels' column of the dataframe. \n",
        "\n",
        "So we will need to set the multi-labels appropriately in training.\n",
        "\n",
        "First, we create a \"datasets\" object from our dataframe:\n"
      ]
    },
    {
      "cell_type": "markdown",
      "metadata": {
        "id": "MNNziPlDsWEp",
        "colab_type": "text"
      },
      "source": [
        "## Data Augmentation\n",
        "\n",
        "We can use the `SpectrogramTransformer` class to prepare some transforms for us.\n",
        "\n",
        "We need to open the audio file and convert to mel-spectrogramtensors.\n"
      ]
    },
    {
      "cell_type": "code",
      "metadata": {
        "id": "SwAElDvssWEk",
        "colab_type": "code",
        "outputId": "3716c6af-ab46-4159-8f8c-0dda3cecc49b",
        "colab": {
          "base_uri": "https://localhost:8080/",
          "height": 34
        }
      },
      "source": [
        "def get_x(r): return '../content/train_curated/'+r['fname']\n",
        "def get_y(r): return r['labels'].split(',') # split labels on ','\n",
        "dblock = DataBlock(get_x = get_x, get_y = get_y)\n",
        "dsets = dblock.datasets(df_curated)\n",
        "dsets.train[0]"
      ],
      "execution_count": 24,
      "outputs": [
        {
          "output_type": "execute_result",
          "data": {
            "text/plain": [
              "('../content/train_curated/45d213a0.wav', ['Clapping'])"
            ]
          },
          "metadata": {
            "tags": []
          },
          "execution_count": 24
        }
      ]
    },
    {
      "cell_type": "code",
      "metadata": {
        "id": "bBqbvEnlsWEr",
        "colab_type": "code",
        "colab": {}
      },
      "source": [
        "DBMelSpec = SpectrogramTransformer(mel=True, to_db=True)"
      ],
      "execution_count": 0,
      "outputs": []
    },
    {
      "cell_type": "code",
      "metadata": {
        "id": "xJqspq0uq0U5",
        "colab_type": "code",
        "colab": {}
      },
      "source": [
        "clip_length = 2 # clip subsection length in seconds\n",
        "sr = 44100 # sample rate\n",
        "f_min = 20 # mel-spectrogram minimum frequency\n",
        "f_max = 20000 # mel-spectrogram minimum frequency\n",
        "n_mels = 128 # mel-frequency bins\n",
        "hop_length = math.ceil((clip_length*sr)/n_mels)# determines width of image. for square to match n_mels, set math.ceil((clip_length*sr)/n_mels)\n",
        "nfft = n_mels * 20 # = 2560 for higher resolution in y-axis\n",
        "win_length = 1024 # sample windowing\n",
        "top_db = 80 # highest noise level in relative db"
      ],
      "execution_count": 0,
      "outputs": []
    },
    {
      "cell_type": "code",
      "metadata": {
        "id": "zZ3nQuMnsWEy",
        "colab_type": "code",
        "outputId": "5690a57d-5d6d-4a23-c004-9b28fc053d3c",
        "colab": {
          "base_uri": "https://localhost:8080/",
          "height": 255
        }
      },
      "source": [
        "cfg = AudioConfig.BasicMelSpectrogram()\n",
        "aud2spec = AudioToSpec.from_cfg(cfg)\n",
        "aud2spec = DBMelSpec(sample_rate=sr, win_length=win_length, \n",
        "                     f_max=f_max, f_min=f_min, n_mels=n_mels, \n",
        "                     n_fft=nfft, hop_length=hop_length, top_db=top_db)\n",
        "aud2spec.settings"
      ],
      "execution_count": 29,
      "outputs": [
        {
          "output_type": "execute_result",
          "data": {
            "text/plain": [
              "{'f_max': 20000,\n",
              " 'f_min': 20,\n",
              " 'hop_length': 690,\n",
              " 'mel': True,\n",
              " 'n_fft': 2560,\n",
              " 'n_mels': 128,\n",
              " 'pad': 0,\n",
              " 'sample_rate': 44100,\n",
              " 'stype': 'power',\n",
              " 'to_db': True,\n",
              " 'top_db': 80,\n",
              " 'win_length': 1024,\n",
              " 'window_fn': <function _VariableFunctions.hann_window>,\n",
              " 'wkwargs': None}"
            ]
          },
          "metadata": {
            "tags": []
          },
          "execution_count": 29
        }
      ]
    },
    {
      "cell_type": "markdown",
      "metadata": {
        "id": "oZTtxkoWsWE8",
        "colab_type": "text"
      },
      "source": [
        "For our transforms, we'll use:\n",
        "* `RemoveSilence`\n",
        "  * Splits a signal at points of silence more than 2 * `pad_ms` (default is 20)\n",
        "* `CropSignal`\n",
        "  * Crops a signal by `duration` and adds padding if needed\n",
        "* `aud2spec`\n",
        "  * Our `SpectrogramTransformer` with parameters\n",
        "* `MaskTime`\n",
        "  * Wrapper for `MaskFre`, which applies `einsum` operations\n",
        "* `MaskFreq`\n",
        "  * [SpecAugment Time Masking](https://arxiv.org/abs/1904.08779)"
      ]
    },
    {
      "cell_type": "markdown",
      "metadata": {
        "id": "jwKcBc8BsWE_",
        "colab_type": "text"
      },
      "source": [
        "Let's look a bit more at the padding `CropSignal` uses:\n",
        "\n",
        "There are three different types:\n",
        "* `AudioPadTypes.Zeros`: The default, random zeros before and after\n",
        "* `AudioPadType.Repeat`: Repeat the signal until proper length (great for coustic scene classification and voice recognition, terrible for speech recognition)\n",
        "* `AudioPadtype.ZerosAfter`: This is the default for many other libraries, just pad with zeros until you get the specified length."
      ]
    },
    {
      "cell_type": "code",
      "metadata": {
        "id": "QYCrc0hAsWFB",
        "colab_type": "code",
        "colab": {}
      },
      "source": [
        "item_tfms = [RemoveSilence(threshold=20), \n",
        "             CropSignal(clip_length*1000), \n",
        "             aud2spec, \n",
        "             MaskTime(num_masks=1, size=8), MaskFreq(num_masks=1, size=8)]"
      ],
      "execution_count": 0,
      "outputs": []
    },
    {
      "cell_type": "markdown",
      "metadata": {
        "id": "bMhu6Ke8sWFH",
        "colab_type": "text"
      },
      "source": [
        "Now let's build our `DataBlock`\n",
        "\n",
        "The block type can be used here, combining the `AudioBlock` for the audio transforms and the `MultiCategoryBlock` for multi-label classification. This type of block expects to receive a list of strings for the different labels."
      ]
    },
    {
      "cell_type": "code",
      "metadata": {
        "id": "jL9VQSW7sWFW",
        "colab_type": "code",
        "outputId": "60bf9a88-00b2-422f-db51-ea47c0069512",
        "colab": {
          "base_uri": "https://localhost:8080/",
          "height": 136
        }
      },
      "source": [
        "dblock = DataBlock(blocks=(AudioBlock, MultiCategoryBlock),\n",
        "                    splitter=RandomSplitter(valid_pct=0.1, seed=42), # ensure reproducibility with seed\n",
        "                    get_x=get_x,\n",
        "                    get_y=get_y,\n",
        "                    item_tfms = item_tfms)\n",
        "\n",
        "dsets = dblock.datasets(df_curated)\n",
        "dsets.train[0]"
      ],
      "execution_count": 31,
      "outputs": [
        {
          "output_type": "execute_result",
          "data": {
            "text/plain": [
              "(AudioTensor([[ 2.1362e-04,  3.0518e-04,  1.4648e-03,  ...,  0.0000e+00,\n",
              "          -3.0518e-05,  0.0000e+00]]),\n",
              " TensorMultiCategory([0., 0., 0., 0., 0., 0., 0., 0., 0., 0., 0., 0., 0., 0., 0., 0., 0., 0.,\n",
              "         0., 0., 0., 0., 0., 0., 0., 0., 0., 0., 0., 0., 0., 0., 0., 0., 0., 0.,\n",
              "         0., 0., 0., 0., 0., 0., 0., 0., 0., 0., 0., 1., 0., 0., 0., 0., 0., 0.,\n",
              "         0., 0., 0., 0., 0., 0., 0., 0., 0., 0., 0., 0., 0., 0., 0., 0., 0., 0.,\n",
              "         0., 0., 0., 0., 0., 0., 0., 0.]))"
            ]
          },
          "metadata": {
            "tags": []
          },
          "execution_count": 31
        }
      ]
    },
    {
      "cell_type": "code",
      "metadata": {
        "id": "XMM9CBdkrkuq",
        "colab_type": "code",
        "outputId": "ef4eab5c-2ce3-4208-aedf-3bef21844b25",
        "colab": {
          "base_uri": "https://localhost:8080/",
          "height": 34
        }
      },
      "source": [
        "# Let's see what size the training and validation dataset items have\n",
        "\n",
        "xt,yt = dsets.train[0] # xt = AudioTensor, yt = TensorMultiCategory\n",
        "xt.shape,yt.shape,len(dsets.train) # show shapes and dataset size (no. items)"
      ],
      "execution_count": 32,
      "outputs": [
        {
          "output_type": "execute_result",
          "data": {
            "text/plain": [
              "(torch.Size([1, 71180]), torch.Size([80]), 4468)"
            ]
          },
          "metadata": {
            "tags": []
          },
          "execution_count": 32
        }
      ]
    },
    {
      "cell_type": "code",
      "metadata": {
        "id": "5ij52qdqrpO4",
        "colab_type": "code",
        "outputId": "e65c9d72-1b2f-4a3e-f398-d0009991c17b",
        "colab": {
          "base_uri": "https://localhost:8080/",
          "height": 34
        }
      },
      "source": [
        "xv,yv = dsets.valid[0]\n",
        "xv.shape,yv.shape,len(dsets.valid)"
      ],
      "execution_count": 33,
      "outputs": [
        {
          "output_type": "execute_result",
          "data": {
            "text/plain": [
              "(torch.Size([1, 347203]), torch.Size([80]), 496)"
            ]
          },
          "metadata": {
            "tags": []
          },
          "execution_count": 33
        }
      ]
    },
    {
      "cell_type": "markdown",
      "metadata": {
        "id": "hruUKJizsWFP",
        "colab_type": "text"
      },
      "source": [
        "In the above we can see the created audiotensor and the one-hot encoded labels: TensorMultiCategory.\n",
        "\n",
        "Let’s check what the categories represent for this example (we are using the convenient torch.where function, which tells us all of the indices where our condition is true or false). \n",
        "\n",
        "With numpy arrays, PyTorch tensors, and fastai’s L class, you can index directly using a list or vector, which makes a lot of code (such as this example) much clearer and more concise."
      ]
    },
    {
      "cell_type": "code",
      "metadata": {
        "id": "vv9NZzlisWFQ",
        "colab_type": "code",
        "outputId": "70235432-f86e-4156-b0b0-352a3840c4fc",
        "colab": {
          "base_uri": "https://localhost:8080/",
          "height": 34
        }
      },
      "source": [
        "idxs = torch.where(dsets.train[0][1]==1.)[0]\n",
        "dsets.train.vocab[idxs]"
      ],
      "execution_count": 34,
      "outputs": [
        {
          "output_type": "execute_result",
          "data": {
            "text/plain": [
              "(#1) ['Marimba_and_xylophone']"
            ]
          },
          "metadata": {
            "tags": []
          },
          "execution_count": 34
        }
      ]
    },
    {
      "cell_type": "markdown",
      "metadata": {
        "id": "4wFVA6vcsWFV",
        "colab_type": "text"
      },
      "source": [
        "**Now we define our DataLoader**\n",
        "\n",
        "A `DataLoader` collates the items from a `Dataset` into a mini batch. This is a tuple of tensors, where each tensor simply stacks the items from that location in the `Dataset` item. Now that we have confirmed that the individual items look okay there's one more step we need to ensure we can create our DataLoaders."
      ]
    },
    {
      "cell_type": "code",
      "metadata": {
        "id": "bqByg8lOrbcC",
        "colab_type": "code",
        "colab": {}
      },
      "source": [
        "dls = dblock.dataloaders(df_curated, bs=64)"
      ],
      "execution_count": 0,
      "outputs": []
    },
    {
      "cell_type": "code",
      "metadata": {
        "id": "I2tE18eJteRj",
        "colab_type": "code",
        "outputId": "50b7540f-38dc-4fc6-cfd6-d7f64ed14efe",
        "colab": {
          "base_uri": "https://localhost:8080/",
          "height": 34
        }
      },
      "source": [
        "# Let's check our batch shape\n",
        "dls.one_batch()[0].shape"
      ],
      "execution_count": 36,
      "outputs": [
        {
          "output_type": "execute_result",
          "data": {
            "text/plain": [
              "torch.Size([64, 1, 128, 128])"
            ]
          },
          "metadata": {
            "tags": []
          },
          "execution_count": 36
        }
      ]
    },
    {
      "cell_type": "markdown",
      "metadata": {
        "id": "CPI4hMd6sWFe",
        "colab_type": "text"
      },
      "source": [
        "Let's look at some augmented data:"
      ]
    },
    {
      "cell_type": "code",
      "metadata": {
        "scrolled": true,
        "id": "0NwIwn6qsWFh",
        "colab_type": "code",
        "outputId": "4293fed1-0ce0-497b-c7b1-61c739c331b4",
        "colab": {
          "base_uri": "https://localhost:8080/",
          "height": 902
        }
      },
      "source": [
        "dls.show_batch(max_n=3)"
      ],
      "execution_count": 37,
      "outputs": [
        {
          "output_type": "display_data",
          "data": {
            "image/png": "[encoded data removed]",
            "text/plain": [
              "<Figure size 432x288 with 2 Axes>"
            ]
          },
          "metadata": {
            "tags": [],
            "needs_background": "light"
          }
        },
        {
          "output_type": "display_data",
          "data": {
            "image/png": "[encoded data removed]",
            "text/plain": [
              "<Figure size 432x288 with 2 Axes>"
            ]
          },
          "metadata": {
            "tags": [],
            "needs_background": "light"
          }
        },
        {
          "output_type": "display_data",
          "data": {
            "image/png": "[encoded data removed]",
            "text/plain": [
              "<Figure size 432x288 with 2 Axes>"
            ]
          },
          "metadata": {
            "tags": [],
            "needs_background": "light"
          }
        },
        {
          "output_type": "stream",
          "text": [
            "Race_car_and_auto_racing\n",
            "Computer_keyboard\n",
            "Purr\n"
          ],
          "name": "stdout"
        }
      ]
    },
    {
      "cell_type": "markdown",
      "metadata": {
        "id": "sGmeWPMtsWFq",
        "colab_type": "text"
      },
      "source": [
        "## Training\n",
        "\n",
        "Now that we have our `Dataloaders`, we need to make a model. We'll make a function that changes a `Learner`'s first layer to accept a 1 channel input.\n",
        "\n",
        "Let's make an audio_learner function which is similar to a cnn_learner. In addition, the learner will need the Binary Cross Entropy Loss, so we will need to combine both the approach from the fastai multicat notebook:\n",
        "\n",
        "https://github.com/fastai/fastbook/blob/master/06_multicat.ipynb\n",
        "\n",
        "and the fastai2 audio learner creation.\n",
        "\n",
        "This will need the following steps:\n",
        "\n",
        "\n",
        "\n",
        "1.   Create a standard CNN Learner\n",
        "2.   Get the activation sizes from a single mini-batch\n",
        "3. Pass the activation sizes to the BCELoss Function\n",
        "4. Pass the BCE Loss function to the `audiolearner` function, which augments the Leaner to accept a single channel input\n",
        "\n",
        "\n"
      ]
    },
    {
      "cell_type": "markdown",
      "metadata": {
        "id": "GrWiZtsLsWF1",
        "colab_type": "text"
      },
      "source": [
        "**Note on Multi-category Loss Function**\n",
        "\n",
        "Fastbook:\n",
        "\n",
        ">We also saw that the model in a Learner is generally an object of a class inheriting from nn.Module, and that you can call it using parentheses and it will return the activations of a model. You should pass it your independent variable, as a mini batch. We can try it out by grabbing a mini batch from our DataLoader, and then passing it to the model:\n",
        "\n",
        ">Note that because we have a one-hot encoded dependent variable, we can't directly use nll_loss or softmax (and therefore we can't use cross_entropy).\n",
        "\n",
        ">Normally for one-hot encoded targets you'll want F.binary_cross_entropy_with_logits (or nn.BCEWithLogitsLoss), which do both sigmoid and binary cross entropy in a single function, as in our example above.\n",
        "\n",
        "***With a standard learner, we don't normally need to tell fastai to use this loss function since it will be automatically chosen for us using the DataLoaders recognising multiple category labels. However, as we are creating an audio_learner, we need to provide the loss function to the audio_learner() function defined above.***\n",
        "\n",
        ">One change compared to the last chapter is the metric we use: since we are in a multilabel problem, we can't use the accuracy function\n",
        "\n",
        ">The class predicted was the one with the highest activation (this is what argmax does). Here it doesn't work because we could have more than one prediction on a single image. After applying the sigmoid to our activations (to make them between 0 and 1), we need to decide which ones are 0s and which ones are 1s by picking a threshold. Each value above the threshold will be considered as a 1, and each value lower than the threshold will be considered a 0. \n",
        "\n",
        ">If we pass accuracy_multi directly as a metric, it will use the default value for threshold, which is 0.5. We might want to adjust that default and create a new version of accuracy_multi that has a different default. \n",
        "\n",
        ">Picking a threshold is important. If you pick a threshold that's too low, you'll often be failing to select correctly labelled objects. If you pick a threshold that's too high, you'll often be selecting correctly labelled objects. We can see this by changing our metric, and then calling validate, which returns the validation loss and metrics. "
      ]
    },
    {
      "cell_type": "markdown",
      "metadata": {
        "id": "F4nHWszjLUxT",
        "colab_type": "text"
      },
      "source": [
        "In this case, we're going to use BCEWithLogitsLossFlat():\n",
        "\n",
        "```\"Same as `nn.CrossEntropyLoss`, but flattens input and target.\"```\n",
        "\n",
        "say the fastai docs - double check.\n",
        "\n",
        "Also, we change the output to be 80 neurons to match the label amount.\n"
      ]
    },
    {
      "cell_type": "markdown",
      "metadata": {
        "id": "g5ZLivT8Ie_M",
        "colab_type": "text"
      },
      "source": [
        "## Create our AudioLearner\n",
        "\n",
        "Below are different options for learners - for experimentation"
      ]
    },
    {
      "cell_type": "code",
      "metadata": {
        "id": "R_w2TSWRzi_-",
        "colab_type": "code",
        "colab": {}
      },
      "source": [
        "### OPTION 1 - Pretrained 1-channel xresnet50 with multi-accuracy\n",
        "\n",
        "# Custom cnn model created from pretrained xresnet18 (smaller model for inference speed)\n",
        "# 1 input channel and 80 output nodes\n",
        "# torch.nn.BCEWithLogitsLoss() = Binary Cross Entropy Loss from pytorch\n",
        "# accuracy_multi for multi label\n",
        "\n",
        "model = create_cnn_model(xresnet18, n_in=1, n_out=80, pretrained=True)\n",
        "\n",
        "learn = Learner(dls, model, BCEWithLogitsLossFlat(), metrics=accuracy_multi) # pass custom model to Learner"
      ],
      "execution_count": 0,
      "outputs": []
    },
    {
      "cell_type": "code",
      "metadata": {
        "colab_type": "code",
        "id": "jIAOp1Id0APR",
        "outputId": "a8e46524-9752-408d-bd64-1383774f0fb1",
        "colab": {
          "base_uri": "https://localhost:8080/",
          "height": 300
        }
      },
      "source": [
        "# find the learning rate\n",
        "learn.lr_find()"
      ],
      "execution_count": 42,
      "outputs": [
        {
          "output_type": "display_data",
          "data": {
            "text/html": [
              ""
            ],
            "text/plain": [
              "<IPython.core.display.HTML object>"
            ]
          },
          "metadata": {
            "tags": []
          }
        },
        {
          "output_type": "execute_result",
          "data": {
            "text/plain": [
              "SuggestedLRs(lr_min=0.07585775852203369, lr_steep=0.033113110810518265)"
            ]
          },
          "metadata": {
            "tags": []
          },
          "execution_count": 42
        },
        {
          "output_type": "display_data",
          "data": {
            "image/png": "[encoded data removed]",
            "text/plain": [
              "<Figure size 432x288 with 1 Axes>"
            ]
          },
          "metadata": {
            "tags": [],
            "needs_background": "light"
          }
        }
      ]
    },
    {
      "cell_type": "code",
      "metadata": {
        "colab_type": "code",
        "outputId": "6e23e94b-c209-43a9-b1a7-c3a5dd6b0788",
        "id": "hoDcDvDL0APX",
        "colab": {
          "base_uri": "https://localhost:8080/",
          "height": 359
        }
      },
      "source": [
        "# fit with one_cyle learning rate policy\n",
        "learn.fit_one_cycle(10, 3e-2)"
      ],
      "execution_count": 43,
      "outputs": [
        {
          "output_type": "display_data",
          "data": {
            "text/html": [
              "<table border=\"1\" class=\"dataframe\">\n",
              "  <thead>\n",
              "    <tr style=\"text-align: left;\">\n",
              "      <th>epoch</th>\n",
              "      <th>train_loss</th>\n",
              "      <th>valid_loss</th>\n",
              "      <th>accuracy_multi</th>\n",
              "      <th>time</th>\n",
              "    </tr>\n",
              "  </thead>\n",
              "  <tbody>\n",
              "    <tr>\n",
              "      <td>0</td>\n",
              "      <td>0.439350</td>\n",
              "      <td>0.116573</td>\n",
              "      <td>0.985534</td>\n",
              "      <td>04:43</td>\n",
              "    </tr>\n",
              "    <tr>\n",
              "      <td>1</td>\n",
              "      <td>0.154989</td>\n",
              "      <td>0.105193</td>\n",
              "      <td>0.984224</td>\n",
              "      <td>04:44</td>\n",
              "    </tr>\n",
              "    <tr>\n",
              "      <td>2</td>\n",
              "      <td>0.096534</td>\n",
              "      <td>0.074629</td>\n",
              "      <td>0.982586</td>\n",
              "      <td>04:47</td>\n",
              "    </tr>\n",
              "    <tr>\n",
              "      <td>3</td>\n",
              "      <td>0.071826</td>\n",
              "      <td>0.061563</td>\n",
              "      <td>0.985257</td>\n",
              "      <td>04:45</td>\n",
              "    </tr>\n",
              "    <tr>\n",
              "      <td>4</td>\n",
              "      <td>0.059532</td>\n",
              "      <td>0.056486</td>\n",
              "      <td>0.984577</td>\n",
              "      <td>04:44</td>\n",
              "    </tr>\n",
              "    <tr>\n",
              "      <td>5</td>\n",
              "      <td>0.052819</td>\n",
              "      <td>0.054463</td>\n",
              "      <td>0.985333</td>\n",
              "      <td>04:44</td>\n",
              "    </tr>\n",
              "    <tr>\n",
              "      <td>6</td>\n",
              "      <td>0.048778</td>\n",
              "      <td>0.047426</td>\n",
              "      <td>0.986517</td>\n",
              "      <td>04:48</td>\n",
              "    </tr>\n",
              "    <tr>\n",
              "      <td>7</td>\n",
              "      <td>0.043911</td>\n",
              "      <td>0.038555</td>\n",
              "      <td>0.987273</td>\n",
              "      <td>04:47</td>\n",
              "    </tr>\n",
              "    <tr>\n",
              "      <td>8</td>\n",
              "      <td>0.039709</td>\n",
              "      <td>0.035478</td>\n",
              "      <td>0.988558</td>\n",
              "      <td>04:45</td>\n",
              "    </tr>\n",
              "    <tr>\n",
              "      <td>9</td>\n",
              "      <td>0.036798</td>\n",
              "      <td>0.033669</td>\n",
              "      <td>0.989037</td>\n",
              "      <td>04:44</td>\n",
              "    </tr>\n",
              "  </tbody>\n",
              "</table>"
            ],
            "text/plain": [
              "<IPython.core.display.HTML object>"
            ]
          },
          "metadata": {
            "tags": []
          }
        }
      ]
    },
    {
      "cell_type": "code",
      "metadata": {
        "id": "8SRdlOL0imi6",
        "colab_type": "code",
        "colab": {}
      },
      "source": [
        "# Save the stage 1 model to allow quick fine tuning experimentation\n",
        "learn.save('xresnet50-stage-1-model-frozen')"
      ],
      "execution_count": 0,
      "outputs": []
    },
    {
      "cell_type": "markdown",
      "metadata": {
        "id": "Gw_rzfU03EvE",
        "colab_type": "text"
      },
      "source": [
        "Now let's unfreeze the base model and train on the whole network:"
      ]
    },
    {
      "cell_type": "code",
      "metadata": {
        "id": "iLvWY7Fa21sh",
        "colab_type": "code",
        "outputId": "874c3d83-e417-4085-9841-b490fc38e480",
        "colab": {
          "base_uri": "https://localhost:8080/",
          "height": 300
        }
      },
      "source": [
        "learn.unfreeze()\n",
        "learn.lr_find()"
      ],
      "execution_count": 45,
      "outputs": [
        {
          "output_type": "display_data",
          "data": {
            "text/html": [
              ""
            ],
            "text/plain": [
              "<IPython.core.display.HTML object>"
            ]
          },
          "metadata": {
            "tags": []
          }
        },
        {
          "output_type": "execute_result",
          "data": {
            "text/plain": [
              "SuggestedLRs(lr_min=6.309573450380412e-08, lr_steep=1.5848931980144698e-06)"
            ]
          },
          "metadata": {
            "tags": []
          },
          "execution_count": 45
        },
        {
          "output_type": "display_data",
          "data": {
            "image/png": "[encoded data removed]",
            "text/plain": [
              "<Figure size 432x288 with 1 Axes>"
            ]
          },
          "metadata": {
            "tags": [],
            "needs_background": "light"
          }
        }
      ]
    },
    {
      "cell_type": "code",
      "metadata": {
        "id": "JeweWPGZ23HL",
        "colab_type": "code",
        "outputId": "94ac81be-cb85-4620-d440-1545f9d93645",
        "colab": {
          "base_uri": "https://localhost:8080/",
          "height": 359
        }
      },
      "source": [
        "learn.fit_one_cycle(10, lr_max=slice(1e-5,1e-3))"
      ],
      "execution_count": 46,
      "outputs": [
        {
          "output_type": "display_data",
          "data": {
            "text/html": [
              "<table border=\"1\" class=\"dataframe\">\n",
              "  <thead>\n",
              "    <tr style=\"text-align: left;\">\n",
              "      <th>epoch</th>\n",
              "      <th>train_loss</th>\n",
              "      <th>valid_loss</th>\n",
              "      <th>accuracy_multi</th>\n",
              "      <th>time</th>\n",
              "    </tr>\n",
              "  </thead>\n",
              "  <tbody>\n",
              "    <tr>\n",
              "      <td>0</td>\n",
              "      <td>0.035296</td>\n",
              "      <td>0.032883</td>\n",
              "      <td>0.989314</td>\n",
              "      <td>04:43</td>\n",
              "    </tr>\n",
              "    <tr>\n",
              "      <td>1</td>\n",
              "      <td>0.035404</td>\n",
              "      <td>0.033168</td>\n",
              "      <td>0.989289</td>\n",
              "      <td>04:44</td>\n",
              "    </tr>\n",
              "    <tr>\n",
              "      <td>2</td>\n",
              "      <td>0.035291</td>\n",
              "      <td>0.031552</td>\n",
              "      <td>0.989617</td>\n",
              "      <td>04:44</td>\n",
              "    </tr>\n",
              "    <tr>\n",
              "      <td>3</td>\n",
              "      <td>0.034840</td>\n",
              "      <td>0.033127</td>\n",
              "      <td>0.989163</td>\n",
              "      <td>04:42</td>\n",
              "    </tr>\n",
              "    <tr>\n",
              "      <td>4</td>\n",
              "      <td>0.034015</td>\n",
              "      <td>0.032118</td>\n",
              "      <td>0.989516</td>\n",
              "      <td>04:42</td>\n",
              "    </tr>\n",
              "    <tr>\n",
              "      <td>5</td>\n",
              "      <td>0.033034</td>\n",
              "      <td>0.031398</td>\n",
              "      <td>0.989642</td>\n",
              "      <td>04:42</td>\n",
              "    </tr>\n",
              "    <tr>\n",
              "      <td>6</td>\n",
              "      <td>0.032595</td>\n",
              "      <td>0.031263</td>\n",
              "      <td>0.989718</td>\n",
              "      <td>04:44</td>\n",
              "    </tr>\n",
              "    <tr>\n",
              "      <td>7</td>\n",
              "      <td>0.032183</td>\n",
              "      <td>0.031861</td>\n",
              "      <td>0.989819</td>\n",
              "      <td>04:47</td>\n",
              "    </tr>\n",
              "    <tr>\n",
              "      <td>8</td>\n",
              "      <td>0.031888</td>\n",
              "      <td>0.029467</td>\n",
              "      <td>0.990197</td>\n",
              "      <td>04:49</td>\n",
              "    </tr>\n",
              "    <tr>\n",
              "      <td>9</td>\n",
              "      <td>0.031657</td>\n",
              "      <td>0.030350</td>\n",
              "      <td>0.989718</td>\n",
              "      <td>04:44</td>\n",
              "    </tr>\n",
              "  </tbody>\n",
              "</table>"
            ],
            "text/plain": [
              "<IPython.core.display.HTML object>"
            ]
          },
          "metadata": {
            "tags": []
          }
        }
      ]
    },
    {
      "cell_type": "code",
      "metadata": {
        "id": "7Wd-3HxqCi7J",
        "colab_type": "code",
        "colab": {}
      },
      "source": [
        "# Save the stage 2 model\n",
        "path = '/content/drive/My Drive/Machine_Learning/My_Projects/19011 - Audio Classifier Web App/xresnet50-stage-2-model-finetuned'\n",
        "learn.save(file=path, with_opt=True)"
      ],
      "execution_count": 0,
      "outputs": []
    },
    {
      "cell_type": "markdown",
      "metadata": {
        "id": "xz0d72WcsWGp",
        "colab_type": "text"
      },
      "source": [
        "## Export the model and upload to S3"
      ]
    },
    {
      "cell_type": "markdown",
      "metadata": {
        "id": "1SP0fhq6sWGq",
        "colab_type": "text"
      },
      "source": [
        "Now that we have trained our model we will export it using the learner method `export()` and upload the exported model to S3."
      ]
    },
    {
      "cell_type": "code",
      "metadata": {
        "id": "g7YXuARWsWGs",
        "colab_type": "code",
        "colab": {}
      },
      "source": [
        "learn.export()"
      ],
      "execution_count": 0,
      "outputs": []
    },
    {
      "cell_type": "markdown",
      "metadata": {
        "id": "18UaCxaKsWGw",
        "colab_type": "text"
      },
      "source": [
        "Now let's create a tarfile for our model."
      ]
    },
    {
      "cell_type": "code",
      "metadata": {
        "id": "8K0jE1znsWGz",
        "colab_type": "code",
        "colab": {}
      },
      "source": [
        "import tarfile\n",
        "with tarfile.open(path/'model.tar.gz', 'w:gz') as f:\n",
        "    f.add(path/'export.pkl', arcname='model.pkl')"
      ],
      "execution_count": 0,
      "outputs": []
    },
    {
      "cell_type": "code",
      "metadata": {
        "id": "cIoEqpzxsWG4",
        "colab_type": "code",
        "colab": {}
      },
      "source": [
        "import sagemaker\n",
        "\n",
        "role = sagemaker.get_execution_role()\n",
        "sess = sagemaker.Session()"
      ],
      "execution_count": 0,
      "outputs": []
    },
    {
      "cell_type": "code",
      "metadata": {
        "id": "GoPK3YYysWG8",
        "colab_type": "code",
        "colab": {}
      },
      "source": [
        "prefix = 'DEMO-fastai2-sagemaker-oxford-pets'"
      ],
      "execution_count": 0,
      "outputs": []
    },
    {
      "cell_type": "markdown",
      "metadata": {
        "id": "leG1Y1Q9sWHA",
        "colab_type": "text"
      },
      "source": [
        "Now we will upload the model to the default S3 bucket for sagemaker."
      ]
    },
    {
      "cell_type": "code",
      "metadata": {
        "id": "CpwBMVogsWHB",
        "colab_type": "code",
        "colab": {}
      },
      "source": [
        "model_location = sess.upload_data(str(path/'model.tar.gz'), key_prefix=prefix)\n",
        "model_location"
      ],
      "execution_count": 0,
      "outputs": []
    },
    {
      "cell_type": "markdown",
      "metadata": {
        "id": "ae8WqB6OsWHF",
        "colab_type": "text"
      },
      "source": [
        "## Script for model inference"
      ]
    },
    {
      "cell_type": "markdown",
      "metadata": {
        "id": "F6sQdVtrsWHG",
        "colab_type": "text"
      },
      "source": [
        "SageMaker invokes the main function defined within your training script for training. When deploying your trained model to an endpoint, the `model_fn()` is called to determine how to load your trained model. The `model_fn()` along with a few other functions list below are called to enable predictions on SageMaker.\n",
        "\n",
        "### [Predicting Functions](https://github.com/aws/sagemaker-pytorch-containers/blob/master/src/sagemaker_pytorch_container/serving.py)\n",
        "* `model_fn(model_dir)` - loads your model.\n",
        "* `input_fn(serialized_input_data, content_type)` - deserializes predictions to predict_fn.\n",
        "* `output_fn(prediction_output, accept)` - serializes predictions from predict_fn.\n",
        "* `predict_fn(input_data, model)` - calls a model on data deserialized in input_fn.\n",
        "\n",
        "Here is the full code in a file `serve.py` showing implementations of the 4 key functions:"
      ]
    },
    {
      "cell_type": "code",
      "metadata": {
        "id": "1yGJoE9bsWHH",
        "colab_type": "code",
        "colab": {}
      },
      "source": [
        "!pygmentize scripts/serve.py"
      ],
      "execution_count": 0,
      "outputs": []
    },
    {
      "cell_type": "markdown",
      "metadata": {
        "id": "4_p0MGBxsWHL",
        "colab_type": "text"
      },
      "source": [
        "## Deploy locally to test"
      ]
    },
    {
      "cell_type": "markdown",
      "metadata": {
        "id": "jYT5WychsWHM",
        "colab_type": "text"
      },
      "source": [
        "Before deploying to Amazon SageMaker we want to verify that the endpoint is working properly. The Amazon SageMaker Python SDK allows us to deploy locally to the Notebook instance using Docker. We will create the model then specify the parameter `instance_type` to be `local` telling the SDK to deploy locally."
      ]
    },
    {
      "cell_type": "code",
      "metadata": {
        "id": "blQEchj_sWHN",
        "colab_type": "code",
        "colab": {}
      },
      "source": [
        "from sagemaker.pytorch import PyTorchModel\n",
        "\n",
        "model = PyTorchModel(model_data=model_location,\n",
        "                     role=role,\n",
        "                     framework_version='1.4.0',\n",
        "                     entry_point='serve.py', \n",
        "                     source_dir='scripts')"
      ],
      "execution_count": 0,
      "outputs": []
    },
    {
      "cell_type": "markdown",
      "metadata": {
        "id": "bWgN9-YUsWHQ",
        "colab_type": "text"
      },
      "source": [
        "Now that we have created the model we will deploy locally to test. It may take a while to run the first time as we need to download a Docker image to our notebook instance."
      ]
    },
    {
      "cell_type": "code",
      "metadata": {
        "id": "7TKQ_WACsWHR",
        "colab_type": "code",
        "colab": {}
      },
      "source": [
        "predictor = model.deploy(initial_instance_count=1, instance_type='local')"
      ],
      "execution_count": 0,
      "outputs": []
    },
    {
      "cell_type": "markdown",
      "metadata": {
        "id": "6uOjLVQksWHZ",
        "colab_type": "text"
      },
      "source": [
        "Now we can test out our endpoint. We will download a cat images from the internet and save locally."
      ]
    },
    {
      "cell_type": "code",
      "metadata": {
        "id": "jj9OEL2bsWHa",
        "colab_type": "code",
        "colab": {}
      },
      "source": [
        "! [ -d tmp ] || mkdir tmp\n",
        "! wget -q -O tmp/british-shorthair.jpg https://cdn1-www.cattime.com/assets/uploads/2011/12/file_2744_british-shorthair-460x290-460x290.jpg"
      ],
      "execution_count": 0,
      "outputs": []
    },
    {
      "cell_type": "code",
      "metadata": {
        "id": "_jDltlVYsWHe",
        "colab_type": "code",
        "colab": {}
      },
      "source": [
        "img = Image.open('tmp/british-shorthair.jpg')\n",
        "img"
      ],
      "execution_count": 0,
      "outputs": []
    },
    {
      "cell_type": "markdown",
      "metadata": {
        "id": "YmCko7bfsWHh",
        "colab_type": "text"
      },
      "source": [
        "Now we can call our local endpoint to ensure it is working and provides us the correct result."
      ]
    },
    {
      "cell_type": "code",
      "metadata": {
        "id": "CqWJBsF4sWHi",
        "colab_type": "code",
        "colab": {}
      },
      "source": [
        "from sagemaker.predictor import json_serializer, json_deserializer\n",
        "\n",
        "predictor.accept = 'application/json'\n",
        "predictor.content_type = 'application/json'\n",
        "\n",
        "predictor.serializer = json_serializer\n",
        "predictor.deserializer = json_deserializer\n",
        "\n",
        "response = predictor.predict( { \"url\": \"https://cdn1-www.cattime.com/assets/uploads/2011/12/file_2744_british-shorthair-460x290-460x290.jpg\" })\n",
        "\n",
        "print(response)"
      ],
      "execution_count": 0,
      "outputs": []
    },
    {
      "cell_type": "markdown",
      "metadata": {
        "id": "HcaEoVm4sWHm",
        "colab_type": "text"
      },
      "source": [
        "Once you are happy that the endpoint is working suceessully you can shut it down."
      ]
    },
    {
      "cell_type": "code",
      "metadata": {
        "id": "1LzkT9NDsWHn",
        "colab_type": "code",
        "colab": {}
      },
      "source": [
        "predictor.delete_endpoint()"
      ],
      "execution_count": 0,
      "outputs": []
    },
    {
      "cell_type": "markdown",
      "metadata": {
        "id": "VlbLIQoQsWHr",
        "colab_type": "text"
      },
      "source": [
        "## Deploy to SageMaker"
      ]
    },
    {
      "cell_type": "markdown",
      "metadata": {
        "id": "Qlyi0ZmzsWHt",
        "colab_type": "text"
      },
      "source": [
        "Once we have verified that the script is working successfully on our locally deployed endpoint we can deploy our model to Amazon SageMaker so that it can be used in a production application. The code is almost exactly the same as deploying locally except that when we call `model.deploy()` we will change the instance type to an Amazon SageMaker valid instance type (e.g. `ml.m5.xlarge`)."
      ]
    },
    {
      "cell_type": "code",
      "metadata": {
        "id": "hfZqQGEQsWHw",
        "colab_type": "code",
        "colab": {}
      },
      "source": [
        "from sagemaker.pytorch import PyTorchModel\n",
        "\n",
        "model = PyTorchModel(model_data=model_location,\n",
        "                     role=role,\n",
        "                     framework_version='1.4.0',\n",
        "                     entry_point='serve.py', \n",
        "                     source_dir='scripts')"
      ],
      "execution_count": 0,
      "outputs": []
    },
    {
      "cell_type": "markdown",
      "metadata": {
        "id": "LiNTlWaksWHz",
        "colab_type": "text"
      },
      "source": [
        "Now let's deploy our SageMaker endpoint. It will take a few min to provision."
      ]
    },
    {
      "cell_type": "code",
      "metadata": {
        "id": "UrEsA37asWH2",
        "colab_type": "code",
        "colab": {}
      },
      "source": [
        "predictor = model.deploy(initial_instance_count=1, instance_type='ml.m5.xlarge')"
      ],
      "execution_count": 0,
      "outputs": []
    },
    {
      "cell_type": "code",
      "metadata": {
        "id": "3HAXGIxUsWH6",
        "colab_type": "code",
        "colab": {}
      },
      "source": [
        "img = Image.open('tmp/british-shorthair.jpg')\n",
        "img"
      ],
      "execution_count": 0,
      "outputs": []
    },
    {
      "cell_type": "markdown",
      "metadata": {
        "id": "l1FCkQ1isWH9",
        "colab_type": "text"
      },
      "source": [
        "Now let's test our remote endpoint running on SageMaker hosting services."
      ]
    },
    {
      "cell_type": "code",
      "metadata": {
        "id": "OqTrUNPnsWH9",
        "colab_type": "code",
        "colab": {}
      },
      "source": [
        "from sagemaker.predictor import json_serializer, json_deserializer\n",
        "\n",
        "predictor.accept = 'application/json'\n",
        "predictor.content_type = 'application/json'\n",
        "\n",
        "predictor.serializer = json_serializer\n",
        "predictor.deserializer = json_deserializer\n",
        "\n",
        "response = predictor.predict( { \"url\": \"https://cdn1-www.cattime.com/assets/uploads/2011/12/file_2744_british-shorthair-460x290-460x290.jpg\" })\n",
        "\n",
        "print(response)"
      ],
      "execution_count": 0,
      "outputs": []
    },
    {
      "cell_type": "markdown",
      "metadata": {
        "id": "aFrXfbOlsWIB",
        "colab_type": "text"
      },
      "source": [
        "## Optional: delete endpoint"
      ]
    },
    {
      "cell_type": "markdown",
      "metadata": {
        "id": "Lkl5ySrQsWIC",
        "colab_type": "text"
      },
      "source": [
        "If you do not want to keep the endpoint up and running then remember to delete it to avoid incurring further costs."
      ]
    },
    {
      "cell_type": "code",
      "metadata": {
        "id": "hH-iPvGssWID",
        "colab_type": "code",
        "colab": {}
      },
      "source": [
        "predictor.delete_endpoint()"
      ],
      "execution_count": 0,
      "outputs": []
    },
    {
      "cell_type": "code",
      "metadata": {
        "id": "khBWm2CXsWIG",
        "colab_type": "code",
        "colab": {}
      },
      "source": [
        ""
      ],
      "execution_count": 0,
      "outputs": []
    },
    {
      "cell_type": "code",
      "metadata": {
        "id": "B7Q8QPciaNhQ",
        "colab_type": "code",
        "colab": {}
      },
      "source": [
        ""
      ],
      "execution_count": 0,
      "outputs": []
    }
  ]
}