{
  "nbformat": 4,
  "nbformat_minor": 0,
  "metadata": {
    "accelerator": "GPU",
    "colab": {
      "name": "model_colab dev.ipynb",
      "provenance": [],
      "collapsed_sections": [
        "g5ZLivT8Ie_M",
        "F6sQdVtrsWHG",
        "4_p0MGBxsWHL",
        "VlbLIQoQsWHr",
        "aFrXfbOlsWIB"
      ],
      "include_colab_link": true
    },
    "kernelspec": {
      "name": "python3",
      "display_name": "Python 3"
    }
  },
  "cells": [
    {
      "cell_type": "markdown",
      "metadata": {
        "id": "view-in-github",
        "colab_type": "text"
      },
      "source": [
        "<a href=\"https://colab.research.google.com/github/mikful/audio-app-mf-ct/blob/master/model_colab_dev.ipynb\" target=\"_parent\"><img src=\"https://colab.research.google.com/assets/colab-badge.svg\" alt=\"Open In Colab\"/></a>"
      ]
    },
    {
      "cell_type": "markdown",
      "metadata": {
        "colab_type": "text",
        "id": "rk6Sc9PhsWCV"
      },
      "source": [
        "# Audio classification model training - Freesound 2019 Kaggle Competition dataset\n",
        "\n",
        "* Model - pretrained fastai2 xresnet50 using fastai2 audio library\n",
        "* Dataset - Curated Train Set from Kaggle Freesound 2019 Competition, multi-label 80 classes\n"
      ]
    },
    {
      "cell_type": "markdown",
      "metadata": {
        "colab_type": "text",
        "id": "N_C3LR2lsWCb"
      },
      "source": [
        "**fastai2_audio**\n",
        "\n",
        "The additional requirements of the fastai2_audio package will be dealt with below, using a clone of the following repo:\n",
        "\n",
        "https://github.com/rbracco/fastai2_audio\n",
        "\n",
        "\n",
        "**For AWS setup look here and in fastai forum emails at Matt McClean email**\n",
        "The demo was run and tested by deploying an SageMaker Notebook instance as per the instructions outlined [here] (https://forums.fast.ai/t/platform-amazon-sagemaker-aws/66020).\n",
        "\n",
        "Note - the above link is only accessible as part of the ongoing fastai course for the time being."
      ]
    },
    {
      "cell_type": "code",
      "metadata": {
        "colab_type": "code",
        "id": "hVihFfzrh1QY",
        "colab": {
          "base_uri": "https://localhost:8080/",
          "height": 357
        },
        "outputId": "a90efa2a-ae7f-4301-8291-a7567452cffc"
      },
      "source": [
        "# See runtime gpu info\n",
        "gpu_info = !nvidia-smi\n",
        "gpu_info = '\\n'.join(gpu_info)\n",
        "if gpu_info.find('failed') >= 0:\n",
        "  print('Select the Runtime → \"Change runtime type\" menu to enable a GPU accelerator, ')\n",
        "  print('and then re-execute this cell.')\n",
        "else:\n",
        "  print(gpu_info)"
      ],
      "execution_count": 1,
      "outputs": [
        {
          "output_type": "stream",
          "text": [
            "Thu Aug  6 20:31:11 2020       \n",
            "+-----------------------------------------------------------------------------+\n",
            "| NVIDIA-SMI 450.57       Driver Version: 418.67       CUDA Version: 10.1     |\n",
            "|-------------------------------+----------------------+----------------------+\n",
            "| GPU  Name        Persistence-M| Bus-Id        Disp.A | Volatile Uncorr. ECC |\n",
            "| Fan  Temp  Perf  Pwr:Usage/Cap|         Memory-Usage | GPU-Util  Compute M. |\n",
            "|                               |                      |               MIG M. |\n",
            "|===============================+======================+======================|\n",
            "|   0  Tesla T4            Off  | 00000000:00:04.0 Off |                    0 |\n",
            "| N/A   66C    P8    11W /  70W |      0MiB / 15079MiB |      0%      Default |\n",
            "|                               |                      |                 ERR! |\n",
            "+-------------------------------+----------------------+----------------------+\n",
            "                                                                               \n",
            "+-----------------------------------------------------------------------------+\n",
            "| Processes:                                                                  |\n",
            "|  GPU   GI   CI        PID   Type   Process name                  GPU Memory |\n",
            "|        ID   ID                                                   Usage      |\n",
            "|=============================================================================|\n",
            "|  No running processes found                                                 |\n",
            "+-----------------------------------------------------------------------------+\n"
          ],
          "name": "stdout"
        }
      ]
    },
    {
      "cell_type": "markdown",
      "metadata": {
        "colab_type": "text",
        "id": "g2O5mwC2gI_U"
      },
      "source": [
        "## Mount Google drive and Unzip data"
      ]
    },
    {
      "cell_type": "code",
      "metadata": {
        "colab_type": "code",
        "id": "4O5wjvwRgCDk",
        "colab": {
          "base_uri": "https://localhost:8080/",
          "height": 122
        },
        "outputId": "9c23e752-d4a9-4bf8-eaac-f8fa67afc039"
      },
      "source": [
        "from google.colab import drive\n",
        "drive.mount('/content/drive')"
      ],
      "execution_count": 7,
      "outputs": [
        {
          "output_type": "stream",
          "text": [
            "Go to this URL in a browser: https://accounts.google.com/o/oauth2/auth?client_id=947318989803-6bn6qk8qdgf4n4g3pfee6491hc0brc4i.apps.googleusercontent.com&redirect_uri=urn%3aietf%3awg%3aoauth%3a2.0%3aoob&response_type=code&scope=email%20https%3a%2f%2fwww.googleapis.com%2fauth%2fdocs.test%20https%3a%2f%2fwww.googleapis.com%2fauth%2fdrive%20https%3a%2f%2fwww.googleapis.com%2fauth%2fdrive.photos.readonly%20https%3a%2f%2fwww.googleapis.com%2fauth%2fpeopleapi.readonly\n",
            "\n",
            "Enter your authorization code:\n",
            "··········\n",
            "Mounted at /content/drive\n"
          ],
          "name": "stdout"
        }
      ]
    },
    {
      "cell_type": "code",
      "metadata": {
        "colab_type": "code",
        "id": "al0fC5dYgTBD",
        "colab": {
          "base_uri": "https://localhost:8080/",
          "height": 34
        },
        "outputId": "a14ef406-96d7-43c1-ecb1-4bbc0c6b4b8e"
      },
      "source": [
        "!unzip -d '../content/train_curated' -qq  \"/content/drive/My Drive/Machine_Learning/My_Projects/19009 - Freesound 2019/train_curated.zip\""
      ],
      "execution_count": 24,
      "outputs": [
        {
          "output_type": "stream",
          "text": [
            "replace ../content/train_curated/c1b84d6f.wav? [y]es, [n]o, [A]ll, [N]one, [r]ename: A\n"
          ],
          "name": "stdout"
        }
      ]
    },
    {
      "cell_type": "code",
      "metadata": {
        "colab_type": "code",
        "id": "aS-KcMDAno1S",
        "colab": {}
      },
      "source": [
        "!cp \"/content/drive/My Drive/Machine_Learning/My_Projects/19009 - Freesound 2019/train_curated.csv\" '../content' "
      ],
      "execution_count": 25,
      "outputs": []
    },
    {
      "cell_type": "code",
      "metadata": {
        "colab_type": "code",
        "id": "p2l6XDyj0n8c",
        "colab": {
          "base_uri": "https://localhost:8080/",
          "height": 34
        },
        "outputId": "7e37c9ec-2968-42f8-9fa1-b324fe63e612"
      },
      "source": [
        "import os\n",
        "files = os.listdir('../content/train_curated')\n",
        "len(files)"
      ],
      "execution_count": 26,
      "outputs": [
        {
          "output_type": "execute_result",
          "data": {
            "text/plain": [
              "4970"
            ]
          },
          "metadata": {
            "tags": []
          },
          "execution_count": 26
        }
      ]
    },
    {
      "cell_type": "markdown",
      "metadata": {
        "colab_type": "text",
        "id": "sqkfnPsxvUG7"
      },
      "source": [
        "## COLAB ONLY - INSTALL FASTAI2"
      ]
    },
    {
      "cell_type": "code",
      "metadata": {
        "colab_type": "code",
        "id": "SLc5PWxdvYkb",
        "colab": {
          "base_uri": "https://localhost:8080/",
          "height": 34
        },
        "outputId": "a19d765b-452e-4845-98a6-6a2fb7647a3a"
      },
      "source": [
        "!pip install fastai2 -q"
      ],
      "execution_count": 2,
      "outputs": [
        {
          "output_type": "stream",
          "text": [
            "\u001b[?25l\r\u001b[K     |█▉                              | 10kB 31.8MB/s eta 0:00:01\r\u001b[K     |███▊                            | 20kB 6.3MB/s eta 0:00:01\r\u001b[K     |█████▋                          | 30kB 7.4MB/s eta 0:00:01\r\u001b[K     |███████▍                        | 40kB 7.8MB/s eta 0:00:01\r\u001b[K     |█████████▎                      | 51kB 7.3MB/s eta 0:00:01\r\u001b[K     |███████████▏                    | 61kB 8.2MB/s eta 0:00:01\r\u001b[K     |█████████████                   | 71kB 8.1MB/s eta 0:00:01\r\u001b[K     |██████████████▉                 | 81kB 9.0MB/s eta 0:00:01\r\u001b[K     |████████████████▊               | 92kB 8.4MB/s eta 0:00:01\r\u001b[K     |██████████████████▋             | 102kB 8.4MB/s eta 0:00:01\r\u001b[K     |████████████████████▌           | 112kB 8.4MB/s eta 0:00:01\r\u001b[K     |██████████████████████▎         | 122kB 8.4MB/s eta 0:00:01\r\u001b[K     |████████████████████████▏       | 133kB 8.4MB/s eta 0:00:01\r\u001b[K     |██████████████████████████      | 143kB 8.4MB/s eta 0:00:01\r\u001b[K     |███████████████████████████▉    | 153kB 8.4MB/s eta 0:00:01\r\u001b[K     |█████████████████████████████▊  | 163kB 8.4MB/s eta 0:00:01\r\u001b[K     |███████████████████████████████▋| 174kB 8.4MB/s eta 0:00:01\r\u001b[K     |████████████████████████████████| 184kB 8.4MB/s \n",
            "\u001b[?25h"
          ],
          "name": "stdout"
        }
      ]
    },
    {
      "cell_type": "markdown",
      "metadata": {
        "colab_type": "text",
        "id": "ycpfB-G4sWCd"
      },
      "source": [
        "## Install the fastai2_audio library\n",
        "\n",
        "We need to install the fastai2_audio library to the local kernel/environment for the analysis\n",
        "\n",
        "Note the lack of `!pip` (that install to the root env) but rather standard `pip` (that installs to the current kernl/env)..."
      ]
    },
    {
      "cell_type": "code",
      "metadata": {
        "colab_type": "code",
        "id": "B7ogGfTcsWCf",
        "scrolled": true,
        "colab": {
          "base_uri": "https://localhost:8080/",
          "height": 68
        },
        "outputId": "7b55ceb9-a70d-4ca7-f8d7-1be030e0a329"
      },
      "source": [
        "#In Colab we need to run this as a shell command i.e. with '!' infront of 'pip'\n",
        "\n",
        "!pip install git+https://github.com/rbracco/fastai2_audio.git -q"
      ],
      "execution_count": 3,
      "outputs": [
        {
          "output_type": "stream",
          "text": [
            "\u001b[K     |████████████████████████████████| 6.7MB 8.7MB/s \n",
            "\u001b[?25h  Building wheel for fastai2-audio (setup.py) ... \u001b[?25l\u001b[?25hdone\n",
            "  Building wheel for colorednoise (setup.py) ... \u001b[?25l\u001b[?25hdone\n"
          ],
          "name": "stdout"
        }
      ]
    },
    {
      "cell_type": "code",
      "metadata": {
        "colab_type": "code",
        "id": "F2gUqCfWsWCm",
        "colab": {}
      },
      "source": [
        "# Solving an OSError problem with Librosa SoundFile dependency (libsndfile)\n",
        "# SageMaker/GCP Only\n",
        "\n",
        "# !conda install -c conda-forge libsndfile --yes"
      ],
      "execution_count": null,
      "outputs": []
    },
    {
      "cell_type": "markdown",
      "metadata": {
        "colab_type": "text",
        "id": "hWCdC9SesWCs"
      },
      "source": [
        "# Train the fastai model\n",
        "First we will train our fastai model on the notebook instance using the kernel named `fastai2`.\n",
        "\n",
        "The audio package analysis follows guidance given within: https://github.com/muellerzr/Practical-Deep-Learning-for-Coders-2.0/blob/master/Computer%20Vision/07_Audio.ipynb"
      ]
    },
    {
      "cell_type": "code",
      "metadata": {
        "colab_type": "code",
        "id": "CjNZwPO-sWCu",
        "colab": {}
      },
      "source": [
        "from fastai2.vision.all import *\n",
        "from fastai2_audio.core.all import *\n",
        "from fastai2_audio.augment.all import *"
      ],
      "execution_count": 27,
      "outputs": []
    },
    {
      "cell_type": "markdown",
      "metadata": {
        "colab_type": "text",
        "id": "wrVPGqs4sWC0"
      },
      "source": [
        "**Create Dataframes from csv files**\n",
        "\n",
        "**Note: Delete Corrupted and empty files list in Kaggle Competition Note**\n",
        "\n",
        "*The following 5 audio files in the curated train set have a wrong label, due to a bug in the file renaming process: f76181c4.wav, 77b925c2.wav, 6a1f682a.wav, c7db12aa.wav, 7752cc8a.wav*\n",
        "\n",
        "*The audio file 1d44b0bd.wav in the curated train set was found to be corrupted (contains no signal) due to an error in format conversion.*"
      ]
    },
    {
      "cell_type": "code",
      "metadata": {
        "colab_type": "code",
        "id": "CtlGpnA4sWC2",
        "colab": {}
      },
      "source": [
        "# Create train_curated Dataframe\n",
        "\n",
        "def create_train_curated_df(file, remove_files=[]):\n",
        "    df_curated = pd.read_csv(file)\n",
        "    df_curated.set_index('fname', inplace=True)\n",
        "    df_curated.loc[remove_files]\n",
        "    df_curated.drop(index=remove_files, inplace=True)\n",
        "    df_curated.reset_index(inplace=True)\n",
        "    return df_curated"
      ],
      "execution_count": 58,
      "outputs": []
    },
    {
      "cell_type": "code",
      "metadata": {
        "colab_type": "code",
        "id": "xBEgDDVEsWC8",
        "colab": {
          "base_uri": "https://localhost:8080/",
          "height": 204
        },
        "outputId": "c02c1aef-56d5-4406-abab-6c513423b811"
      },
      "source": [
        "# Create Curated training set df\n",
        "\n",
        "# Remove corrupt and empty files as per Kaggle\n",
        "\n",
        "remove_files = ['f76181c4.wav', '77b925c2.wav', '6a1f682a.wav', 'c7db12aa.wav', '7752cc8a.wav', '1d44b0bd.wav']\n",
        "df_curated = create_train_curated_df('../content/train_curated.csv', remove_files=remove_files)\n",
        "df_curated.head()"
      ],
      "execution_count": 59,
      "outputs": [
        {
          "output_type": "execute_result",
          "data": {
            "text/html": [
              "<div>\n",
              "<style scoped>\n",
              "    .dataframe tbody tr th:only-of-type {\n",
              "        vertical-align: middle;\n",
              "    }\n",
              "\n",
              "    .dataframe tbody tr th {\n",
              "        vertical-align: top;\n",
              "    }\n",
              "\n",
              "    .dataframe thead th {\n",
              "        text-align: right;\n",
              "    }\n",
              "</style>\n",
              "<table border=\"1\" class=\"dataframe\">\n",
              "  <thead>\n",
              "    <tr style=\"text-align: right;\">\n",
              "      <th></th>\n",
              "      <th>fname</th>\n",
              "      <th>labels</th>\n",
              "    </tr>\n",
              "  </thead>\n",
              "  <tbody>\n",
              "    <tr>\n",
              "      <th>0</th>\n",
              "      <td>0006ae4e.wav</td>\n",
              "      <td>Bark</td>\n",
              "    </tr>\n",
              "    <tr>\n",
              "      <th>1</th>\n",
              "      <td>0019ef41.wav</td>\n",
              "      <td>Raindrop</td>\n",
              "    </tr>\n",
              "    <tr>\n",
              "      <th>2</th>\n",
              "      <td>001ec0ad.wav</td>\n",
              "      <td>Finger_snapping</td>\n",
              "    </tr>\n",
              "    <tr>\n",
              "      <th>3</th>\n",
              "      <td>0026c7cb.wav</td>\n",
              "      <td>Run</td>\n",
              "    </tr>\n",
              "    <tr>\n",
              "      <th>4</th>\n",
              "      <td>0026f116.wav</td>\n",
              "      <td>Finger_snapping</td>\n",
              "    </tr>\n",
              "  </tbody>\n",
              "</table>\n",
              "</div>"
            ],
            "text/plain": [
              "          fname           labels\n",
              "0  0006ae4e.wav             Bark\n",
              "1  0019ef41.wav         Raindrop\n",
              "2  001ec0ad.wav  Finger_snapping\n",
              "3  0026c7cb.wav              Run\n",
              "4  0026f116.wav  Finger_snapping"
            ]
          },
          "metadata": {
            "tags": []
          },
          "execution_count": 59
        }
      ]
    },
    {
      "cell_type": "code",
      "metadata": {
        "colab_type": "code",
        "id": "zo--M-6XsWDK",
        "colab": {
          "base_uri": "https://localhost:8080/",
          "height": 173
        },
        "outputId": "7c5261a5-de38-4dc4-f14e-bca96e8a3c01"
      },
      "source": [
        "df_curated.describe()"
      ],
      "execution_count": 60,
      "outputs": [
        {
          "output_type": "execute_result",
          "data": {
            "text/html": [
              "<div>\n",
              "<style scoped>\n",
              "    .dataframe tbody tr th:only-of-type {\n",
              "        vertical-align: middle;\n",
              "    }\n",
              "\n",
              "    .dataframe tbody tr th {\n",
              "        vertical-align: top;\n",
              "    }\n",
              "\n",
              "    .dataframe thead th {\n",
              "        text-align: right;\n",
              "    }\n",
              "</style>\n",
              "<table border=\"1\" class=\"dataframe\">\n",
              "  <thead>\n",
              "    <tr style=\"text-align: right;\">\n",
              "      <th></th>\n",
              "      <th>fname</th>\n",
              "      <th>labels</th>\n",
              "    </tr>\n",
              "  </thead>\n",
              "  <tbody>\n",
              "    <tr>\n",
              "      <th>count</th>\n",
              "      <td>4964</td>\n",
              "      <td>4964</td>\n",
              "    </tr>\n",
              "    <tr>\n",
              "      <th>unique</th>\n",
              "      <td>4964</td>\n",
              "      <td>213</td>\n",
              "    </tr>\n",
              "    <tr>\n",
              "      <th>top</th>\n",
              "      <td>a0a59a53.wav</td>\n",
              "      <td>Computer_keyboard</td>\n",
              "    </tr>\n",
              "    <tr>\n",
              "      <th>freq</th>\n",
              "      <td>1</td>\n",
              "      <td>75</td>\n",
              "    </tr>\n",
              "  </tbody>\n",
              "</table>\n",
              "</div>"
            ],
            "text/plain": [
              "               fname             labels\n",
              "count           4964               4964\n",
              "unique          4964                213\n",
              "top     a0a59a53.wav  Computer_keyboard\n",
              "freq               1                 75"
            ]
          },
          "metadata": {
            "tags": []
          },
          "execution_count": 60
        }
      ]
    },
    {
      "cell_type": "markdown",
      "metadata": {
        "id": "6FHlEPhP1nrQ",
        "colab_type": "text"
      },
      "source": [
        "Let's also unlink these corrupted files from the file structure;"
      ]
    },
    {
      "cell_type": "code",
      "metadata": {
        "id": "79BBUCzk1qma",
        "colab_type": "code",
        "colab": {
          "base_uri": "https://localhost:8080/",
          "height": 221
        },
        "outputId": "c1b8a8ba-167a-49c0-aaf8-da313a9f4244"
      },
      "source": [
        "for corrupt_file in remove_files:\n",
        "    corrupt = Path('train_curated', corrupt_file)\n",
        "    print(corrupt.exists())\n",
        "    print(corrupt)\n",
        "    os.unlink(corrupt)"
      ],
      "execution_count": 125,
      "outputs": [
        {
          "output_type": "stream",
          "text": [
            "True\n",
            "train_curated/f76181c4.wav\n",
            "True\n",
            "train_curated/77b925c2.wav\n",
            "True\n",
            "train_curated/6a1f682a.wav\n",
            "True\n",
            "train_curated/c7db12aa.wav\n",
            "True\n",
            "train_curated/7752cc8a.wav\n",
            "True\n",
            "train_curated/1d44b0bd.wav\n"
          ],
          "name": "stdout"
        }
      ]
    },
    {
      "cell_type": "markdown",
      "metadata": {
        "colab_type": "text",
        "id": "LKr7w6grsWDW"
      },
      "source": [
        "**Now define the data paths**\n",
        "\n",
        "First we're going to try to train with the curated train set only to see the performance. Then we can mix both the curated and noise train set to see the results."
      ]
    },
    {
      "cell_type": "code",
      "metadata": {
        "colab_type": "code",
        "id": "pqZYefXJsWDd",
        "colab": {}
      },
      "source": [
        "fnames = df_curated['fname']"
      ],
      "execution_count": 31,
      "outputs": []
    },
    {
      "cell_type": "code",
      "metadata": {
        "colab_type": "code",
        "id": "uMfhlQd_sWDi",
        "colab": {
          "base_uri": "https://localhost:8080/",
          "height": 119
        },
        "outputId": "b6f6dff0-445e-44c6-c592-518f21eb7ef3"
      },
      "source": [
        "fnames[:5]"
      ],
      "execution_count": 32,
      "outputs": [
        {
          "output_type": "execute_result",
          "data": {
            "text/plain": [
              "0    0006ae4e.wav\n",
              "1    0019ef41.wav\n",
              "2    001ec0ad.wav\n",
              "3    0026c7cb.wav\n",
              "4    0026f116.wav\n",
              "Name: fname, dtype: object"
            ]
          },
          "metadata": {
            "tags": []
          },
          "execution_count": 32
        }
      ]
    },
    {
      "cell_type": "code",
      "metadata": {
        "colab_type": "code",
        "id": "EaPusNKWsWDn",
        "colab": {}
      },
      "source": [
        "fdir = '../content/train_curated'\n",
        "fpaths = [Path(fdir,df_curated['fname'][ind]) for ind in df_curated.index]"
      ],
      "execution_count": 33,
      "outputs": []
    },
    {
      "cell_type": "code",
      "metadata": {
        "colab_type": "code",
        "id": "B4Cu9WwKsWDs",
        "colab": {
          "base_uri": "https://localhost:8080/",
          "height": 34
        },
        "outputId": "c8e27514-d486-40c7-83a1-9ca8d19d4fe3"
      },
      "source": [
        "len(fpaths)"
      ],
      "execution_count": 34,
      "outputs": [
        {
          "output_type": "execute_result",
          "data": {
            "text/plain": [
              "4964"
            ]
          },
          "metadata": {
            "tags": []
          },
          "execution_count": 34
        }
      ]
    },
    {
      "cell_type": "markdown",
      "metadata": {
        "colab_type": "text",
        "id": "DymZvsgasWEV"
      },
      "source": [
        "## Using the DataBlock API:\n",
        "\n",
        "* We'll want to use our same transforms we used for the Pipeline\n",
        "* An appropriate getter\n",
        "* An appropriate labeller\n",
        "\n",
        "The following datablock method references the new and wonderful **\"Fastbook\"** by fastai:\n",
        "\n",
        "https://github.com/fastai/fastbook/blob/master/06_multicat.ipynb\n",
        "\n",
        "and the above mentioned Audio notebook by Z Mueller.\n",
        "\n",
        "> ### Constructing a data block\n",
        ">\n",
        ">How do we convert from a DataFrame object to a DataLoaders object? PyTorch and fastai have two main classes for representing and accessing a training set or validation set:\n",
        ">\n",
        ">* **Dataset**:: a collection which returns a tuple of your independent and dependent variable for a single item\n",
        ">* **DataLoader**:: an iterator which provides a stream of mini batches, where each mini batch is a couple of a batch of independent variables and a batch of dependent variables\n",
        ">\n",
        ">On top of these, fastai provides two classes for bringing your training and validation sets together:\n",
        ">\n",
        ">* **Datasets**:: an object which contains a training Dataset and a validation Dataset\n",
        ">* **DataLoaders**:: an object which contains a training DataLoader and a validation DataLoader\n",
        ">\n",
        ">Since a DataLoader builds on top of a Dataset, and adds additional functionality to it (collating multiple items into a mini batch), it’s often easiest to start by creating and testing Datasets, and then look at DataLoaders after that’s working.\n",
        "\n",
        "\n",
        "The files in this case have multi-labels within the 'labels' column of the dataframe. \n",
        "\n",
        "So we will need to set the multi-labels appropriately in training.\n",
        "\n",
        "First, we create a \"datasets\" object from our dataframe:\n"
      ]
    },
    {
      "cell_type": "markdown",
      "metadata": {
        "colab_type": "text",
        "id": "MNNziPlDsWEp"
      },
      "source": [
        "## Data Augmentation\n",
        "\n",
        "We can use the `SpectrogramTransformer` class to prepare some transforms for us.\n",
        "\n",
        "We need to open the audio file and convert to mel-spectrogramtensors.\n"
      ]
    },
    {
      "cell_type": "code",
      "metadata": {
        "colab_type": "code",
        "id": "SwAElDvssWEk",
        "colab": {
          "base_uri": "https://localhost:8080/",
          "height": 34
        },
        "outputId": "861678d5-feec-44eb-a755-01d30d569728"
      },
      "source": [
        "def get_x(r): return '../content/train_curated/'+r['fname']\n",
        "def get_y(r): return r['labels'].split(',') # split labels on ','\n",
        "dblock = DataBlock(get_x = get_x, get_y = get_y)\n",
        "dsets = dblock.datasets(df_curated)\n",
        "dsets.train[0]"
      ],
      "execution_count": 71,
      "outputs": [
        {
          "output_type": "execute_result",
          "data": {
            "text/plain": [
              "('../content/train_curated/554b49a5.wav', ['Zipper_(clothing)'])"
            ]
          },
          "metadata": {
            "tags": []
          },
          "execution_count": 71
        }
      ]
    },
    {
      "cell_type": "code",
      "metadata": {
        "colab_type": "code",
        "id": "bBqbvEnlsWEr",
        "colab": {}
      },
      "source": [
        "DBMelSpec = SpectrogramTransformer(mel=True, to_db=True)"
      ],
      "execution_count": 72,
      "outputs": []
    },
    {
      "cell_type": "code",
      "metadata": {
        "colab_type": "code",
        "id": "xJqspq0uq0U5",
        "colab": {}
      },
      "source": [
        "clip_length = 2 # clip subsection length in seconds\n",
        "sr = 44100 # sample rate\n",
        "f_min = 20 # mel-spectrogram minimum frequency\n",
        "f_max = 20000 # mel-spectrogram minimum frequency\n",
        "n_mels = 128 # mel-frequency bins\n",
        "hop_length = math.ceil((clip_length*sr)/n_mels)# determines width of image. for square to match n_mels, set math.ceil((clip_length*sr)/n_mels)\n",
        "nfft = n_mels * 20 # = 2560 for higher resolution in y-axis\n",
        "win_length = 1024 # sample windowing\n",
        "top_db = 80 # highest noise level in relative db"
      ],
      "execution_count": 73,
      "outputs": []
    },
    {
      "cell_type": "code",
      "metadata": {
        "colab_type": "code",
        "id": "zZ3nQuMnsWEy",
        "colab": {
          "base_uri": "https://localhost:8080/",
          "height": 289
        },
        "outputId": "cd72b123-8201-490b-f4ef-0edd3b3d15c3"
      },
      "source": [
        "cfg = AudioConfig.BasicMelSpectrogram()\n",
        "aud2spec = AudioToSpec.from_cfg(cfg)\n",
        "aud2spec = DBMelSpec(sample_rate=sr, win_length=win_length, \n",
        "                     f_max=f_max, f_min=f_min, n_mels=n_mels, \n",
        "                     n_fft=nfft, hop_length=hop_length, top_db=top_db)\n",
        "aud2spec.settings"
      ],
      "execution_count": 74,
      "outputs": [
        {
          "output_type": "execute_result",
          "data": {
            "text/plain": [
              "{'f_max': 20000,\n",
              " 'f_min': 20,\n",
              " 'hop_length': 690,\n",
              " 'mel': True,\n",
              " 'n_fft': 2560,\n",
              " 'n_mels': 128,\n",
              " 'normalized': False,\n",
              " 'pad': 0,\n",
              " 'power': 2.0,\n",
              " 'sample_rate': 44100,\n",
              " 'stype': 'power',\n",
              " 'to_db': True,\n",
              " 'top_db': 80,\n",
              " 'win_length': 1024,\n",
              " 'window_fn': <function _VariableFunctionsClass.hann_window>,\n",
              " 'wkwargs': None}"
            ]
          },
          "metadata": {
            "tags": []
          },
          "execution_count": 74
        }
      ]
    },
    {
      "cell_type": "markdown",
      "metadata": {
        "colab_type": "text",
        "id": "oZTtxkoWsWE8"
      },
      "source": [
        "For our transforms, we'll use:\n",
        "* `RemoveSilence`\n",
        "  * Splits a signal at points of silence more than 2 * `pad_ms` (default is 20)\n",
        "* `CropSignal`\n",
        "  * Crops a signal by `duration` and adds padding if needed\n",
        "* `aud2spec`\n",
        "  * Our `SpectrogramTransformer` with parameters\n",
        "* `MaskTime`\n",
        "  * Wrapper for `MaskFre`, which applies `einsum` operations\n",
        "* `MaskFreq`\n",
        "  * [SpecAugment Time Masking](https://arxiv.org/abs/1904.08779)"
      ]
    },
    {
      "cell_type": "markdown",
      "metadata": {
        "colab_type": "text",
        "id": "jwKcBc8BsWE_"
      },
      "source": [
        "Let's look a bit more at the padding `CropSignal` uses:\n",
        "\n",
        "There are three different types:\n",
        "* `AudioPadTypes.Zeros`: The default, random zeros before and after\n",
        "* `AudioPadType.Repeat`: Repeat the signal until proper length (great for coustic scene classification and voice recognition, terrible for speech recognition)\n",
        "* `AudioPadtype.ZerosAfter`: This is the default for many other libraries, just pad with zeros until you get the specified length."
      ]
    },
    {
      "cell_type": "code",
      "metadata": {
        "colab_type": "code",
        "id": "QYCrc0hAsWFB",
        "colab": {}
      },
      "source": [
        "item_tfms = [RemoveSilence(threshold=20), \n",
        "             CropSignal(clip_length*1000), \n",
        "             aud2spec, \n",
        "             MaskTime(num_masks=1, size=8), MaskFreq(num_masks=1, size=8)]"
      ],
      "execution_count": 75,
      "outputs": []
    },
    {
      "cell_type": "markdown",
      "metadata": {
        "colab_type": "text",
        "id": "bMhu6Ke8sWFH"
      },
      "source": [
        "Now let's build our `DataBlock`\n",
        "\n",
        "The block type can be used here, combining the `AudioBlock` for the audio transforms and the `MultiCategoryBlock` for multi-label classification. This type of block expects to receive a list of strings for the different labels."
      ]
    },
    {
      "cell_type": "code",
      "metadata": {
        "colab_type": "code",
        "id": "jL9VQSW7sWFW",
        "colab": {
          "base_uri": "https://localhost:8080/",
          "height": 136
        },
        "outputId": "f78b4bdf-a7ee-4e82-80cd-3dcd190f30f2"
      },
      "source": [
        "dblock = DataBlock(blocks=(AudioBlock, MultiCategoryBlock),\n",
        "                    splitter=RandomSplitter(valid_pct=0.1, seed=42), # ensure reproducibility with seed\n",
        "                    get_x=get_x,\n",
        "                    get_y=get_y,\n",
        "                    item_tfms = item_tfms)\n",
        "\n",
        "dsets = dblock.datasets(df_curated)\n",
        "dsets.train[0]"
      ],
      "execution_count": 76,
      "outputs": [
        {
          "output_type": "execute_result",
          "data": {
            "text/plain": [
              "(AudioTensor([[ 2.1362e-04,  3.0518e-04,  1.4648e-03,  ...,  0.0000e+00,\n",
              "          -3.0518e-05,  0.0000e+00]]),\n",
              " TensorMultiCategory([0., 0., 0., 0., 0., 0., 0., 0., 0., 0., 0., 0., 0., 0., 0., 0., 0., 0.,\n",
              "         0., 0., 0., 0., 0., 0., 0., 0., 0., 0., 0., 0., 0., 0., 0., 0., 0., 0.,\n",
              "         0., 0., 0., 0., 0., 0., 0., 0., 0., 0., 0., 1., 0., 0., 0., 0., 0., 0.,\n",
              "         0., 0., 0., 0., 0., 0., 0., 0., 0., 0., 0., 0., 0., 0., 0., 0., 0., 0.,\n",
              "         0., 0., 0., 0., 0., 0., 0., 0.]))"
            ]
          },
          "metadata": {
            "tags": []
          },
          "execution_count": 76
        }
      ]
    },
    {
      "cell_type": "markdown",
      "metadata": {
        "id": "dRSewsK1ooJq",
        "colab_type": "text"
      },
      "source": [
        "**Note: using this alternative DataBlock to remove `get_x` problem in unpickling of learn.export().**\n",
        "\n",
        "Need to make our labeller function and test it:"
      ]
    },
    {
      "cell_type": "code",
      "metadata": {
        "id": "QpsCduAho5vo",
        "colab_type": "code",
        "colab": {}
      },
      "source": [
        "def label_func(filep):\n",
        "    label = df_curated.loc[df_curated.fname == filep.name, 'labels'].values[0]\n",
        "    return label.split(',') # split labels on ','"
      ],
      "execution_count": 136,
      "outputs": []
    },
    {
      "cell_type": "code",
      "metadata": {
        "id": "BD3Ph-FhrJtM",
        "colab_type": "code",
        "colab": {
          "base_uri": "https://localhost:8080/",
          "height": 54
        },
        "outputId": "95c4fade-bfcf-4fc0-dde4-465394b420d6"
      },
      "source": [
        "fname = get_audio_files(fdir)\n",
        "fname"
      ],
      "execution_count": 137,
      "outputs": [
        {
          "output_type": "execute_result",
          "data": {
            "text/plain": [
              "(#4964) [Path('../content/train_curated/3e81e88f.wav'),Path('../content/train_curated/f3b63427.wav'),Path('../content/train_curated/57d57a75.wav'),Path('../content/train_curated/eeddd7a9.wav'),Path('../content/train_curated/b9802920.wav'),Path('../content/train_curated/255d71ac.wav'),Path('../content/train_curated/d6ecc654.wav'),Path('../content/train_curated/9f2b2715.wav'),Path('../content/train_curated/f2af7e79.wav'),Path('../content/train_curated/81e8c522.wav')...]"
            ]
          },
          "metadata": {
            "tags": []
          },
          "execution_count": 137
        }
      ]
    },
    {
      "cell_type": "code",
      "metadata": {
        "id": "ImmYQssNydRx",
        "colab_type": "code",
        "colab": {
          "base_uri": "https://localhost:8080/",
          "height": 204
        },
        "outputId": "28bac7d7-0174-4d10-b47d-0c41a5c03efb"
      },
      "source": [
        "df_curated.head()"
      ],
      "execution_count": 138,
      "outputs": [
        {
          "output_type": "execute_result",
          "data": {
            "text/html": [
              "<div>\n",
              "<style scoped>\n",
              "    .dataframe tbody tr th:only-of-type {\n",
              "        vertical-align: middle;\n",
              "    }\n",
              "\n",
              "    .dataframe tbody tr th {\n",
              "        vertical-align: top;\n",
              "    }\n",
              "\n",
              "    .dataframe thead th {\n",
              "        text-align: right;\n",
              "    }\n",
              "</style>\n",
              "<table border=\"1\" class=\"dataframe\">\n",
              "  <thead>\n",
              "    <tr style=\"text-align: right;\">\n",
              "      <th></th>\n",
              "      <th>fname</th>\n",
              "      <th>labels</th>\n",
              "    </tr>\n",
              "  </thead>\n",
              "  <tbody>\n",
              "    <tr>\n",
              "      <th>0</th>\n",
              "      <td>0006ae4e.wav</td>\n",
              "      <td>Bark</td>\n",
              "    </tr>\n",
              "    <tr>\n",
              "      <th>1</th>\n",
              "      <td>0019ef41.wav</td>\n",
              "      <td>Raindrop</td>\n",
              "    </tr>\n",
              "    <tr>\n",
              "      <th>2</th>\n",
              "      <td>001ec0ad.wav</td>\n",
              "      <td>Finger_snapping</td>\n",
              "    </tr>\n",
              "    <tr>\n",
              "      <th>3</th>\n",
              "      <td>0026c7cb.wav</td>\n",
              "      <td>Run</td>\n",
              "    </tr>\n",
              "    <tr>\n",
              "      <th>4</th>\n",
              "      <td>0026f116.wav</td>\n",
              "      <td>Finger_snapping</td>\n",
              "    </tr>\n",
              "  </tbody>\n",
              "</table>\n",
              "</div>"
            ],
            "text/plain": [
              "          fname           labels\n",
              "0  0006ae4e.wav             Bark\n",
              "1  0019ef41.wav         Raindrop\n",
              "2  001ec0ad.wav  Finger_snapping\n",
              "3  0026c7cb.wav              Run\n",
              "4  0026f116.wav  Finger_snapping"
            ]
          },
          "metadata": {
            "tags": []
          },
          "execution_count": 138
        }
      ]
    },
    {
      "cell_type": "code",
      "metadata": {
        "id": "VlC73f3JyXeE",
        "colab_type": "code",
        "colab": {}
      },
      "source": [
        "test_path = Path('../content/train_curated/001ec0ad.wav')"
      ],
      "execution_count": 139,
      "outputs": []
    },
    {
      "cell_type": "code",
      "metadata": {
        "id": "-1vQHO8WrZSs",
        "colab_type": "code",
        "colab": {
          "base_uri": "https://localhost:8080/",
          "height": 34
        },
        "outputId": "271fe5b2-7160-4763-a608-cdfd06acd73b"
      },
      "source": [
        "label_func(test_path)"
      ],
      "execution_count": 140,
      "outputs": [
        {
          "output_type": "execute_result",
          "data": {
            "text/plain": [
              "['Finger_snapping']"
            ]
          },
          "metadata": {
            "tags": []
          },
          "execution_count": 140
        }
      ]
    },
    {
      "cell_type": "code",
      "metadata": {
        "id": "gFoGucwlohRs",
        "colab_type": "code",
        "colab": {
          "base_uri": "https://localhost:8080/",
          "height": 136
        },
        "outputId": "db4ace79-926c-406b-9479-02368eb7cfed"
      },
      "source": [
        "# alternative datablock to solve pickling `get_x` problem\n",
        "\n",
        "fdir = Path('../content/train_curated')\n",
        "\n",
        "dblock = DataBlock(blocks=(AudioBlock, MultiCategoryBlock),\n",
        "                    splitter=RandomSplitter(valid_pct=0.1, seed=42), # ensure reproducibility with seed\n",
        "                    get_items=get_audio_files,\n",
        "                    get_y=label_func,\n",
        "                    item_tfms = item_tfms)\n",
        "\n",
        "dsets = dblock.datasets(fdir)\n",
        "dsets.train[0]"
      ],
      "execution_count": 141,
      "outputs": [
        {
          "output_type": "execute_result",
          "data": {
            "text/plain": [
              "(AudioTensor([[-1.2207e-04, -3.0518e-05, -1.8311e-04,  ...,  0.0000e+00,\n",
              "          -3.0518e-05,  0.0000e+00]]),\n",
              " TensorMultiCategory([0., 0., 0., 0., 0., 0., 0., 1., 0., 0., 0., 0., 0., 0., 0., 0., 0., 0.,\n",
              "         0., 0., 0., 0., 0., 0., 0., 0., 0., 0., 0., 0., 0., 0., 0., 0., 0., 0.,\n",
              "         0., 0., 0., 0., 0., 0., 0., 0., 0., 0., 0., 0., 0., 0., 0., 0., 0., 0.,\n",
              "         0., 0., 0., 0., 0., 0., 0., 0., 0., 0., 0., 0., 0., 0., 0., 0., 0., 0.,\n",
              "         0., 0., 0., 0., 0., 0., 0., 0.]))"
            ]
          },
          "metadata": {
            "tags": []
          },
          "execution_count": 141
        }
      ]
    },
    {
      "cell_type": "code",
      "metadata": {
        "colab_type": "code",
        "id": "XMM9CBdkrkuq",
        "colab": {
          "base_uri": "https://localhost:8080/",
          "height": 34
        },
        "outputId": "a5c612cb-6612-4a25-f22e-af42ede90bd5"
      },
      "source": [
        "# Let's see what size the training and validation dataset items have\n",
        "\n",
        "xt,yt = dsets.train[0] # xt = AudioTensor, yt = TensorMultiCategory\n",
        "xt.shape,yt.shape,len(dsets.train) # show shapes and dataset size (no. items)"
      ],
      "execution_count": 142,
      "outputs": [
        {
          "output_type": "execute_result",
          "data": {
            "text/plain": [
              "(torch.Size([1, 345298]), torch.Size([80]), 4468)"
            ]
          },
          "metadata": {
            "tags": []
          },
          "execution_count": 142
        }
      ]
    },
    {
      "cell_type": "code",
      "metadata": {
        "colab_type": "code",
        "id": "5ij52qdqrpO4",
        "colab": {
          "base_uri": "https://localhost:8080/",
          "height": 34
        },
        "outputId": "920e5b52-7664-4d8a-bbff-278fb69f75b6"
      },
      "source": [
        "xv,yv = dsets.valid[0]\n",
        "xv.shape,yv.shape,len(dsets.valid)"
      ],
      "execution_count": 143,
      "outputs": [
        {
          "output_type": "execute_result",
          "data": {
            "text/plain": [
              "(torch.Size([1, 27890]), torch.Size([80]), 496)"
            ]
          },
          "metadata": {
            "tags": []
          },
          "execution_count": 143
        }
      ]
    },
    {
      "cell_type": "markdown",
      "metadata": {
        "colab_type": "text",
        "id": "hruUKJizsWFP"
      },
      "source": [
        "In the above we can see the created audiotensor and the one-hot encoded labels: TensorMultiCategory.\n",
        "\n",
        "Let’s check what the categories represent for this example (we are using the convenient torch.where function, which tells us all of the indices where our condition is true or false). \n",
        "\n",
        "With numpy arrays, PyTorch tensors, and fastai’s L class, you can index directly using a list or vector, which makes a lot of code (such as this example) much clearer and more concise."
      ]
    },
    {
      "cell_type": "code",
      "metadata": {
        "colab_type": "code",
        "id": "vv9NZzlisWFQ",
        "colab": {
          "base_uri": "https://localhost:8080/",
          "height": 34
        },
        "outputId": "6bb5be18-7628-4b96-97c4-dd3ef01d2bd2"
      },
      "source": [
        "idxs = torch.where(dsets.train[0][1]==1.)[0]\n",
        "dsets.train.vocab[idxs]"
      ],
      "execution_count": null,
      "outputs": [
        {
          "output_type": "execute_result",
          "data": {
            "text/plain": [
              "(#1) ['Marimba_and_xylophone']"
            ]
          },
          "metadata": {
            "tags": []
          },
          "execution_count": 26
        }
      ]
    },
    {
      "cell_type": "markdown",
      "metadata": {
        "colab_type": "text",
        "id": "4wFVA6vcsWFV"
      },
      "source": [
        "**Now we define our DataLoader**\n",
        "\n",
        "A `DataLoader` collates the items from a `Dataset` into a mini batch. This is a tuple of tensors, where each tensor simply stacks the items from that location in the `Dataset` item. Now that we have confirmed that the individual items look okay there's one more step we need to ensure we can create our DataLoaders."
      ]
    },
    {
      "cell_type": "code",
      "metadata": {
        "colab_type": "code",
        "id": "bqByg8lOrbcC",
        "colab": {}
      },
      "source": [
        "dls = dblock.dataloaders(df_curated, bs=64)"
      ],
      "execution_count": null,
      "outputs": []
    },
    {
      "cell_type": "code",
      "metadata": {
        "colab_type": "code",
        "id": "I2tE18eJteRj",
        "colab": {
          "base_uri": "https://localhost:8080/",
          "height": 34
        },
        "outputId": "c2587df8-0849-422d-b4fe-851c8acfc881"
      },
      "source": [
        "# Let's check our batch shape\n",
        "dls.one_batch()[0].shape"
      ],
      "execution_count": null,
      "outputs": [
        {
          "output_type": "execute_result",
          "data": {
            "text/plain": [
              "torch.Size([64, 1, 128, 47])"
            ]
          },
          "metadata": {
            "tags": []
          },
          "execution_count": 28
        }
      ]
    },
    {
      "cell_type": "markdown",
      "metadata": {
        "colab_type": "text",
        "id": "CPI4hMd6sWFe"
      },
      "source": [
        "Let's look at some augmented data:"
      ]
    },
    {
      "cell_type": "code",
      "metadata": {
        "colab_type": "code",
        "id": "0NwIwn6qsWFh",
        "scrolled": true,
        "colab": {
          "base_uri": "https://localhost:8080/",
          "height": 902
        },
        "outputId": "cded836d-14dd-4005-d930-dcc4e65331b9"
      },
      "source": [
        "dls.show_batch(max_n=3)"
      ],
      "execution_count": null,
      "outputs": [
        {
          "output_type": "display_data",
          "data": {
            "image/png": "[encoded data removed]",
            "text/plain": [
              "<Figure size 432x288 with 2 Axes>"
            ]
          },
          "metadata": {
            "tags": [],
            "needs_background": "light"
          }
        },
        {
          "output_type": "display_data",
          "data": {
            "image/png": "[encoded data removed]",
            "text/plain": [
              "<Figure size 432x288 with 2 Axes>"
            ]
          },
          "metadata": {
            "tags": [],
            "needs_background": "light"
          }
        },
        {
          "output_type": "display_data",
          "data": {
            "image/png": "[encoded data removed]",
            "text/plain": [
              "<Figure size 432x288 with 2 Axes>"
            ]
          },
          "metadata": {
            "tags": [],
            "needs_background": "light"
          }
        },
        {
          "output_type": "stream",
          "text": [
            "Hi-hat\n",
            "Keys_jangling\n",
            "Church_bell\n"
          ],
          "name": "stdout"
        }
      ]
    },
    {
      "cell_type": "markdown",
      "metadata": {
        "colab_type": "text",
        "id": "sGmeWPMtsWFq"
      },
      "source": [
        "## Training\n",
        "\n",
        "Now that we have our `Dataloaders`, we need to make a model. We'll make a function that changes a `Learner`'s first layer to accept a 1 channel input.\n",
        "\n",
        "Let's make an audio_learner function which is similar to a cnn_learner. In addition, the learner will need the Binary Cross Entropy Loss, so we will need to combine both the approach from the fastai multicat notebook:\n",
        "\n",
        "https://github.com/fastai/fastbook/blob/master/06_multicat.ipynb\n",
        "\n",
        "and the fastai2 audio learner creation.\n",
        "\n",
        "This will need the following steps:\n",
        "\n",
        "\n",
        "\n",
        "1.   Create a standard CNN Learner\n",
        "2.   Get the activation sizes from a single mini-batch\n",
        "3. Pass the activation sizes to the BCELoss Function\n",
        "4. Pass the BCE Loss function to the `audiolearner` function, which augments the Leaner to accept a single channel input\n",
        "\n",
        "\n"
      ]
    },
    {
      "cell_type": "markdown",
      "metadata": {
        "colab_type": "text",
        "id": "GrWiZtsLsWF1"
      },
      "source": [
        "**Note on Multi-category Loss Function**\n",
        "\n",
        "Fastbook:\n",
        "\n",
        ">We also saw that the model in a Learner is generally an object of a class inheriting from nn.Module, and that you can call it using parentheses and it will return the activations of a model. You should pass it your independent variable, as a mini batch. We can try it out by grabbing a mini batch from our DataLoader, and then passing it to the model:\n",
        "\n",
        ">Note that because we have a one-hot encoded dependent variable, we can't directly use nll_loss or softmax (and therefore we can't use cross_entropy).\n",
        "\n",
        ">Normally for one-hot encoded targets you'll want F.binary_cross_entropy_with_logits (or nn.BCEWithLogitsLoss), which do both sigmoid and binary cross entropy in a single function, as in our example above.\n",
        "\n",
        "***With a standard learner, we don't normally need to tell fastai to use this loss function since it will be automatically chosen for us using the DataLoaders recognising multiple category labels. However, as we are creating an audio_learner, we need to provide the loss function to the audio_learner() function defined above.***\n",
        "\n",
        ">One change compared to the last chapter is the metric we use: since we are in a multilabel problem, we can't use the accuracy function\n",
        "\n",
        ">The class predicted was the one with the highest activation (this is what argmax does). Here it doesn't work because we could have more than one prediction on a single image. After applying the sigmoid to our activations (to make them between 0 and 1), we need to decide which ones are 0s and which ones are 1s by picking a threshold. Each value above the threshold will be considered as a 1, and each value lower than the threshold will be considered a 0. \n",
        "\n",
        ">If we pass accuracy_multi directly as a metric, it will use the default value for threshold, which is 0.5. We might want to adjust that default and create a new version of accuracy_multi that has a different default. \n",
        "\n",
        ">Picking a threshold is important. If you pick a threshold that's too low, you'll often be failing to select correctly labelled objects. If you pick a threshold that's too high, you'll often be selecting correctly labelled objects. We can see this by changing our metric, and then calling validate, which returns the validation loss and metrics. "
      ]
    },
    {
      "cell_type": "markdown",
      "metadata": {
        "colab_type": "text",
        "id": "F4nHWszjLUxT"
      },
      "source": [
        "In this case, we're going to use BCEWithLogitsLossFlat():\n",
        "\n",
        "```\"Same as `nn.CrossEntropyLoss`, but flattens input and target.\"```\n",
        "\n",
        "say the fastai docs - double check.\n",
        "\n",
        "Also, we change the output to be 80 neurons to match the label amount.\n"
      ]
    },
    {
      "cell_type": "markdown",
      "metadata": {
        "colab_type": "text",
        "id": "g5ZLivT8Ie_M"
      },
      "source": [
        "## Train our AudioLearner\n",
        "\n",
        "Below are different options for learners - for experimentation"
      ]
    },
    {
      "cell_type": "code",
      "metadata": {
        "colab_type": "code",
        "id": "R_w2TSWRzi_-",
        "colab": {}
      },
      "source": [
        "### OPTION 1 - Pretrained 1-channel xresnet50 with multi-accuracy\n",
        "\n",
        "# Custom cnn model created from pretrained xresnet18 (smaller model for inference speed)\n",
        "# 1 input channel and 80 output nodes\n",
        "# torch.nn.BCEWithLogitsLoss() = Binary Cross Entropy Loss from pytorch\n",
        "# accuracy_multi for multi label\n",
        "\n",
        "model = create_cnn_model(xresnet18, n_in=1, n_out=80, pretrained=False)\n",
        "\n",
        "learn = Learner(dls, model, BCEWithLogitsLossFlat(), metrics=accuracy_multi) # pass custom model to Learner"
      ],
      "execution_count": null,
      "outputs": []
    },
    {
      "cell_type": "code",
      "metadata": {
        "id": "w__PjBdcYBt1",
        "colab_type": "code",
        "colab": {
          "base_uri": "https://localhost:8080/",
          "height": 1000
        },
        "outputId": "a33bf3c7-8e21-4dc6-c2b0-32e34fbe5c23"
      },
      "source": [
        "learn.summary()"
      ],
      "execution_count": null,
      "outputs": [
        {
          "output_type": "execute_result",
          "data": {
            "application/vnd.google.colaboratory.intrinsic+json": {
              "type": "string"
            },
            "text/plain": [
              "Sequential (Input shape: ['64 x 1 x 128 x 47'])\n",
              "================================================================\n",
              "Layer (type)         Output Shape         Param #    Trainable \n",
              "================================================================\n",
              "Conv2d               64 x 32 x 64 x 24    288        True      \n",
              "________________________________________________________________\n",
              "BatchNorm2d          64 x 32 x 64 x 24    64         True      \n",
              "________________________________________________________________\n",
              "ReLU                 64 x 32 x 64 x 24    0          False     \n",
              "________________________________________________________________\n",
              "Conv2d               64 x 32 x 64 x 24    9,216      True      \n",
              "________________________________________________________________\n",
              "BatchNorm2d          64 x 32 x 64 x 24    64         True      \n",
              "________________________________________________________________\n",
              "ReLU                 64 x 32 x 64 x 24    0          False     \n",
              "________________________________________________________________\n",
              "Conv2d               64 x 64 x 64 x 24    18,432     True      \n",
              "________________________________________________________________\n",
              "BatchNorm2d          64 x 64 x 64 x 24    128        True      \n",
              "________________________________________________________________\n",
              "ReLU                 64 x 64 x 64 x 24    0          False     \n",
              "________________________________________________________________\n",
              "MaxPool2d            64 x 64 x 32 x 12    0          False     \n",
              "________________________________________________________________\n",
              "Conv2d               64 x 64 x 32 x 12    36,864     True      \n",
              "________________________________________________________________\n",
              "BatchNorm2d          64 x 64 x 32 x 12    128        True      \n",
              "________________________________________________________________\n",
              "ReLU                 64 x 64 x 32 x 12    0          False     \n",
              "________________________________________________________________\n",
              "Conv2d               64 x 64 x 32 x 12    36,864     True      \n",
              "________________________________________________________________\n",
              "BatchNorm2d          64 x 64 x 32 x 12    128        True      \n",
              "________________________________________________________________\n",
              "Sequential           64 x 64 x 32 x 12    0          False     \n",
              "________________________________________________________________\n",
              "ReLU                 64 x 64 x 32 x 12    0          False     \n",
              "________________________________________________________________\n",
              "Conv2d               64 x 64 x 32 x 12    36,864     True      \n",
              "________________________________________________________________\n",
              "BatchNorm2d          64 x 64 x 32 x 12    128        True      \n",
              "________________________________________________________________\n",
              "ReLU                 64 x 64 x 32 x 12    0          False     \n",
              "________________________________________________________________\n",
              "Conv2d               64 x 64 x 32 x 12    36,864     True      \n",
              "________________________________________________________________\n",
              "BatchNorm2d          64 x 64 x 32 x 12    128        True      \n",
              "________________________________________________________________\n",
              "Sequential           64 x 64 x 32 x 12    0          False     \n",
              "________________________________________________________________\n",
              "ReLU                 64 x 64 x 32 x 12    0          False     \n",
              "________________________________________________________________\n",
              "Conv2d               64 x 128 x 16 x 6    73,728     True      \n",
              "________________________________________________________________\n",
              "BatchNorm2d          64 x 128 x 16 x 6    256        True      \n",
              "________________________________________________________________\n",
              "ReLU                 64 x 128 x 16 x 6    0          False     \n",
              "________________________________________________________________\n",
              "Conv2d               64 x 128 x 16 x 6    147,456    True      \n",
              "________________________________________________________________\n",
              "BatchNorm2d          64 x 128 x 16 x 6    256        True      \n",
              "________________________________________________________________\n",
              "AvgPool2d            64 x 64 x 16 x 6     0          False     \n",
              "________________________________________________________________\n",
              "Conv2d               64 x 128 x 16 x 6    8,192      True      \n",
              "________________________________________________________________\n",
              "BatchNorm2d          64 x 128 x 16 x 6    256        True      \n",
              "________________________________________________________________\n",
              "ReLU                 64 x 128 x 16 x 6    0          False     \n",
              "________________________________________________________________\n",
              "Conv2d               64 x 128 x 16 x 6    147,456    True      \n",
              "________________________________________________________________\n",
              "BatchNorm2d          64 x 128 x 16 x 6    256        True      \n",
              "________________________________________________________________\n",
              "ReLU                 64 x 128 x 16 x 6    0          False     \n",
              "________________________________________________________________\n",
              "Conv2d               64 x 128 x 16 x 6    147,456    True      \n",
              "________________________________________________________________\n",
              "BatchNorm2d          64 x 128 x 16 x 6    256        True      \n",
              "________________________________________________________________\n",
              "Sequential           64 x 128 x 16 x 6    0          False     \n",
              "________________________________________________________________\n",
              "ReLU                 64 x 128 x 16 x 6    0          False     \n",
              "________________________________________________________________\n",
              "Conv2d               64 x 256 x 8 x 3     294,912    True      \n",
              "________________________________________________________________\n",
              "BatchNorm2d          64 x 256 x 8 x 3     512        True      \n",
              "________________________________________________________________\n",
              "ReLU                 64 x 256 x 8 x 3     0          False     \n",
              "________________________________________________________________\n",
              "Conv2d               64 x 256 x 8 x 3     589,824    True      \n",
              "________________________________________________________________\n",
              "BatchNorm2d          64 x 256 x 8 x 3     512        True      \n",
              "________________________________________________________________\n",
              "AvgPool2d            64 x 128 x 8 x 3     0          False     \n",
              "________________________________________________________________\n",
              "Conv2d               64 x 256 x 8 x 3     32,768     True      \n",
              "________________________________________________________________\n",
              "BatchNorm2d          64 x 256 x 8 x 3     512        True      \n",
              "________________________________________________________________\n",
              "ReLU                 64 x 256 x 8 x 3     0          False     \n",
              "________________________________________________________________\n",
              "Conv2d               64 x 256 x 8 x 3     589,824    True      \n",
              "________________________________________________________________\n",
              "BatchNorm2d          64 x 256 x 8 x 3     512        True      \n",
              "________________________________________________________________\n",
              "ReLU                 64 x 256 x 8 x 3     0          False     \n",
              "________________________________________________________________\n",
              "Conv2d               64 x 256 x 8 x 3     589,824    True      \n",
              "________________________________________________________________\n",
              "BatchNorm2d          64 x 256 x 8 x 3     512        True      \n",
              "________________________________________________________________\n",
              "Sequential           64 x 256 x 8 x 3     0          False     \n",
              "________________________________________________________________\n",
              "ReLU                 64 x 256 x 8 x 3     0          False     \n",
              "________________________________________________________________\n",
              "Conv2d               64 x 512 x 4 x 2     1,179,648  True      \n",
              "________________________________________________________________\n",
              "BatchNorm2d          64 x 512 x 4 x 2     1,024      True      \n",
              "________________________________________________________________\n",
              "ReLU                 64 x 512 x 4 x 2     0          False     \n",
              "________________________________________________________________\n",
              "Conv2d               64 x 512 x 4 x 2     2,359,296  True      \n",
              "________________________________________________________________\n",
              "BatchNorm2d          64 x 512 x 4 x 2     1,024      True      \n",
              "________________________________________________________________\n",
              "AvgPool2d            64 x 256 x 4 x 2     0          False     \n",
              "________________________________________________________________\n",
              "Conv2d               64 x 512 x 4 x 2     131,072    True      \n",
              "________________________________________________________________\n",
              "BatchNorm2d          64 x 512 x 4 x 2     1,024      True      \n",
              "________________________________________________________________\n",
              "ReLU                 64 x 512 x 4 x 2     0          False     \n",
              "________________________________________________________________\n",
              "Conv2d               64 x 512 x 4 x 2     2,359,296  True      \n",
              "________________________________________________________________\n",
              "BatchNorm2d          64 x 512 x 4 x 2     1,024      True      \n",
              "________________________________________________________________\n",
              "ReLU                 64 x 512 x 4 x 2     0          False     \n",
              "________________________________________________________________\n",
              "Conv2d               64 x 512 x 4 x 2     2,359,296  True      \n",
              "________________________________________________________________\n",
              "BatchNorm2d          64 x 512 x 4 x 2     1,024      True      \n",
              "________________________________________________________________\n",
              "Sequential           64 x 512 x 4 x 2     0          False     \n",
              "________________________________________________________________\n",
              "ReLU                 64 x 512 x 4 x 2     0          False     \n",
              "________________________________________________________________\n",
              "AdaptiveAvgPool2d    64 x 512 x 1 x 1     0          False     \n",
              "________________________________________________________________\n",
              "AdaptiveMaxPool2d    64 x 512 x 1 x 1     0          False     \n",
              "________________________________________________________________\n",
              "Flatten              64 x 1024            0          False     \n",
              "________________________________________________________________\n",
              "BatchNorm1d          64 x 1024            2,048      True      \n",
              "________________________________________________________________\n",
              "Dropout              64 x 1024            0          False     \n",
              "________________________________________________________________\n",
              "Linear               64 x 512             524,288    True      \n",
              "________________________________________________________________\n",
              "ReLU                 64 x 512             0          False     \n",
              "________________________________________________________________\n",
              "BatchNorm1d          64 x 512             1,024      True      \n",
              "________________________________________________________________\n",
              "Dropout              64 x 512             0          False     \n",
              "________________________________________________________________\n",
              "Linear               64 x 80              40,960     True      \n",
              "________________________________________________________________\n",
              "\n",
              "Total params: 11,763,488\n",
              "Total trainable params: 11,763,488\n",
              "Total non-trainable params: 0\n",
              "\n",
              "Optimizer used: <function Adam at 0x7fba5181f488>\n",
              "Loss function: FlattenedLoss of BCEWithLogitsLoss()\n",
              "\n",
              "Model unfrozen\n",
              "\n",
              "Callbacks:\n",
              "  - TrainEvalCallback\n",
              "  - Recorder\n",
              "  - ProgressCallback"
            ]
          },
          "metadata": {
            "tags": []
          },
          "execution_count": 34
        }
      ]
    },
    {
      "cell_type": "code",
      "metadata": {
        "colab_type": "code",
        "id": "jIAOp1Id0APR",
        "colab": {
          "base_uri": "https://localhost:8080/",
          "height": 300
        },
        "outputId": "89193144-e990-4952-a2ba-adc850ee12cc"
      },
      "source": [
        "# find the learning rate\n",
        "learn.lr_find()"
      ],
      "execution_count": null,
      "outputs": [
        {
          "output_type": "display_data",
          "data": {
            "text/html": [
              ""
            ],
            "text/plain": [
              "<IPython.core.display.HTML object>"
            ]
          },
          "metadata": {
            "tags": []
          }
        },
        {
          "output_type": "execute_result",
          "data": {
            "text/plain": [
              "SuggestedLRs(lr_min=0.07585775852203369, lr_steep=0.033113110810518265)"
            ]
          },
          "metadata": {
            "tags": []
          },
          "execution_count": 35
        },
        {
          "output_type": "display_data",
          "data": {
            "image/png": "[encoded data removed]",
            "text/plain": [
              "<Figure size 432x288 with 1 Axes>"
            ]
          },
          "metadata": {
            "tags": [],
            "needs_background": "light"
          }
        }
      ]
    },
    {
      "cell_type": "code",
      "metadata": {
        "colab_type": "code",
        "id": "hoDcDvDL0APX",
        "colab": {
          "base_uri": "https://localhost:8080/",
          "height": 464
        },
        "outputId": "057041e5-a64e-4bed-f3c3-51e6d446bf24"
      },
      "source": [
        "# fit with one_cyle learning rate policy\n",
        "learn.fit_one_cycle(5, 3e-2)"
      ],
      "execution_count": null,
      "outputs": [
        {
          "output_type": "display_data",
          "data": {
            "text/html": [
              "<table border=\"1\" class=\"dataframe\">\n",
              "  <thead>\n",
              "    <tr style=\"text-align: left;\">\n",
              "      <th>epoch</th>\n",
              "      <th>train_loss</th>\n",
              "      <th>valid_loss</th>\n",
              "      <th>accuracy_multi</th>\n",
              "      <th>time</th>\n",
              "    </tr>\n",
              "  </thead>\n",
              "  <tbody>\n",
              "    <tr>\n",
              "      <td>0</td>\n",
              "      <td>0.432026</td>\n",
              "      <td>0.128898</td>\n",
              "      <td>0.984778</td>\n",
              "      <td>01:34</td>\n",
              "    </tr>\n",
              "    <tr>\n",
              "      <td>1</td>\n",
              "      <td>0.158920</td>\n",
              "      <td>0.095405</td>\n",
              "      <td>0.985005</td>\n",
              "      <td>01:31</td>\n",
              "    </tr>\n",
              "    <tr>\n",
              "      <td>2</td>\n",
              "      <td>0.102350</td>\n",
              "      <td>0.070079</td>\n",
              "      <td>0.985635</td>\n",
              "      <td>01:30</td>\n",
              "    </tr>\n",
              "    <tr>\n",
              "      <td>3</td>\n",
              "      <td>0.079423</td>\n",
              "      <td>0.064057</td>\n",
              "      <td>0.985434</td>\n",
              "      <td>01:31</td>\n",
              "    </tr>\n",
              "    <tr>\n",
              "      <td>4</td>\n",
              "      <td>0.066659</td>\n",
              "      <td>0.076695</td>\n",
              "      <td>0.984652</td>\n",
              "      <td>01:33</td>\n",
              "    </tr>\n",
              "    <tr>\n",
              "      <td>5</td>\n",
              "      <td>0.061128</td>\n",
              "      <td>0.058306</td>\n",
              "      <td>0.985862</td>\n",
              "      <td>01:36</td>\n",
              "    </tr>\n",
              "    <tr>\n",
              "      <td>6</td>\n",
              "      <td>0.057247</td>\n",
              "      <td>0.051258</td>\n",
              "      <td>0.985937</td>\n",
              "      <td>01:34</td>\n",
              "    </tr>\n",
              "    <tr>\n",
              "      <td>7</td>\n",
              "      <td>0.053395</td>\n",
              "      <td>0.048086</td>\n",
              "      <td>0.986240</td>\n",
              "      <td>01:36</td>\n",
              "    </tr>\n",
              "    <tr>\n",
              "      <td>8</td>\n",
              "      <td>0.050335</td>\n",
              "      <td>0.044832</td>\n",
              "      <td>0.986794</td>\n",
              "      <td>01:37</td>\n",
              "    </tr>\n",
              "    <tr>\n",
              "      <td>9</td>\n",
              "      <td>0.048067</td>\n",
              "      <td>0.043930</td>\n",
              "      <td>0.987046</td>\n",
              "      <td>01:44</td>\n",
              "    </tr>\n",
              "  </tbody>\n",
              "</table>"
            ],
            "text/plain": [
              "<IPython.core.display.HTML object>"
            ]
          },
          "metadata": {
            "tags": []
          }
        },
        {
          "output_type": "stream",
          "text": [
            "/usr/local/lib/python3.6/dist-packages/fastai2/callback/schedule.py:68: UserWarning: This overload of nonzero is deprecated:\n",
            "\tnonzero()\n",
            "Consider using one of the following signatures instead:\n",
            "\tnonzero(*, bool as_tuple) (Triggered internally at  /pytorch/torch/csrc/utils/python_arg_parser.cpp:766.)\n",
            "  idx = (pos >= pcts).nonzero().max()\n"
          ],
          "name": "stderr"
        }
      ]
    },
    {
      "cell_type": "markdown",
      "metadata": {
        "id": "9FHPnPmOkZzl",
        "colab_type": "text"
      },
      "source": [
        "### Pick our threshold\n",
        "\n",
        "**We can find the best threshold by picking a few threshold levels and seeing what works best in terms of our metric**\n",
        "\n",
        "This is easy to do if we grab the predictions just once:"
      ]
    },
    {
      "cell_type": "code",
      "metadata": {
        "id": "_YdvzIaLkdIP",
        "colab_type": "code",
        "colab": {
          "base_uri": "https://localhost:8080/",
          "height": 17
        },
        "outputId": "cd045b63-dd16-4534-a4aa-9d686b80844e"
      },
      "source": [
        "preds,targs = learn.get_preds()"
      ],
      "execution_count": null,
      "outputs": [
        {
          "output_type": "display_data",
          "data": {
            "text/html": [
              ""
            ],
            "text/plain": [
              "<IPython.core.display.HTML object>"
            ]
          },
          "metadata": {
            "tags": []
          }
        }
      ]
    },
    {
      "cell_type": "markdown",
      "metadata": {
        "id": "roSr_wYGkf_Z",
        "colab_type": "text"
      },
      "source": [
        "We can now use a list comprehension approach to test a range of threshold levels using these predictions:"
      ]
    },
    {
      "cell_type": "code",
      "metadata": {
        "id": "5_hdCLe8klV2",
        "colab_type": "code",
        "colab": {
          "base_uri": "https://localhost:8080/",
          "height": 265
        },
        "outputId": "ed498129-0965-4c6a-e219-59591be61828"
      },
      "source": [
        "xs = torch.linspace(0.05,0.95,100)\n",
        "accs = [accuracy_multi(preds, targs, thresh=i, sigmoid=False) for i in xs]\n",
        "plt.plot(xs,accs);"
      ],
      "execution_count": null,
      "outputs": [
        {
          "output_type": "display_data",
          "data": {
            "image/png": "[encoded data removed]",
            "text/plain": [
              "<Figure size 432x288 with 1 Axes>"
            ]
          },
          "metadata": {
            "tags": [],
            "needs_background": "light"
          }
        }
      ]
    },
    {
      "cell_type": "code",
      "metadata": {
        "id": "XV7-U_bykUwq",
        "colab_type": "code",
        "colab": {
          "base_uri": "https://localhost:8080/",
          "height": 34
        },
        "outputId": "3e88ff6a-98c5-4efb-ce6a-10b8deb3c2ac"
      },
      "source": [
        "learn.metrics = partial(accuracy_multi, thresh=0.1)\n",
        "learn.validate()"
      ],
      "execution_count": null,
      "outputs": [
        {
          "output_type": "display_data",
          "data": {
            "text/html": [
              ""
            ],
            "text/plain": [
              "<IPython.core.display.HTML object>"
            ]
          },
          "metadata": {
            "tags": []
          }
        },
        {
          "output_type": "execute_result",
          "data": {
            "text/plain": [
              "(#2) [0.040741827338933945,0.9758065342903137]"
            ]
          },
          "metadata": {
            "tags": []
          },
          "execution_count": 83
        }
      ]
    },
    {
      "cell_type": "markdown",
      "metadata": {
        "id": "I0JEC8OQktak",
        "colab_type": "text"
      },
      "source": [
        "We can find where the maximum accuracy is acheived:"
      ]
    },
    {
      "cell_type": "code",
      "metadata": {
        "id": "jPS7tEFFkt-0",
        "colab_type": "code",
        "colab": {
          "base_uri": "https://localhost:8080/",
          "height": 34
        },
        "outputId": "7212072e-dcbc-4538-bb1a-0420add20495"
      },
      "source": [
        "np.max(accs)"
      ],
      "execution_count": null,
      "outputs": [
        {
          "output_type": "execute_result",
          "data": {
            "text/plain": [
              "0.9876008"
            ]
          },
          "metadata": {
            "tags": []
          },
          "execution_count": 84
        }
      ]
    },
    {
      "cell_type": "code",
      "metadata": {
        "id": "cFiOmgMpkvUy",
        "colab_type": "code",
        "colab": {
          "base_uri": "https://localhost:8080/",
          "height": 34
        },
        "outputId": "3b923928-ab19-49ac-b6fc-880dd49adbb0"
      },
      "source": [
        "max_acc = np.argmax(accs) # get index of max\n",
        "max_acc, xs[max_acc] # find threshold (xs) level of max"
      ],
      "execution_count": null,
      "outputs": [
        {
          "output_type": "execute_result",
          "data": {
            "text/plain": [
              "(34, tensor(0.3591))"
            ]
          },
          "metadata": {
            "tags": []
          },
          "execution_count": 85
        }
      ]
    },
    {
      "cell_type": "markdown",
      "metadata": {
        "id": "ptLGQO41lKdG",
        "colab_type": "text"
      },
      "source": [
        "So lets use a threshold of 0.4 in our metric and train from scratch:"
      ]
    },
    {
      "cell_type": "code",
      "metadata": {
        "id": "__iaQ6aUlOpV",
        "colab_type": "code",
        "colab": {}
      },
      "source": [
        "learn = Learner(dls, model, BCEWithLogitsLossFlat(), metrics=partial(accuracy_multi, thresh=0.4)) # pass custom model to Learner"
      ],
      "execution_count": null,
      "outputs": []
    },
    {
      "cell_type": "code",
      "metadata": {
        "id": "YNeKYCSkl2mq",
        "colab_type": "code",
        "colab": {
          "base_uri": "https://localhost:8080/",
          "height": 204
        },
        "outputId": "aa9cb91f-37cf-472d-e01d-ef18e6caaca0"
      },
      "source": [
        "# fit with one_cyle learning rate policy\n",
        "learn.fit_one_cycle(5, 3e-2)"
      ],
      "execution_count": null,
      "outputs": [
        {
          "output_type": "display_data",
          "data": {
            "text/html": [
              "<table border=\"1\" class=\"dataframe\">\n",
              "  <thead>\n",
              "    <tr style=\"text-align: left;\">\n",
              "      <th>epoch</th>\n",
              "      <th>train_loss</th>\n",
              "      <th>valid_loss</th>\n",
              "      <th>accuracy_multi</th>\n",
              "      <th>time</th>\n",
              "    </tr>\n",
              "  </thead>\n",
              "  <tbody>\n",
              "    <tr>\n",
              "      <td>0</td>\n",
              "      <td>0.051893</td>\n",
              "      <td>0.066476</td>\n",
              "      <td>0.982611</td>\n",
              "      <td>01:40</td>\n",
              "    </tr>\n",
              "    <tr>\n",
              "      <td>1</td>\n",
              "      <td>0.057736</td>\n",
              "      <td>0.064876</td>\n",
              "      <td>0.984148</td>\n",
              "      <td>01:37</td>\n",
              "    </tr>\n",
              "    <tr>\n",
              "      <td>2</td>\n",
              "      <td>0.055550</td>\n",
              "      <td>0.049319</td>\n",
              "      <td>0.985811</td>\n",
              "      <td>01:36</td>\n",
              "    </tr>\n",
              "    <tr>\n",
              "      <td>3</td>\n",
              "      <td>0.049350</td>\n",
              "      <td>0.041181</td>\n",
              "      <td>0.987500</td>\n",
              "      <td>01:36</td>\n",
              "    </tr>\n",
              "    <tr>\n",
              "      <td>4</td>\n",
              "      <td>0.044935</td>\n",
              "      <td>0.040633</td>\n",
              "      <td>0.987399</td>\n",
              "      <td>01:37</td>\n",
              "    </tr>\n",
              "  </tbody>\n",
              "</table>"
            ],
            "text/plain": [
              "<IPython.core.display.HTML object>"
            ]
          },
          "metadata": {
            "tags": []
          }
        }
      ]
    },
    {
      "cell_type": "code",
      "metadata": {
        "colab_type": "code",
        "id": "8SRdlOL0imi6",
        "colab": {}
      },
      "source": [
        "# Save the stage 1 model to allow quick fine tuning experimentation\n",
        "learn.save('xresnet18-stage-1-model-frozen')"
      ],
      "execution_count": null,
      "outputs": []
    },
    {
      "cell_type": "markdown",
      "metadata": {
        "colab_type": "text",
        "id": "Gw_rzfU03EvE"
      },
      "source": [
        "Now let's unfreeze the base model and train on the whole network:"
      ]
    },
    {
      "cell_type": "code",
      "metadata": {
        "colab_type": "code",
        "id": "iLvWY7Fa21sh",
        "colab": {
          "base_uri": "https://localhost:8080/",
          "height": 300
        },
        "outputId": "e3858663-e82e-47fa-9c77-a3737e61f26c"
      },
      "source": [
        "learn.unfreeze()\n",
        "learn.lr_find()"
      ],
      "execution_count": null,
      "outputs": [
        {
          "output_type": "display_data",
          "data": {
            "text/html": [
              ""
            ],
            "text/plain": [
              "<IPython.core.display.HTML object>"
            ]
          },
          "metadata": {
            "tags": []
          }
        },
        {
          "output_type": "execute_result",
          "data": {
            "text/plain": [
              "SuggestedLRs(lr_min=6.309573450380412e-08, lr_steep=3.981071586167673e-06)"
            ]
          },
          "metadata": {
            "tags": []
          },
          "execution_count": 90
        },
        {
          "output_type": "display_data",
          "data": {
            "image/png": "[encoded data removed]",
            "text/plain": [
              "<Figure size 432x288 with 1 Axes>"
            ]
          },
          "metadata": {
            "tags": [],
            "needs_background": "light"
          }
        }
      ]
    },
    {
      "cell_type": "code",
      "metadata": {
        "colab_type": "code",
        "id": "JeweWPGZ23HL",
        "colab": {
          "base_uri": "https://localhost:8080/",
          "height": 204
        },
        "outputId": "4cdd0d45-e6f0-4f84-908b-10c5e00c59d3"
      },
      "source": [
        "learn.fit_one_cycle(5, lr_max=slice(1e-5,1e-3))"
      ],
      "execution_count": null,
      "outputs": [
        {
          "output_type": "display_data",
          "data": {
            "text/html": [
              "<table border=\"1\" class=\"dataframe\">\n",
              "  <thead>\n",
              "    <tr style=\"text-align: left;\">\n",
              "      <th>epoch</th>\n",
              "      <th>train_loss</th>\n",
              "      <th>valid_loss</th>\n",
              "      <th>accuracy_multi</th>\n",
              "      <th>time</th>\n",
              "    </tr>\n",
              "  </thead>\n",
              "  <tbody>\n",
              "    <tr>\n",
              "      <td>0</td>\n",
              "      <td>0.042745</td>\n",
              "      <td>0.038543</td>\n",
              "      <td>0.987954</td>\n",
              "      <td>01:35</td>\n",
              "    </tr>\n",
              "    <tr>\n",
              "      <td>1</td>\n",
              "      <td>0.041999</td>\n",
              "      <td>0.038344</td>\n",
              "      <td>0.988155</td>\n",
              "      <td>01:35</td>\n",
              "    </tr>\n",
              "    <tr>\n",
              "      <td>2</td>\n",
              "      <td>0.041277</td>\n",
              "      <td>0.038325</td>\n",
              "      <td>0.988306</td>\n",
              "      <td>01:36</td>\n",
              "    </tr>\n",
              "    <tr>\n",
              "      <td>3</td>\n",
              "      <td>0.041354</td>\n",
              "      <td>0.037787</td>\n",
              "      <td>0.987954</td>\n",
              "      <td>01:38</td>\n",
              "    </tr>\n",
              "    <tr>\n",
              "      <td>4</td>\n",
              "      <td>0.040916</td>\n",
              "      <td>0.037722</td>\n",
              "      <td>0.988231</td>\n",
              "      <td>01:43</td>\n",
              "    </tr>\n",
              "  </tbody>\n",
              "</table>"
            ],
            "text/plain": [
              "<IPython.core.display.HTML object>"
            ]
          },
          "metadata": {
            "tags": []
          }
        }
      ]
    },
    {
      "cell_type": "code",
      "metadata": {
        "colab_type": "code",
        "id": "7Wd-3HxqCi7J",
        "colab": {}
      },
      "source": [
        "# Save the stage 2 model\n",
        "path = '/content/drive/My Drive/Machine_Learning/My_Projects/19011 - Audio Classifier Web App/xresnet18-stage-2-model-finetuned'\n",
        "learn.save(file=path, with_opt=True)"
      ],
      "execution_count": null,
      "outputs": []
    },
    {
      "cell_type": "markdown",
      "metadata": {
        "id": "2pVPWVFmz81Z",
        "colab_type": "text"
      },
      "source": [
        "## Confusion Matrix / Data Cleaning"
      ]
    },
    {
      "cell_type": "code",
      "metadata": {
        "id": "Nh_pU2dE0AfV",
        "colab_type": "code",
        "colab": {
          "base_uri": "https://localhost:8080/",
          "height": 17
        },
        "outputId": "61836e94-6613-4ce3-cc1a-84b612294070"
      },
      "source": [
        "interp = ClassificationInterpretation.from_learner(learn)\n",
        "#interp.plot_confusion_matrix()"
      ],
      "execution_count": null,
      "outputs": [
        {
          "output_type": "display_data",
          "data": {
            "text/html": [
              ""
            ],
            "text/plain": [
              "<IPython.core.display.HTML object>"
            ]
          },
          "metadata": {
            "tags": []
          }
        }
      ]
    },
    {
      "cell_type": "code",
      "metadata": {
        "id": "xIGy92Ox0dwi",
        "colab_type": "code",
        "colab": {}
      },
      "source": [
        "interp.plot_top_losses(5, nrows=1)"
      ],
      "execution_count": null,
      "outputs": []
    },
    {
      "cell_type": "code",
      "metadata": {
        "id": "0viVz7rX0hNj",
        "colab_type": "code",
        "colab": {}
      },
      "source": [
        "# Need Audio Cleaner option (check), equivalent to: \n",
        "\n",
        "# cleaner = ImageClassifierCleaner(learn)\n",
        "# cleaner\n"
      ],
      "execution_count": null,
      "outputs": []
    },
    {
      "cell_type": "code",
      "metadata": {
        "id": "PglLEpEL0qcs",
        "colab_type": "code",
        "colab": {}
      },
      "source": [
        "# # unlink cleaned files\n",
        "# for idx in cleaner.delete(): cleaner.fns[idx].unlink()\n",
        "# for idx,cat in cleaner.change(): shutil.move(str(cleaner.fns[idx]), path/cat)"
      ],
      "execution_count": null,
      "outputs": []
    },
    {
      "cell_type": "markdown",
      "metadata": {
        "id": "TIFdnvdQ0IDn",
        "colab_type": "text"
      },
      "source": [
        "## Export and Test Model"
      ]
    },
    {
      "cell_type": "code",
      "metadata": {
        "id": "eJWyeKl00LQ0",
        "colab_type": "code",
        "colab": {}
      },
      "source": [
        "# Export Model\n",
        "learn.export(fname='/content/drive/My Drive/Machine_Learning/My_Projects/19011 - Audio Classifier Web App/resnet18-export.pkl')"
      ],
      "execution_count": null,
      "outputs": []
    },
    {
      "cell_type": "code",
      "metadata": {
        "id": "MbnMoObXQUdZ",
        "colab_type": "code",
        "colab": {
          "base_uri": "https://localhost:8080/",
          "height": 561
        },
        "outputId": "beda939d-55eb-4b4a-ea83-13989a9a2738"
      },
      "source": [
        "# load learner for testing\n",
        "learn = load_learner('/content/drive/My Drive/Machine_Learning/My_Projects/19011 - Audio Classifier Web App/resnet18-export.pkl')"
      ],
      "execution_count": 19,
      "outputs": [
        {
          "output_type": "error",
          "ename": "AttributeError",
          "evalue": "ignored",
          "traceback": [
            "\u001b[0;31m---------------------------------------------------------------------------\u001b[0m",
            "\u001b[0;31mAttributeError\u001b[0m                            Traceback (most recent call last)",
            "\u001b[0;32m<ipython-input-19-c5d8f85a328a>\u001b[0m in \u001b[0;36m<module>\u001b[0;34m()\u001b[0m\n\u001b[1;32m      1\u001b[0m \u001b[0;31m# load learner for testing\u001b[0m\u001b[0;34m\u001b[0m\u001b[0;34m\u001b[0m\u001b[0;34m\u001b[0m\u001b[0m\n\u001b[0;32m----> 2\u001b[0;31m \u001b[0mlearn\u001b[0m \u001b[0;34m=\u001b[0m \u001b[0mload_learner\u001b[0m\u001b[0;34m(\u001b[0m\u001b[0;34m'/content/drive/My Drive/Machine_Learning/My_Projects/19011 - Audio Classifier Web App/resnet18-export.pkl'\u001b[0m\u001b[0;34m)\u001b[0m\u001b[0;34m\u001b[0m\u001b[0;34m\u001b[0m\u001b[0m\n\u001b[0m",
            "\u001b[0;32m/usr/local/lib/python3.6/dist-packages/fastai2/learner.py\u001b[0m in \u001b[0;36mload_learner\u001b[0;34m(fname, cpu)\u001b[0m\n\u001b[1;32m    524\u001b[0m     \u001b[0;34m\"Load a `Learner` object in `fname`, optionally putting it on the `cpu`\"\u001b[0m\u001b[0;34m\u001b[0m\u001b[0;34m\u001b[0m\u001b[0m\n\u001b[1;32m    525\u001b[0m     \u001b[0mdistrib_barrier\u001b[0m\u001b[0;34m(\u001b[0m\u001b[0;34m)\u001b[0m\u001b[0;34m\u001b[0m\u001b[0;34m\u001b[0m\u001b[0m\n\u001b[0;32m--> 526\u001b[0;31m     \u001b[0mres\u001b[0m \u001b[0;34m=\u001b[0m \u001b[0mtorch\u001b[0m\u001b[0;34m.\u001b[0m\u001b[0mload\u001b[0m\u001b[0;34m(\u001b[0m\u001b[0mfname\u001b[0m\u001b[0;34m,\u001b[0m \u001b[0mmap_location\u001b[0m\u001b[0;34m=\u001b[0m\u001b[0;34m'cpu'\u001b[0m \u001b[0;32mif\u001b[0m \u001b[0mcpu\u001b[0m \u001b[0;32melse\u001b[0m \u001b[0;32mNone\u001b[0m\u001b[0;34m)\u001b[0m\u001b[0;34m\u001b[0m\u001b[0;34m\u001b[0m\u001b[0m\n\u001b[0m\u001b[1;32m    527\u001b[0m     \u001b[0;32mif\u001b[0m \u001b[0mhasattr\u001b[0m\u001b[0;34m(\u001b[0m\u001b[0mres\u001b[0m\u001b[0;34m,\u001b[0m \u001b[0;34m'to_fp32'\u001b[0m\u001b[0;34m)\u001b[0m\u001b[0;34m:\u001b[0m \u001b[0mres\u001b[0m \u001b[0;34m=\u001b[0m \u001b[0mres\u001b[0m\u001b[0;34m.\u001b[0m\u001b[0mto_fp32\u001b[0m\u001b[0;34m(\u001b[0m\u001b[0;34m)\u001b[0m\u001b[0;34m\u001b[0m\u001b[0;34m\u001b[0m\u001b[0m\n\u001b[1;32m    528\u001b[0m     \u001b[0;32mif\u001b[0m \u001b[0mcpu\u001b[0m\u001b[0;34m:\u001b[0m \u001b[0mres\u001b[0m\u001b[0;34m.\u001b[0m\u001b[0mdls\u001b[0m\u001b[0;34m.\u001b[0m\u001b[0mcpu\u001b[0m\u001b[0;34m(\u001b[0m\u001b[0;34m)\u001b[0m\u001b[0;34m\u001b[0m\u001b[0;34m\u001b[0m\u001b[0m\n",
            "\u001b[0;32m/usr/local/lib/python3.6/dist-packages/torch/serialization.py\u001b[0m in \u001b[0;36mload\u001b[0;34m(f, map_location, pickle_module, **pickle_load_args)\u001b[0m\n\u001b[1;32m    582\u001b[0m                     \u001b[0mopened_file\u001b[0m\u001b[0;34m.\u001b[0m\u001b[0mseek\u001b[0m\u001b[0;34m(\u001b[0m\u001b[0morig_position\u001b[0m\u001b[0;34m)\u001b[0m\u001b[0;34m\u001b[0m\u001b[0;34m\u001b[0m\u001b[0m\n\u001b[1;32m    583\u001b[0m                     \u001b[0;32mreturn\u001b[0m \u001b[0mtorch\u001b[0m\u001b[0;34m.\u001b[0m\u001b[0mjit\u001b[0m\u001b[0;34m.\u001b[0m\u001b[0mload\u001b[0m\u001b[0;34m(\u001b[0m\u001b[0mopened_file\u001b[0m\u001b[0;34m)\u001b[0m\u001b[0;34m\u001b[0m\u001b[0;34m\u001b[0m\u001b[0m\n\u001b[0;32m--> 584\u001b[0;31m                 \u001b[0;32mreturn\u001b[0m \u001b[0m_load\u001b[0m\u001b[0;34m(\u001b[0m\u001b[0mopened_zipfile\u001b[0m\u001b[0;34m,\u001b[0m \u001b[0mmap_location\u001b[0m\u001b[0;34m,\u001b[0m \u001b[0mpickle_module\u001b[0m\u001b[0;34m,\u001b[0m \u001b[0;34m**\u001b[0m\u001b[0mpickle_load_args\u001b[0m\u001b[0;34m)\u001b[0m\u001b[0;34m\u001b[0m\u001b[0;34m\u001b[0m\u001b[0m\n\u001b[0m\u001b[1;32m    585\u001b[0m         \u001b[0;32mreturn\u001b[0m \u001b[0m_legacy_load\u001b[0m\u001b[0;34m(\u001b[0m\u001b[0mopened_file\u001b[0m\u001b[0;34m,\u001b[0m \u001b[0mmap_location\u001b[0m\u001b[0;34m,\u001b[0m \u001b[0mpickle_module\u001b[0m\u001b[0;34m,\u001b[0m \u001b[0;34m**\u001b[0m\u001b[0mpickle_load_args\u001b[0m\u001b[0;34m)\u001b[0m\u001b[0;34m\u001b[0m\u001b[0;34m\u001b[0m\u001b[0m\n\u001b[1;32m    586\u001b[0m \u001b[0;34m\u001b[0m\u001b[0m\n",
            "\u001b[0;32m/usr/local/lib/python3.6/dist-packages/torch/serialization.py\u001b[0m in \u001b[0;36m_load\u001b[0;34m(zip_file, map_location, pickle_module, **pickle_load_args)\u001b[0m\n\u001b[1;32m    840\u001b[0m     \u001b[0munpickler\u001b[0m \u001b[0;34m=\u001b[0m \u001b[0mpickle_module\u001b[0m\u001b[0;34m.\u001b[0m\u001b[0mUnpickler\u001b[0m\u001b[0;34m(\u001b[0m\u001b[0mdata_file\u001b[0m\u001b[0;34m,\u001b[0m \u001b[0;34m**\u001b[0m\u001b[0mpickle_load_args\u001b[0m\u001b[0;34m)\u001b[0m\u001b[0;34m\u001b[0m\u001b[0;34m\u001b[0m\u001b[0m\n\u001b[1;32m    841\u001b[0m     \u001b[0munpickler\u001b[0m\u001b[0;34m.\u001b[0m\u001b[0mpersistent_load\u001b[0m \u001b[0;34m=\u001b[0m \u001b[0mpersistent_load\u001b[0m\u001b[0;34m\u001b[0m\u001b[0;34m\u001b[0m\u001b[0m\n\u001b[0;32m--> 842\u001b[0;31m     \u001b[0mresult\u001b[0m \u001b[0;34m=\u001b[0m \u001b[0munpickler\u001b[0m\u001b[0;34m.\u001b[0m\u001b[0mload\u001b[0m\u001b[0;34m(\u001b[0m\u001b[0;34m)\u001b[0m\u001b[0;34m\u001b[0m\u001b[0;34m\u001b[0m\u001b[0m\n\u001b[0m\u001b[1;32m    843\u001b[0m \u001b[0;34m\u001b[0m\u001b[0m\n\u001b[1;32m    844\u001b[0m     \u001b[0;32mreturn\u001b[0m \u001b[0mresult\u001b[0m\u001b[0;34m\u001b[0m\u001b[0;34m\u001b[0m\u001b[0m\n",
            "\u001b[0;31mAttributeError\u001b[0m: Can't get attribute 'get_x' on <module '__main__'>"
          ]
        }
      ]
    },
    {
      "cell_type": "code",
      "metadata": {
        "id": "1Ar4CGtljRdP",
        "colab_type": "code",
        "colab": {
          "base_uri": "https://localhost:8080/",
          "height": 34
        },
        "outputId": "e6046305-ce07-46fa-ca87-9981d26e6fd4"
      },
      "source": [
        "path = Path('/content/drive/My Drive/Machine_Learning/My_Projects/19011 - Audio Classifier Web App/resnet18-export.pkl')\n",
        "path"
      ],
      "execution_count": 13,
      "outputs": [
        {
          "output_type": "execute_result",
          "data": {
            "text/plain": [
              "Path('/content/drive/My Drive/Machine_Learning/My_Projects/19011 - Audio Classifier Web App/resnet18-export.pkl')"
            ]
          },
          "metadata": {
            "tags": []
          },
          "execution_count": 13
        }
      ]
    },
    {
      "cell_type": "code",
      "metadata": {
        "id": "KY99x4Yz01ot",
        "colab_type": "code",
        "colab": {
          "base_uri": "https://localhost:8080/",
          "height": 54
        },
        "outputId": "c655ebd9-3d58-415f-992e-2a94c77198e5"
      },
      "source": [
        "# see vocab\n",
        "learn.dls.vocab"
      ],
      "execution_count": null,
      "outputs": [
        {
          "output_type": "execute_result",
          "data": {
            "text/plain": [
              "(#80) ['Accelerating_and_revving_and_vroom','Accordion','Acoustic_guitar','Applause','Bark','Bass_drum','Bass_guitar','Bathtub_(filling_or_washing)','Bicycle_bell','Burping_and_eructation'...]"
            ]
          },
          "metadata": {
            "tags": []
          },
          "execution_count": 95
        }
      ]
    },
    {
      "cell_type": "markdown",
      "metadata": {
        "id": "xPMbXd4Dilgh",
        "colab_type": "text"
      },
      "source": [
        "## Inference testing\n",
        "\n",
        "Now let's test the inference, taken from here: https://colab.research.google.com/drive/1Z6VIRZ_sX314hyev3Gm5gBqvm1wQVo-a#scrollTo=xuKJ4wBU6gxx"
      ]
    },
    {
      "cell_type": "code",
      "metadata": {
        "colab_type": "code",
        "id": "xuKJ4wBU6gxx",
        "colab": {
          "base_uri": "https://localhost:8080/",
          "height": 51
        },
        "outputId": "68c18c4c-94d8-4e31-960f-165224bdcfe9"
      },
      "source": [
        "!pip install ffmpeg-python"
      ],
      "execution_count": null,
      "outputs": [
        {
          "output_type": "stream",
          "text": [
            "Requirement already satisfied: ffmpeg-python in /usr/local/lib/python3.6/dist-packages (0.2.0)\n",
            "Requirement already satisfied: future in /usr/local/lib/python3.6/dist-packages (from ffmpeg-python) (0.16.0)\n"
          ],
          "name": "stdout"
        }
      ]
    },
    {
      "cell_type": "code",
      "metadata": {
        "colab_type": "code",
        "id": "RtMcXr3o6gxN",
        "colab": {}
      },
      "source": [
        "\"\"\"\n",
        "To write this piece of code I took inspiration/code from a lot of places.\n",
        "It was late night, so I'm not sure how much I created or just copied o.O\n",
        "Here are some of the possible references:\n",
        "https://blog.addpipe.com/recording-audio-in-the-browser-using-pure-html5-and-minimal-javascript/\n",
        "https://stackoverflow.com/a/18650249\n",
        "https://hacks.mozilla.org/2014/06/easy-audio-capture-with-the-mediarecorder-api/\n",
        "https://air.ghost.io/recording-to-an-audio-file-using-html5-and-js/\n",
        "https://stackoverflow.com/a/49019356\n",
        "\"\"\"\n",
        "from IPython.display import HTML, Audio\n",
        "from google.colab.output import eval_js\n",
        "from base64 import b64decode\n",
        "import numpy as np\n",
        "from scipy.io.wavfile import read as wav_read\n",
        "import io\n",
        "import ffmpeg\n",
        "\n",
        "AUDIO_HTML = \"\"\"\n",
        "<script>\n",
        "var my_div = document.createElement(\"DIV\");\n",
        "var my_p = document.createElement(\"P\");\n",
        "var my_btn = document.createElement(\"BUTTON\");\n",
        "var t = document.createTextNode(\"Press to start recording\");\n",
        "\n",
        "my_btn.appendChild(t);\n",
        "//my_p.appendChild(my_btn);\n",
        "my_div.appendChild(my_btn);\n",
        "document.body.appendChild(my_div);\n",
        "\n",
        "var base64data = 0;\n",
        "var reader;\n",
        "var recorder, gumStream;\n",
        "var recordButton = my_btn;\n",
        "\n",
        "var handleSuccess = function(stream) {\n",
        "  gumStream = stream;\n",
        "  var options = {\n",
        "    //bitsPerSecond: 8000, //chrome seems to ignore, always 48k\n",
        "    mimeType : 'audio/webm;codecs=opus'\n",
        "    //mimeType : 'audio/webm;codecs=pcm'\n",
        "  };            \n",
        "  //recorder = new MediaRecorder(stream, options);\n",
        "  recorder = new MediaRecorder(stream);\n",
        "  recorder.ondataavailable = function(e) {            \n",
        "    var url = URL.createObjectURL(e.data);\n",
        "    var preview = document.createElement('audio');\n",
        "    preview.controls = true;\n",
        "    preview.src = url;\n",
        "    document.body.appendChild(preview);\n",
        "\n",
        "    reader = new FileReader();\n",
        "    reader.readAsDataURL(e.data); \n",
        "    reader.onloadend = function() {\n",
        "      base64data = reader.result;\n",
        "      //console.log(\"Inside FileReader:\" + base64data);\n",
        "    }\n",
        "  };\n",
        "  recorder.start();\n",
        "  };\n",
        "\n",
        "recordButton.innerText = \"Recording... press to stop\";\n",
        "\n",
        "navigator.mediaDevices.getUserMedia({audio: true}).then(handleSuccess);\n",
        "\n",
        "\n",
        "function toggleRecording() {\n",
        "  if (recorder && recorder.state == \"recording\") {\n",
        "      recorder.stop();\n",
        "      gumStream.getAudioTracks()[0].stop();\n",
        "      recordButton.innerText = \"Saving the recording... pls wait!\"\n",
        "  }\n",
        "}\n",
        "\n",
        "// https://stackoverflow.com/a/951057\n",
        "function sleep(ms) {\n",
        "  return new Promise(resolve => setTimeout(resolve, ms));\n",
        "}\n",
        "\n",
        "var data = new Promise(resolve=>{\n",
        "//recordButton.addEventListener(\"click\", toggleRecording);\n",
        "recordButton.onclick = ()=>{\n",
        "toggleRecording()\n",
        "\n",
        "sleep(2000).then(() => {\n",
        "  // wait 2000ms for the data to be available...\n",
        "  // ideally this should use something like await...\n",
        "  //console.log(\"Inside data:\" + base64data)\n",
        "  resolve(base64data.toString())\n",
        "\n",
        "});\n",
        "\n",
        "}\n",
        "});\n",
        "      \n",
        "</script>\n",
        "\"\"\"\n",
        "\n",
        "def get_audio():\n",
        "  display(HTML(AUDIO_HTML))\n",
        "  data = eval_js(\"data\")\n",
        "  binary = b64decode(data.split(',')[1])\n",
        "  \n",
        "  process = (ffmpeg\n",
        "    .input('pipe:0')\n",
        "    .output('pipe:1', format='wav')\n",
        "    .run_async(pipe_stdin=True, pipe_stdout=True, pipe_stderr=True, quiet=True, overwrite_output=True)\n",
        "  )\n",
        "  output, err = process.communicate(input=binary)\n",
        "  \n",
        "  riff_chunk_size = len(output) - 8\n",
        "  # Break up the chunk size into four bytes, held in b.\n",
        "  q = riff_chunk_size\n",
        "  b = []\n",
        "  for i in range(4):\n",
        "      q, r = divmod(q, 256)\n",
        "      b.append(r)\n",
        "\n",
        "  # Replace bytes 4:8 in proc.stdout with the actual size of the RIFF chunk.\n",
        "  riff = output[:4] + bytes(b) + output[8:]\n",
        "\n",
        "  sr, audio = wav_read(io.BytesIO(riff))\n",
        "\n",
        "  return audio, sr"
      ],
      "execution_count": null,
      "outputs": []
    },
    {
      "cell_type": "code",
      "metadata": {
        "colab_type": "code",
        "id": "57xW3GSb6gv0",
        "colab": {
          "base_uri": "https://localhost:8080/",
          "height": 96
        },
        "outputId": "6e2ddf1e-8cb0-4828-a550-967acfa942e9"
      },
      "source": [
        "audio, sr = get_audio()"
      ],
      "execution_count": null,
      "outputs": [
        {
          "output_type": "display_data",
          "data": {
            "text/html": [
              "\n",
              "<script>\n",
              "var my_div = document.createElement(\"DIV\");\n",
              "var my_p = document.createElement(\"P\");\n",
              "var my_btn = document.createElement(\"BUTTON\");\n",
              "var t = document.createTextNode(\"Press to start recording\");\n",
              "\n",
              "my_btn.appendChild(t);\n",
              "//my_p.appendChild(my_btn);\n",
              "my_div.appendChild(my_btn);\n",
              "document.body.appendChild(my_div);\n",
              "\n",
              "var base64data = 0;\n",
              "var reader;\n",
              "var recorder, gumStream;\n",
              "var recordButton = my_btn;\n",
              "\n",
              "var handleSuccess = function(stream) {\n",
              "  gumStream = stream;\n",
              "  var options = {\n",
              "    //bitsPerSecond: 8000, //chrome seems to ignore, always 48k\n",
              "    mimeType : 'audio/webm;codecs=opus'\n",
              "    //mimeType : 'audio/webm;codecs=pcm'\n",
              "  };            \n",
              "  //recorder = new MediaRecorder(stream, options);\n",
              "  recorder = new MediaRecorder(stream);\n",
              "  recorder.ondataavailable = function(e) {            \n",
              "    var url = URL.createObjectURL(e.data);\n",
              "    var preview = document.createElement('audio');\n",
              "    preview.controls = true;\n",
              "    preview.src = url;\n",
              "    document.body.appendChild(preview);\n",
              "\n",
              "    reader = new FileReader();\n",
              "    reader.readAsDataURL(e.data); \n",
              "    reader.onloadend = function() {\n",
              "      base64data = reader.result;\n",
              "      //console.log(\"Inside FileReader:\" + base64data);\n",
              "    }\n",
              "  };\n",
              "  recorder.start();\n",
              "  };\n",
              "\n",
              "recordButton.innerText = \"Recording... press to stop\";\n",
              "\n",
              "navigator.mediaDevices.getUserMedia({audio: true}).then(handleSuccess);\n",
              "\n",
              "\n",
              "function toggleRecording() {\n",
              "  if (recorder && recorder.state == \"recording\") {\n",
              "      recorder.stop();\n",
              "      gumStream.getAudioTracks()[0].stop();\n",
              "      recordButton.innerText = \"Saving the recording... pls wait!\"\n",
              "  }\n",
              "}\n",
              "\n",
              "// https://stackoverflow.com/a/951057\n",
              "function sleep(ms) {\n",
              "  return new Promise(resolve => setTimeout(resolve, ms));\n",
              "}\n",
              "\n",
              "var data = new Promise(resolve=>{\n",
              "//recordButton.addEventListener(\"click\", toggleRecording);\n",
              "recordButton.onclick = ()=>{\n",
              "toggleRecording()\n",
              "\n",
              "sleep(2000).then(() => {\n",
              "  // wait 2000ms for the data to be available...\n",
              "  // ideally this should use something like await...\n",
              "  //console.log(\"Inside data:\" + base64data)\n",
              "  resolve(base64data.toString())\n",
              "\n",
              "});\n",
              "\n",
              "}\n",
              "});\n",
              "      \n",
              "</script>\n"
            ],
            "text/plain": [
              "<IPython.core.display.HTML object>"
            ]
          },
          "metadata": {
            "tags": []
          }
        }
      ]
    },
    {
      "cell_type": "code",
      "metadata": {
        "colab_type": "code",
        "id": "-YilAhGr6gtZ",
        "colab": {}
      },
      "source": [
        "import scipy\n",
        "scipy.io.wavfile.write('recording.wav', sr, audio)"
      ],
      "execution_count": null,
      "outputs": []
    },
    {
      "cell_type": "code",
      "metadata": {
        "id": "_8PbG2BE0wip",
        "colab_type": "code",
        "colab": {
          "base_uri": "https://localhost:8080/",
          "height": 408
        },
        "outputId": "69370642-bcf8-4149-b375-df8367749281"
      },
      "source": [
        "# predict\n",
        "learn.predict('/content/recording.wav')"
      ],
      "execution_count": null,
      "outputs": [
        {
          "output_type": "display_data",
          "data": {
            "text/html": [
              ""
            ],
            "text/plain": [
              "<IPython.core.display.HTML object>"
            ]
          },
          "metadata": {
            "tags": []
          }
        },
        {
          "output_type": "execute_result",
          "data": {
            "text/plain": [
              "((#1) ['Male_speech_and_man_speaking'],\n",
              " tensor([False, False, False, False, False, False, False, False, False, False,\n",
              "         False, False, False, False, False, False, False, False, False, False,\n",
              "         False, False, False, False, False, False, False, False, False, False,\n",
              "         False, False, False, False, False, False, False, False, False, False,\n",
              "         False, False, False, False, False, False,  True, False, False, False,\n",
              "         False, False, False, False, False, False, False, False, False, False,\n",
              "         False, False, False, False, False, False, False, False, False, False,\n",
              "         False, False, False, False, False, False, False, False, False, False]),\n",
              " tensor([1.4874e-04, 5.2985e-04, 1.5519e-04, 6.5230e-05, 1.1259e-03, 1.3496e-04,\n",
              "         2.8725e-03, 3.2145e-04, 4.1172e-05, 9.3645e-04, 6.7578e-05, 6.5916e-04,\n",
              "         2.4148e-06, 3.1597e-05, 1.3871e-04, 1.4699e-02, 6.0451e-04, 7.9161e-05,\n",
              "         3.7646e-05, 3.1538e-04, 1.0247e-04, 1.2654e-05, 1.4830e-05, 2.4849e-05,\n",
              "         1.3216e-03, 6.7106e-05, 9.5194e-05, 1.7562e-04, 5.5565e-05, 2.7568e-01,\n",
              "         2.6376e-03, 2.6365e-03, 2.2521e-01, 3.0416e-04, 1.0131e-06, 6.8531e-07,\n",
              "         1.7913e-04, 5.2196e-05, 4.6521e-05, 1.5089e-02, 2.3449e-05, 2.2225e-06,\n",
              "         3.9311e-05, 8.6070e-06, 6.0205e-05, 6.8233e-03, 7.3345e-01, 7.9104e-03,\n",
              "         7.9146e-06, 1.3603e-03, 2.0456e-03, 2.8402e-04, 2.8915e-04, 2.8668e-04,\n",
              "         5.5904e-04, 2.2927e-05, 1.6190e-04, 4.3124e-05, 4.4000e-04, 2.6482e-05,\n",
              "         4.0672e-04, 3.4170e-04, 1.3894e-04, 5.8994e-04, 4.0242e-03, 4.0863e-03,\n",
              "         1.7226e-05, 5.5999e-05, 1.8209e-04, 6.1200e-04, 6.1274e-05, 1.7709e-05,\n",
              "         2.4007e-05, 9.3458e-05, 4.8658e-05, 6.9617e-06, 2.2549e-03, 9.8345e-05,\n",
              "         3.6500e-02, 1.9039e-04]))"
            ]
          },
          "metadata": {
            "tags": []
          },
          "execution_count": 103
        }
      ]
    },
    {
      "cell_type": "code",
      "metadata": {
        "id": "fya_R7YAi8vM",
        "colab_type": "code",
        "colab": {}
      },
      "source": [
        ""
      ],
      "execution_count": null,
      "outputs": []
    },
    {
      "cell_type": "markdown",
      "metadata": {
        "id": "cRipN-25eTyg",
        "colab_type": "text"
      },
      "source": [
        "List dependencies for render.com requirements.txt:"
      ]
    },
    {
      "cell_type": "code",
      "metadata": {
        "id": "somKe2UdeWhY",
        "colab_type": "code",
        "colab": {
          "base_uri": "https://localhost:8080/",
          "height": 1000
        },
        "outputId": "479c9569-9bd5-4d0d-91e8-bb7ab6c41923"
      },
      "source": [
        "# check all dependencies for deployment requirements.txt on Render.com\n",
        "\n",
        "!pip list"
      ],
      "execution_count": 5,
      "outputs": [
        {
          "output_type": "stream",
          "text": [
            "Package                  Version        \n",
            "------------------------ ---------------\n",
            "absl-py                  0.9.0          \n",
            "alabaster                0.7.12         \n",
            "albumentations           0.1.12         \n",
            "altair                   4.1.0          \n",
            "argon2-cffi              20.1.0         \n",
            "asgiref                  3.2.10         \n",
            "astor                    0.8.1          \n",
            "astropy                  4.0.1.post1    \n",
            "astunparse               1.6.3          \n",
            "atari-py                 0.2.6          \n",
            "atomicwrites             1.4.0          \n",
            "attrs                    19.3.0         \n",
            "audioread                2.1.8          \n",
            "autograd                 1.3            \n",
            "Babel                    2.8.0          \n",
            "backcall                 0.2.0          \n",
            "beautifulsoup4           4.6.3          \n",
            "bleach                   3.1.5          \n",
            "blis                     0.4.1          \n",
            "bokeh                    2.1.1          \n",
            "boto                     2.49.0         \n",
            "boto3                    1.14.33        \n",
            "botocore                 1.17.33        \n",
            "Bottleneck               1.3.2          \n",
            "branca                   0.4.1          \n",
            "bs4                      0.0.1          \n",
            "CacheControl             0.12.6         \n",
            "cachetools               4.1.1          \n",
            "catalogue                1.0.0          \n",
            "certifi                  2020.6.20      \n",
            "cffi                     1.14.1         \n",
            "chainer                  7.4.0          \n",
            "chardet                  3.0.4          \n",
            "click                    7.1.2          \n",
            "cloudpickle              1.3.0          \n",
            "cmake                    3.12.0         \n",
            "cmdstanpy                0.4.0          \n",
            "colorednoise             1.1.1          \n",
            "colorlover               0.3.0          \n",
            "community                1.0.0b1        \n",
            "contextlib2              0.5.5          \n",
            "convertdate              2.2.1          \n",
            "coverage                 3.7.1          \n",
            "coveralls                0.5            \n",
            "crcmod                   1.7            \n",
            "cufflinks                0.17.3         \n",
            "cupy-cuda101             7.4.0          \n",
            "cvxopt                   1.2.5          \n",
            "cvxpy                    1.0.31         \n",
            "cycler                   0.10.0         \n",
            "cymem                    2.0.3          \n",
            "Cython                   0.29.21        \n",
            "daft                     0.0.4          \n",
            "dask                     2.12.0         \n",
            "dataclasses              0.7            \n",
            "datascience              0.10.6         \n",
            "decorator                4.4.2          \n",
            "defusedxml               0.6.0          \n",
            "descartes                1.1.0          \n",
            "dill                     0.3.2          \n",
            "distributed              1.25.3         \n",
            "Django                   3.0.8          \n",
            "dlib                     19.18.0        \n",
            "dm-tree                  0.1.5          \n",
            "docopt                   0.6.2          \n",
            "docutils                 0.15.2         \n",
            "dopamine-rl              1.0.5          \n",
            "earthengine-api          0.1.229        \n",
            "easydict                 1.9            \n",
            "ecos                     2.0.7.post1    \n",
            "editdistance             0.5.3          \n",
            "en-core-web-sm           2.2.5          \n",
            "entrypoints              0.3            \n",
            "ephem                    3.7.7.1        \n",
            "et-xmlfile               1.0.1          \n",
            "fa2                      0.3.5          \n",
            "fancyimpute              0.4.3          \n",
            "fastai                   1.0.61         \n",
            "fastai2                  0.0.21         \n",
            "fastai2-audio            0.0.1          \n",
            "fastcore                 0.1.24         \n",
            "fastdtw                  0.3.4          \n",
            "fastprogress             0.2.4          \n",
            "fastrlock                0.5            \n",
            "fbprophet                0.6            \n",
            "feather-format           0.4.1          \n",
            "featuretools             0.4.1          \n",
            "filelock                 3.0.12         \n",
            "firebase-admin           4.1.0          \n",
            "fix-yahoo-finance        0.0.22         \n",
            "Flask                    1.1.2          \n",
            "folium                   0.8.3          \n",
            "fsspec                   0.8.0          \n",
            "future                   0.16.0         \n",
            "gast                     0.3.3          \n",
            "GDAL                     2.2.2          \n",
            "gdown                    3.6.4          \n",
            "gensim                   3.6.0          \n",
            "geographiclib            1.50           \n",
            "geopy                    1.17.0         \n",
            "gin-config               0.3.0          \n",
            "glob2                    0.7            \n",
            "google                   2.0.3          \n",
            "google-api-core          1.16.0         \n",
            "google-api-python-client 1.7.12         \n",
            "google-auth              1.17.2         \n",
            "google-auth-httplib2     0.0.4          \n",
            "google-auth-oauthlib     0.4.1          \n",
            "google-cloud-bigquery    1.21.0         \n",
            "google-cloud-core        1.0.3          \n",
            "google-cloud-datastore   1.8.0          \n",
            "google-cloud-firestore   1.7.0          \n",
            "google-cloud-language    1.2.0          \n",
            "google-cloud-storage     1.18.1         \n",
            "google-cloud-translate   1.5.0          \n",
            "google-colab             1.0.0          \n",
            "google-pasta             0.2.0          \n",
            "google-resumable-media   0.4.1          \n",
            "googleapis-common-protos 1.52.0         \n",
            "googledrivedownloader    0.4            \n",
            "graphviz                 0.10.1         \n",
            "grpcio                   1.30.0         \n",
            "gspread                  3.0.1          \n",
            "gspread-dataframe        3.0.7          \n",
            "gym                      0.17.2         \n",
            "h5py                     2.10.0         \n",
            "HeapDict                 1.0.1          \n",
            "holidays                 0.9.12         \n",
            "holoviews                1.13.3         \n",
            "html5lib                 1.0.1          \n",
            "httpimport               0.5.18         \n",
            "httplib2                 0.17.4         \n",
            "httplib2shim             0.0.3          \n",
            "humanize                 0.5.1          \n",
            "hyperopt                 0.1.2          \n",
            "ideep4py                 2.0.0.post3    \n",
            "idna                     2.10           \n",
            "image                    1.5.32         \n",
            "imageio                  2.4.1          \n",
            "imagesize                1.2.0          \n",
            "imbalanced-learn         0.4.3          \n",
            "imblearn                 0.0            \n",
            "imgaug                   0.2.9          \n",
            "importlib-metadata       1.7.0          \n",
            "imutils                  0.5.3          \n",
            "inflect                  2.1.0          \n",
            "iniconfig                1.0.1          \n",
            "intel-openmp             2020.0.133     \n",
            "intervaltree             2.1.0          \n",
            "ipykernel                4.10.1         \n",
            "ipython                  5.5.0          \n",
            "ipython-genutils         0.2.0          \n",
            "ipython-sql              0.3.9          \n",
            "ipywidgets               7.5.1          \n",
            "itsdangerous             1.1.0          \n",
            "jax                      0.1.73         \n",
            "jaxlib                   0.1.52         \n",
            "jdcal                    1.4.1          \n",
            "jedi                     0.17.2         \n",
            "jieba                    0.42.1         \n",
            "Jinja2                   2.11.2         \n",
            "jmespath                 0.10.0         \n",
            "joblib                   0.16.0         \n",
            "jpeg4py                  0.1.4          \n",
            "jsonschema               2.6.0          \n",
            "jupyter                  1.0.0          \n",
            "jupyter-client           5.3.5          \n",
            "jupyter-console          5.2.0          \n",
            "jupyter-core             4.6.3          \n",
            "kaggle                   1.5.6          \n",
            "kapre                    0.1.3.1        \n",
            "Keras                    2.4.3          \n",
            "Keras-Preprocessing      1.1.2          \n",
            "keras-vis                0.4.1          \n",
            "kiwisolver               1.2.0          \n",
            "knnimpute                0.1.0          \n",
            "librosa                  0.6.3          \n",
            "lightgbm                 2.2.3          \n",
            "llvmlite                 0.31.0         \n",
            "lmdb                     0.98           \n",
            "lucid                    0.3.8          \n",
            "LunarCalendar            0.0.9          \n",
            "lxml                     4.2.6          \n",
            "Markdown                 3.2.2          \n",
            "MarkupSafe               1.1.1          \n",
            "matplotlib               3.2.2          \n",
            "matplotlib-venn          0.11.5         \n",
            "missingno                0.4.2          \n",
            "mistune                  0.8.4          \n",
            "mizani                   0.6.0          \n",
            "mkl                      2019.0         \n",
            "mlxtend                  0.14.0         \n",
            "more-itertools           8.4.0          \n",
            "moviepy                  0.2.3.5        \n",
            "mpmath                   1.1.0          \n",
            "msgpack                  1.0.0          \n",
            "multiprocess             0.70.10        \n",
            "multitasking             0.0.9          \n",
            "murmurhash               1.0.2          \n",
            "music21                  5.5.0          \n",
            "natsort                  5.5.0          \n",
            "nbconvert                5.6.1          \n",
            "nbformat                 5.0.7          \n",
            "networkx                 2.4            \n",
            "nibabel                  3.0.2          \n",
            "nltk                     3.2.5          \n",
            "notebook                 5.3.1          \n",
            "np-utils                 0.5.12.1       \n",
            "numba                    0.48.0         \n",
            "numexpr                  2.7.1          \n",
            "numpy                    1.18.5         \n",
            "nvidia-ml-py3            7.352.0        \n",
            "oauth2client             4.1.3          \n",
            "oauthlib                 3.1.0          \n",
            "okgrade                  0.4.3          \n",
            "opencv-contrib-python    4.1.2.30       \n",
            "opencv-python            4.1.2.30       \n",
            "openpyxl                 2.5.9          \n",
            "opt-einsum               3.3.0          \n",
            "osqp                     0.6.1          \n",
            "packaging                20.4           \n",
            "palettable               3.3.0          \n",
            "pandas                   1.0.5          \n",
            "pandas-datareader        0.8.1          \n",
            "pandas-gbq               0.11.0         \n",
            "pandas-profiling         1.4.1          \n",
            "pandocfilters            1.4.2          \n",
            "panel                    0.9.7          \n",
            "param                    1.9.3          \n",
            "parso                    0.7.1          \n",
            "pathlib                  1.0.1          \n",
            "patsy                    0.5.1          \n",
            "pexpect                  4.8.0          \n",
            "pickleshare              0.7.5          \n",
            "Pillow                   7.0.0          \n",
            "pip                      19.3.1         \n",
            "pip-tools                4.5.1          \n",
            "plac                     1.1.3          \n",
            "plotly                   4.4.1          \n",
            "plotnine                 0.6.0          \n",
            "pluggy                   0.7.1          \n",
            "portpicker               1.3.1          \n",
            "prefetch-generator       1.0.1          \n",
            "preshed                  3.0.2          \n",
            "prettytable              0.7.2          \n",
            "progressbar2             3.38.0         \n",
            "prometheus-client        0.8.0          \n",
            "promise                  2.3            \n",
            "prompt-toolkit           1.0.18         \n",
            "protobuf                 3.12.4         \n",
            "psutil                   5.4.8          \n",
            "psycopg2                 2.7.6.1        \n",
            "ptyprocess               0.6.0          \n",
            "py                       1.9.0          \n",
            "pyarrow                  0.14.1         \n",
            "pyasn1                   0.4.8          \n",
            "pyasn1-modules           0.2.8          \n",
            "pycocotools              2.0.1          \n",
            "pycparser                2.20           \n",
            "pyct                     0.4.6          \n",
            "pydata-google-auth       1.1.0          \n",
            "pydot                    1.3.0          \n",
            "pydot-ng                 2.0.0          \n",
            "pydotplus                2.0.2          \n",
            "PyDrive                  1.3.1          \n",
            "pyemd                    0.5.1          \n",
            "pyglet                   1.5.0          \n",
            "Pygments                 2.1.3          \n",
            "pygobject                3.26.1         \n",
            "pymc3                    3.7            \n",
            "PyMeeus                  0.3.7          \n",
            "pymongo                  3.11.0         \n",
            "pymystem3                0.2.0          \n",
            "PyOpenGL                 3.1.5          \n",
            "pyparsing                2.4.7          \n",
            "pyrsistent               0.16.0         \n",
            "pysndfile                1.3.8          \n",
            "PySocks                  1.7.1          \n",
            "pystan                   2.19.1.1       \n",
            "pytest                   3.6.4          \n",
            "python-apt               1.6.5+ubuntu0.3\n",
            "python-chess             0.23.11        \n",
            "python-dateutil          2.8.1          \n",
            "python-louvain           0.14           \n",
            "python-slugify           4.0.1          \n",
            "python-utils             2.4.0          \n",
            "pytz                     2018.9         \n",
            "pyviz-comms              0.7.6          \n",
            "PyWavelets               1.1.1          \n",
            "PyYAML                   3.13           \n",
            "pyzmq                    19.0.2         \n",
            "qtconsole                4.7.5          \n",
            "QtPy                     1.9.0          \n",
            "regex                    2019.12.20     \n",
            "requests                 2.23.0         \n",
            "requests-oauthlib        1.3.0          \n",
            "resampy                  0.2.2          \n",
            "retrying                 1.3.3          \n",
            "rpy2                     3.2.7          \n",
            "rsa                      4.6            \n",
            "s3fs                     0.4.2          \n",
            "s3transfer               0.3.3          \n",
            "scikit-image             0.16.2         \n",
            "scikit-learn             0.22.2.post1   \n",
            "scipy                    1.4.1          \n",
            "screen-resolution-extra  0.0.0          \n",
            "scs                      2.1.2          \n",
            "seaborn                  0.10.1         \n",
            "Send2Trash               1.5.0          \n",
            "setuptools               49.2.0         \n",
            "setuptools-git           1.2            \n",
            "Shapely                  1.7.0          \n",
            "simplegeneric            0.8.1          \n",
            "six                      1.15.0         \n",
            "sklearn                  0.0            \n",
            "sklearn-pandas           1.8.0          \n",
            "smart-open               2.1.0          \n",
            "snowballstemmer          2.0.0          \n",
            "sortedcontainers         2.2.2          \n",
            "SoundFile                0.10.3.post1   \n",
            "spacy                    2.2.4          \n",
            "Sphinx                   1.8.5          \n",
            "sphinxcontrib-websupport 1.2.3          \n",
            "SQLAlchemy               1.3.18         \n",
            "sqlparse                 0.3.1          \n",
            "srsly                    1.0.2          \n",
            "statsmodels              0.10.2         \n",
            "sympy                    1.1.1          \n",
            "tables                   3.4.4          \n",
            "tabulate                 0.8.7          \n",
            "tblib                    1.7.0          \n",
            "tensorboard              2.3.0          \n",
            "tensorboard-plugin-wit   1.7.0          \n",
            "tensorboardcolab         0.0.22         \n",
            "tensorflow               2.3.0          \n",
            "tensorflow-addons        0.8.3          \n",
            "tensorflow-datasets      2.1.0          \n",
            "tensorflow-estimator     2.3.0          \n",
            "tensorflow-gcs-config    2.3.0          \n",
            "tensorflow-hub           0.8.0          \n",
            "tensorflow-metadata      0.22.2         \n",
            "tensorflow-privacy       0.2.2          \n",
            "tensorflow-probability   0.11.0         \n",
            "termcolor                1.1.0          \n",
            "terminado                0.8.3          \n",
            "testpath                 0.4.4          \n",
            "text-unidecode           1.3            \n",
            "textblob                 0.15.3         \n",
            "textgenrnn               1.4.1          \n",
            "Theano                   1.0.5          \n",
            "thinc                    7.4.0          \n",
            "tifffile                 2020.7.24      \n",
            "toml                     0.10.1         \n",
            "toolz                    0.10.0         \n",
            "torch                    1.6.0+cu101    \n",
            "torchaudio               0.6.0          \n",
            "torchsummary             1.5.1          \n",
            "torchtext                0.3.1          \n",
            "torchvision              0.7.0+cu101    \n",
            "tornado                  5.1.1          \n",
            "tqdm                     4.41.1         \n",
            "traitlets                4.3.3          \n",
            "tweepy                   3.6.0          \n",
            "typeguard                2.7.1          \n",
            "typing-extensions        3.7.4.2        \n",
            "tzlocal                  1.5.1          \n",
            "umap-learn               0.4.6          \n",
            "uritemplate              3.0.1          \n",
            "urllib3                  1.24.3         \n",
            "vega-datasets            0.8.0          \n",
            "wasabi                   0.7.1          \n",
            "wcwidth                  0.2.5          \n",
            "webencodings             0.5.1          \n",
            "Werkzeug                 1.0.1          \n",
            "wheel                    0.34.2         \n",
            "widgetsnbextension       3.5.1          \n",
            "wordcloud                1.5.0          \n",
            "wrapt                    1.12.1         \n",
            "xarray                   0.15.1         \n",
            "xgboost                  0.90           \n",
            "xkit                     0.0.0          \n",
            "xlrd                     1.1.0          \n",
            "xlwt                     1.3.0          \n",
            "yellowbrick              0.9.1          \n",
            "zict                     2.0.0          \n",
            "zipp                     3.1.0          \n"
          ],
          "name": "stdout"
        }
      ]
    },
    {
      "cell_type": "code",
      "metadata": {
        "id": "LEzqQ5D7eXQz",
        "colab_type": "code",
        "colab": {}
      },
      "source": [
        ""
      ],
      "execution_count": null,
      "outputs": []
    }
  ]
}